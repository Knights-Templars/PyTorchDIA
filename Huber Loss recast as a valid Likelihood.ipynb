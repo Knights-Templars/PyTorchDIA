{
 "cells": [
  {
   "cell_type": "code",
   "execution_count": 58,
   "metadata": {},
   "outputs": [],
   "source": [
    "# imports\n",
    "import sympy as sm\n",
    "import numpy as np\n",
    "import math\n",
    "import matplotlib.pyplot as plt\n",
    "%matplotlib inline"
   ]
  },
  {
   "cell_type": "markdown",
   "metadata": {},
   "source": [
    "In order to recast the Huber loss as a valid likelihood function to be used in likelihood ratio tests, we need to derive the associated normalisation constant. We can achieve this using sympy, a symbolic computation package."
   ]
  },
  {
   "cell_type": "markdown",
   "metadata": {},
   "source": [
    "Using the same notation as in the PyTorchDIA paper, we can start by defining the class of distributions,\n",
    "\n",
    "$f(x) = Q \\times \\frac{1}{\\sigma} \\times \\exp({-\\rho(x)})$.\n",
    "\n",
    "$Q$ is the normalisation constant we're interested in deriving. In order to find $Q$, we need to integrate everything to its right over the entire range of $x$. Setting $Q$ equal to the reciprocal of the result of this integration will ensure that when $f(x)$ is integrated over the entire range of $x$ the result will always be $1$ i.e. $f(x)$ is now a valid probability distribution.\n",
    "\n",
    "We'll start with the Gaussian case, where\n",
    "\n",
    "$\\rho(x) = \\frac{1}{2}\\frac{x^2}{\\sigma^2}\\;.$\n",
    "\n",
    "N.B. Under the above definition for $f(x)$, we already have the $\\sigma$ term that turns up in the usual derivation of the normalisation constant for a Gaussian, so integrating this expression should give us $\\sqrt{2\\pi}$. Let's use sympy to do this for us."
   ]
  },
  {
   "cell_type": "code",
   "execution_count": 2,
   "metadata": {},
   "outputs": [
    {
     "data": {
      "text/latex": [
       "$\\displaystyle \\sqrt{2} \\sqrt{\\pi}$"
      ],
      "text/plain": [
       "sqrt(2)*sqrt(pi)"
      ]
     },
     "execution_count": 2,
     "metadata": {},
     "output_type": "execute_result"
    }
   ],
   "source": [
    "# first, test this out for the gaussian case\n",
    "x, sigma = sm.symbols(\"x, sigma\", real=True, positive=True)\n",
    "rho = ((x / sigma) ** 2 )/ 2\n",
    "loss = sm.exp(-rho) / sigma\n",
    "norm = 2*sm.integrate(loss, (x, 0, sm.oo))\n",
    "sm.simplify(norm)"
   ]
  },
  {
   "cell_type": "markdown",
   "metadata": {},
   "source": [
    "OK great, that seems to work! Now let's do the same for the Huber loss.\n",
    "\n",
    "\\begin{equation}\n",
    "    \\rho_{\\text{Huber}, c}(x) =\n",
    "    \\begin{cases}\n",
    "    \\frac{1}{2}\\frac{x^2}{\\sigma^2}, & \\text{for } |\\frac{x}{\\sigma}|\\leq c \\\\\n",
    "    c(|\\frac{x}{\\sigma}| - \\frac{1}{2}c), & \\text{for } |\\frac{x}{\\sigma}| > c \\;.\n",
    "    \\end{cases}\n",
    "    \\label{eq:huber_loss}\n",
    "\\end{equation}\n",
    "\n",
    "I don't expect the result will be quite as tidy as above!"
   ]
  },
  {
   "cell_type": "code",
   "execution_count": 4,
   "metadata": {},
   "outputs": [
    {
     "data": {
      "text/latex": [
       "$\\displaystyle \\sqrt{2} \\sqrt{\\pi} \\operatorname{erf}{\\left(\\frac{\\sqrt{2} c}{2} \\right)} + \\frac{2 e^{- \\frac{c^{2}}{2}}}{c}$"
      ],
      "text/plain": [
       "sqrt(2)*sqrt(pi)*erf(sqrt(2)*c/2) + 2*exp(-c**2/2)/c"
      ]
     },
     "execution_count": 4,
     "metadata": {},
     "output_type": "execute_result"
    }
   ],
   "source": [
    "# normalisation constant for Huber 'likelihood'\n",
    "x, c, sigma = sm.symbols(\"x, c, sigma\", real=True, positive=True)\n",
    "rho = sm.Piecewise(\n",
    "    ((x / sigma) ** 2 / 2, (x / sigma) <= c),\n",
    "    (c * (sm.Abs(x / sigma) - c / 2), ((x / sigma) > c))\n",
    ")\n",
    "loss = sm.exp(-rho) / sigma\n",
    "norm = 2 * sm.integrate(loss, (x, 0, sm.oo))\n",
    "sm.simplify(norm)"
   ]
  },
  {
   "cell_type": "code",
   "execution_count": 4,
   "metadata": {},
   "outputs": [],
   "source": [
    "#const = (np.sqrt(2 * np.pi) * math.erf(c / np.sqrt(2))) + ((2 / c) * np.exp(-0.5 * c**2)) "
   ]
  },
  {
   "cell_type": "markdown",
   "metadata": {},
   "source": [
    "OK, on to the meat of this notebook. I'm not certain that it makes sense to compare a Huber likelihood against a Gaussian, even for instances in which there are no outlying data points. We can probe this question with a toy example; fitting a straight line to data with known Gaussian uncertainties.\n",
    "\n",
    "It may be that the Huber likelihood (evaluated at the MLE) is strongly dependent on the tuning paramter, $c$. In the case where $c$ tends to infinity, we should expect the same value for the likelihood as for the Gaussian case. In this special case, not only are all residuals from the model treated as 'inliers', but note too that the normalisation constant we found above would also tend to $\\sqrt{2\\pi}$; the error function in the first term becomes unity and the latter term becomes neglibily small. However, for useful, smaller values of $c$ e.g. 1.345, in which 'outlying' residuals are treated linearly rather than quadratically, should we expect to get roughly the same values for the likelihoods? In other words, does the linear treatment of outliers balance with the change to the normalisation constant, which is itself dependent on $c$. I don't see how it could... but's let's verify this numerically."
   ]
  },
  {
   "cell_type": "code",
   "execution_count": 45,
   "metadata": {},
   "outputs": [
    {
     "data": {
      "text/plain": [
       "[<matplotlib.lines.Line2D at 0x7fd565714a90>]"
      ]
     },
     "execution_count": 45,
     "metadata": {},
     "output_type": "execute_result"
    },
    {
     "data": {
      "image/png": "[encoded data removed]",
      "text/plain": [
       "<Figure size 432x288 with 1 Axes>"
      ]
     },
     "metadata": {
      "needs_background": "light"
     },
     "output_type": "display_data"
    }
   ],
   "source": [
    "## Generate some mock data\n",
    "\n",
    "# The linear model with slope 2 and intercept 1:\n",
    "true_params = [2.0, 1.0]\n",
    "\n",
    "# points drawn from true model\n",
    "np.random.seed(42)\n",
    "x = np.sort(np.random.uniform(-2, 2, 30))\n",
    "yerr = 0.4 * np.ones_like(x)\n",
    "y = true_params[0] * x + true_params[1] + yerr * np.random.randn(len(x))\n",
    "\n",
    "# true line\n",
    "x0 = np.linspace(-2.1, 2.1, 200)\n",
    "y0 = np.dot(np.vander(x0, 2), true_params)\n",
    "\n",
    "# plot\n",
    "plt.errorbar(x, y, yerr=yerr, fmt=\",k\", ms=0, capsize=0, lw=1, zorder=999)\n",
    "plt.scatter(x, y, marker=\"s\", s=22, c=\"k\", zorder=1000)\n",
    "plt.plot(x0, y0, c='k')"
   ]
  },
  {
   "cell_type": "code",
   "execution_count": 46,
   "metadata": {},
   "outputs": [],
   "source": [
    "# analytic solution - MLE for a priori known Gaussian noise\n",
    "def linear_regression(x, y, yerr):\n",
    "    A = np.vander(x, 2)\n",
    "    result = np.linalg.solve(np.dot(A.T, A / yerr[:, None]**2), np.dot(A.T, y / yerr**2))\n",
    "    return result\n",
    "\n",
    "res = linear_regression(x, y, yerr)\n",
    "m, b = res"
   ]
  },
  {
   "cell_type": "code",
   "execution_count": 47,
   "metadata": {},
   "outputs": [],
   "source": [
    "# optimise Huber loss\n",
    "\n",
    "import torch\n",
    "# initialise model parameters (y = m*x + b)\n",
    "m_robust = torch.nn.Parameter(1e-3*torch.ones(1), requires_grad = True)\n",
    "b_robust = torch.nn.Parameter(1e-3*torch.ones(1), requires_grad = True)\n",
    "params_robust = list([m_robust, b_robust])\n",
    "\n",
    "# negative log-likelihood for Huber likelihood (excluding the irrelevant normalisation constant)\n",
    "def nll_Huber(model, data, yerr, c):\n",
    "    \n",
    "    # ln_sigma is same as above\n",
    "    ln_sigma = torch.log(yerr).sum()\n",
    "\n",
    "    # define inliers and outliers with a threshold, c\n",
    "    resid = torch.abs((model - data)/yerr)\n",
    "    cond1 = resid <= c\n",
    "    cond2 = resid > c\n",
    "    \n",
    "    inliers = ((model - data)/yerr)[cond1]\n",
    "    outliers = ((model - data)/yerr)[cond2]\n",
    "    \n",
    "    # Huber loss can be thought of as a hybrid of l2 and l1 loss\n",
    "    # apply l2 (i.e. normal) loss to inliers, and l1 to outliers\n",
    "    l2 = 0.5*torch.pow(inliers, 2).sum()\n",
    "    l1 = (c * torch.abs(outliers) - (0.5 * c**2)).sum()\n",
    "    \n",
    "    nll = ln_sigma + l2 + l1\n",
    "    \n",
    "    return nll\n",
    "\n",
    "# pass paramterers to optimizer\n",
    "optimizer_robust = torch.optim.Adam(params_robust, lr = 0.01)"
   ]
  },
  {
   "cell_type": "code",
   "execution_count": 53,
   "metadata": {},
   "outputs": [
    {
     "name": "stdout",
     "output_type": "stream",
     "text": [
      "0   : loss=-16.117150  m=2.061463  b=0.942204\n",
      "100 : loss=-16.138877  m=2.075715  b=0.943876\n",
      "200 : loss=-16.138879  m=2.075600  b=0.943839\n",
      "300 : loss=-16.138879  m=2.075600  b=0.943839\n",
      "400 : loss=-16.138879  m=2.075600  b=0.943839\n",
      "500 : loss=-16.138879  m=2.075600  b=0.943839\n",
      "600 : loss=-16.138879  m=2.075600  b=0.943839\n",
      "700 : loss=-16.138879  m=2.075600  b=0.943839\n",
      "800 : loss=-16.138879  m=2.075600  b=0.943839\n",
      "900 : loss=-16.138879  m=2.075600  b=0.943839\n",
      "1000: loss=-16.138879  m=2.075600  b=0.943839\n",
      "1100: loss=-16.138879  m=2.075600  b=0.943839\n",
      "1200: loss=-16.138879  m=2.075600  b=0.943839\n",
      "1300: loss=-16.138879  m=2.075600  b=0.943839\n",
      "1400: loss=-16.138879  m=2.075600  b=0.943839\n",
      "1500: loss=-16.138879  m=2.075600  b=0.943839\n",
      "1600: loss=-16.138879  m=2.075600  b=0.943839\n",
      "1700: loss=-16.138879  m=2.075600  b=0.943839\n",
      "1800: loss=-16.138879  m=2.075601  b=0.943839\n",
      "1900: loss=-16.138879  m=2.075601  b=0.943839\n"
     ]
    }
   ],
   "source": [
    "# tuning parameter, c\n",
    "c = 1.345\n",
    "\n",
    "xt, yt, yerrt = torch.from_numpy(x), torch.from_numpy(y), torch.from_numpy(yerr)\n",
    "\n",
    "for epoch in range(2000): \n",
    "\n",
    "    model = m_robust*xt + b_robust\n",
    "    \n",
    "    # negative loglikelihood\n",
    "    loss = nll_Huber(model, yt, yerrt, c)\n",
    "    \n",
    "    optimizer_robust.zero_grad() \n",
    "    loss.backward() \n",
    "    optimizer_robust.step()\n",
    "    \n",
    "    if np.mod(epoch, 100) == 0:\n",
    "        # You can see the alpha+scale parameters moving around.\n",
    "        print('{:<4}: loss={:03f}  m={:03f}  b={:03f}'.format(\n",
    "            epoch, loss.item(), m_robust.item(), b_robust.item())) "
   ]
  },
  {
   "cell_type": "code",
   "execution_count": 54,
   "metadata": {},
   "outputs": [],
   "source": [
    "m_r, b_r = m_robust.item(), b_robust.item()"
   ]
  },
  {
   "cell_type": "code",
   "execution_count": 55,
   "metadata": {},
   "outputs": [],
   "source": [
    "def evaluate_gaussian_log_likelihood(data, model, var):\n",
    "    print('\\nGaussian log-likelihood')\n",
    "    chi2 = 0.5 * ((data - model)**2 / var).sum()\n",
    "    lnsigma = np.log(np.sqrt(var)).sum()\n",
    "    norm_constant = len(data.flatten()) * 0.5 * np.log(2 * np.pi)\n",
    "    print('chi2, lnsigma, norm_constant:', chi2, lnsigma, norm_constant)\n",
    "    return -(chi2 + lnsigma + norm_constant)\n",
    "\n",
    "def evaluate_huber_log_likelihood(data, model, var, c):\n",
    "    print('\\nHuber log-likelihood')\n",
    "    \n",
    "    ## PyTorchDIA - 'Huber' likelihood\n",
    "    sigma = np.sqrt(var)\n",
    "    ln_sigma = np.log(sigma).sum()\n",
    "\n",
    "    # gaussian when (model - targ)/sigma <= c\n",
    "    # absolute deviation when (model - targ)/sigma > c\n",
    "    cond1 = np.abs((model - data)/sigma) <= c\n",
    "    cond2 = np.abs((model - data)/sigma) > c\n",
    "    inliers = ((model - data)/sigma)[cond1]\n",
    "    outliers = ((model - data)/sigma)[cond2]\n",
    "\n",
    "    l2 = 0.5*(np.power(inliers, 2)).sum()\n",
    "    l1 = (c *(np.abs(outliers)) - (0.5 * c**2)).sum()\n",
    "\n",
    "    constant = (np.sqrt(2 * np.pi) * math.erf(c / np.sqrt(2))) + ((2 / c) * np.exp(-0.5 * c**2)) \n",
    "    norm_constant = len(data.flatten()) * np.log(constant)\n",
    "    ll = -(l2 + l1 + ln_sigma + norm_constant)\n",
    "    print('l2, l1, ln_sigma, norm_constant:', l2, l1, ln_sigma, norm_constant)\n",
    "    return ll"
   ]
  },
  {
   "cell_type": "code",
   "execution_count": 56,
   "metadata": {},
   "outputs": [],
   "source": [
    "# MLE models\n",
    "model = m*x + b # Gaussian\n",
    "model_r = m_r*x + b_r # Huber"
   ]
  },
  {
   "cell_type": "code",
   "execution_count": 57,
   "metadata": {},
   "outputs": [
    {
     "name": "stdout",
     "output_type": "stream",
     "text": [
      "\n",
      "Gaussian log-likelihood\n",
      "chi2, lnsigma, norm_constant: 173.83346014331022 -27.488721956224655 27.56815599614018\n",
      "-173.91289418322575\n",
      "\n",
      "Huber log-likelihood\n",
      "l2, l1, ln_sigma, norm_constant: 4.538741913408627 81.53652455056039 -27.488721956224655 29.357945837155103\n",
      "-87.94449034489946\n"
     ]
    }
   ],
   "source": [
    "ll_gaussian = evaluate_gaussian_log_likelihood(x, model, yerr**2)\n",
    "print(ll_gaussian)\n",
    "ll_huber = evaluate_huber_log_likelihood(x, model_r, yerr**2, c=c)\n",
    "print(ll_huber)"
   ]
  },
  {
   "cell_type": "markdown",
   "metadata": {},
   "source": [
    "Unless I've blundered, it seems like the Huber log-likelihood is always going to exceed the Gaussian due to how the numerics are treated. If this is indeed correct, then any comparison between the two would be meaningless."
   ]
  },
  {
   "cell_type": "code",
   "execution_count": null,
   "metadata": {},
   "outputs": [],
   "source": []
  }
 ],
 "metadata": {
  "kernelspec": {
   "display_name": "Python 3",
   "language": "python",
   "name": "python3"
  },
  "language_info": {
   "codemirror_mode": {
    "name": "ipython",
    "version": 3
   },
   "file_extension": ".py",
   "mimetype": "text/x-python",
   "name": "python",
   "nbconvert_exporter": "python",
   "pygments_lexer": "ipython3",
   "version": "3.7.4"
  }
 },
 "nbformat": 4,
 "nbformat_minor": 2
}
