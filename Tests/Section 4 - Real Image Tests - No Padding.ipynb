{
 "cells": [
  {
   "cell_type": "markdown",
   "metadata": {},
   "source": [
    "This notebook runs the Real (EMCCD) Image Tests in Section 4 of the manuscript. Why EMCCD images? The majority of collaborators on this project are affiliated with the MiNDSTEp consortium, and specifically, the associated microlensing follow-up observing campaign with the Lucky Imaging camera on the Danish 1.54 m (ESO, La Silla). As such, there's a strong motivation to test how well PyTorchDIA performs on these high frame rate imaging data. While the PSF is always very well sampled, it can take irregular forms, resulting in complicated convolution kernels."
   ]
  },
  {
   "cell_type": "code",
   "execution_count": 1,
   "metadata": {
    "colab": {
     "base_uri": "https://localhost:8080/",
     "height": 176
    },
    "colab_type": "code",
    "id": "XAKDgZV8OJru",
    "outputId": "ef6f85ca-3faa-46b2-e0d7-a310e4e36e81"
   },
   "outputs": [
    {
     "name": "stdout",
     "output_type": "stream",
     "text": [
      "PyTorch version: 1.6.0\n",
      "PyTorch version: 1.6.0\n"
     ]
    }
   ],
   "source": [
    "# imports\n",
    "import numpy as np\n",
    "import os\n",
    "import glob\n",
    "from astropy.io import fits\n",
    "from astropy.io.fits import getdata\n",
    "from astropy.stats import mad_std\n",
    "from astropy.stats import SigmaClip\n",
    "from astropy.nddata import Cutout2D\n",
    "from photutils import background, detection, DAOStarFinder\n",
    "import time\n",
    "import matplotlib.pyplot as plt\n",
    "from scipy.signal import convolve2d\n",
    "from scipy.ndimage.interpolation import shift\n",
    "from scipy.stats import norm\n",
    "import math\n",
    "import PyTorchDIA_Newton # this is an old version of the PyTorchDIA code - used for the 'PSF' inference\n",
    "import PyTorchDIA_EMCCD_NoPad\n",
    "import torch\n",
    "%matplotlib inline"
   ]
  },
  {
   "cell_type": "code",
   "execution_count": 2,
   "metadata": {},
   "outputs": [],
   "source": [
    "# set this to True for reproducibility\n",
    "#torch.backends.cudnn.deterministic = True"
   ]
  },
  {
   "cell_type": "markdown",
   "metadata": {},
   "source": [
    "The following two cells setup the Cython routines required for the pyDANDIA implementation of the B08 algorithm."
   ]
  },
  {
   "cell_type": "code",
   "execution_count": 3,
   "metadata": {},
   "outputs": [],
   "source": [
    "%load_ext Cython"
   ]
  },
  {
   "cell_type": "code",
   "execution_count": 4,
   "metadata": {},
   "outputs": [],
   "source": [
    "%%cython\n",
    "\n",
    "## pyDANDIA functions consistent with no padding\n",
    "\n",
    "\n",
    "from __future__ import division\n",
    "import numpy as np\n",
    "cimport numpy as np\n",
    "cimport cython\n",
    "DTYPE = np.float64\n",
    "ctypedef np.float64_t DTYPE_t\n",
    "\n",
    "# compile suggestion: gcc -shared -pthread -fPIC -fwrapv -O2 -Wall -fno-strict-aliasing -I/somepath/include/python2.7 -o umatrix_routine.so umatrix_routine.c\n",
    "\n",
    "@cython.boundscheck(False) # turn off bounds-checking\n",
    "@cython.wraparound(False)  # turn off negative index wrapping\n",
    "@cython.nonecheck(False)  # turn off negative index wrapping\n",
    "\n",
    "def umatrix_construction(np.ndarray[DTYPE_t, ndim = 2] reference_image,np.ndarray[DTYPE_t, ndim = 2] weights, pandq, n_kernel_np, kernel_size_np):\n",
    "\n",
    "    cdef int ni_image = np.shape(reference_image)[0]\n",
    "    cdef int nj_image = np.shape(reference_image)[1]\n",
    "    cdef double sum_acc = 0.\n",
    "    cdef int idx_l,idx_m,idx_l_prime,idx_m_prime,idx_i,idx_j\n",
    "    cdef int kernel_size = np.int(kernel_size_np)\n",
    "    cdef int kernel_size_half = np.int(kernel_size_np)/2\n",
    "    cdef int n_kernel = np.int(n_kernel_np)\n",
    "    cdef np.ndarray u_matrix = np.zeros([n_kernel + 1, n_kernel + 1], dtype=DTYPE)\n",
    "\n",
    "    for idx_p in range(n_kernel):\n",
    "        for idx_q in range(idx_p,n_kernel):\n",
    "            sum_acc = 0.\n",
    "            idx_l, idx_m = pandq[idx_p]\n",
    "            idx_l_prime, idx_m_prime = pandq[idx_q]\n",
    "            for idx_i in range(kernel_size_half, ni_image - kernel_size_half):\n",
    "                for idx_j in range(kernel_size_half, nj_image - kernel_size_half):\n",
    "                    sum_acc += reference_image[idx_i + idx_l, idx_j + idx_m] * reference_image[idx_i + idx_l_prime,idx_j + idx_m_prime]  * weights[idx_i, idx_j]\n",
    "            u_matrix[idx_p, idx_q] = sum_acc\n",
    "            u_matrix[idx_q, idx_p] = sum_acc\n",
    "\n",
    "    for idx_p in [n_kernel]:\n",
    "        for idx_q in range(n_kernel):\n",
    "            sum_acc = 0.\n",
    "            idx_l = kernel_size\n",
    "            idx_m = kernel_size\n",
    "            idx_l_prime, idx_m_prime = pandq[idx_q]\n",
    "            for idx_i in range(kernel_size_half, ni_image - kernel_size_half):\n",
    "                for idx_j in range(kernel_size_half, nj_image - kernel_size_half):\n",
    "                    sum_acc += reference_image[idx_i + idx_l_prime, idx_j + idx_m_prime] * weights[idx_i, idx_j]\n",
    "            u_matrix[idx_p, idx_q] = sum_acc\n",
    "    \n",
    "    for idx_p in range(n_kernel):\n",
    "        for idx_q in [n_kernel]:\n",
    "            sum_acc = 0.\n",
    "            idx_l, idx_m = pandq[idx_p]\n",
    "            idx_l_prime = kernel_size\n",
    "            idl_m_prime = kernel_size\n",
    "            for idx_i in range(kernel_size_half, ni_image - kernel_size_half):\n",
    "                for idx_j in range(kernel_size_half, nj_image-kernel_size_half):\n",
    "                    sum_acc += reference_image[idx_i + idx_l, idx_j + idx_m] * weights[idx_i, idx_j] \n",
    "            u_matrix[idx_p, idx_q] = sum_acc\n",
    "\n",
    "    sum_acc = 0.\n",
    "    for idx_i in range(kernel_size_half, ni_image - kernel_size_half):\n",
    "        for idx_j in range(kernel_size_half, nj_image-kernel_size_half):\n",
    "            sum_acc += weights[idx_i, idx_j] \n",
    "    u_matrix[n_kernel, n_kernel] = sum_acc\n",
    "    \n",
    "    return u_matrix\n",
    "\n",
    "def bvector_construction(np.ndarray[DTYPE_t, ndim = 2] reference_image,np.ndarray[DTYPE_t, ndim = 2] data_image,np.ndarray[DTYPE_t, ndim = 2] weights, pandq, n_kernel_np, kernel_size_np):\n",
    "\n",
    "    cdef int ni_image = np.shape(data_image)[0]\n",
    "    cdef int nj_image = np.shape(data_image)[1]\n",
    "    cdef double sum_acc = 0.\n",
    "    cdef int idx_l,idx_m,idx_l_prime,idx_m_prime,idx_i,idx_j\n",
    "    cdef int kernel_size = np.int(kernel_size_np)\n",
    "    cdef int kernel_size_half = np.int(kernel_size_np)/2\n",
    "    cdef int n_kernel = np.int(n_kernel_np)\n",
    "        \n",
    "    cdef np.ndarray b_vector = np.zeros([n_kernel + 1], dtype=DTYPE)\n",
    "    for idx_p in range(n_kernel):\n",
    "        idx_l, idx_m = pandq[idx_p]\n",
    "        sum_acc = 0.\n",
    "        for idx_i in range(kernel_size_half, ni_image - kernel_size_half):\n",
    "            for idx_j in range(kernel_size_half,nj_image - kernel_size_half):\n",
    "                   sum_acc += data_image[idx_i, idx_j] * reference_image[idx_i + idx_l , idx_j + idx_m ] * weights[idx_i, idx_j]\n",
    "        b_vector[idx_p] = sum_acc\n",
    "\n",
    "    sum_acc = 0.\n",
    "    for idx_i in range(kernel_size_half, ni_image - kernel_size_half):\n",
    "        for idx_j in range(kernel_size_half, nj_image - kernel_size_half):\n",
    "            sum_acc += data_image[idx_i, idx_j] * weights[idx_i, idx_j]\n",
    "    b_vector[n_kernel] = sum_acc\n",
    "\n",
    "    return b_vector"
   ]
  },
  {
   "cell_type": "code",
   "execution_count": 5,
   "metadata": {},
   "outputs": [],
   "source": [
    "# function to build the kernel, U matrix and b vector\n",
    "def construct_kernel_and_matrices(kernel_size, R, I, weights):\n",
    "\n",
    "    pandq = []\n",
    "    n_kernel = kernel_size * kernel_size\n",
    "    ncount = 0\n",
    "    half_kernel_size = int(int(kernel_size) / 2)\n",
    "    for lidx in range(kernel_size):\n",
    "        for midx in range(kernel_size):\n",
    "            pandq.append((lidx - half_kernel_size, midx - half_kernel_size))\n",
    "\n",
    "\n",
    "    R = R.astype('float64')\n",
    "    I =  I.astype('float64')\n",
    "    weights = weights.astype('float64')\n",
    "\n",
    "    start_time = time.time()\n",
    "    U = umatrix_construction(R, weights, pandq, n_kernel, kernel_size)\n",
    "    b = bvector_construction(R, I, weights, pandq, n_kernel, kernel_size)\n",
    "    print(\"--- Finished U and b construction in %s seconds ---\" % (time.time() - start_time))\n",
    "    return U, b\n",
    "\n",
    "\n",
    "# define a function for the least-squares solution\n",
    "def lstsq_solution(R, I, U, b, kernel_size):\n",
    "    \n",
    "    lstsq_result = np.linalg.lstsq(np.array(U), np.array(b), rcond=None)\n",
    "    a_vector = lstsq_result[0]\n",
    "    lstsq_fit = np.dot(np.array(U), a_vector)\n",
    "    resid = np.array(b) - lstsq_fit\n",
    "    reduced_chisqr = np.sum(resid ** 2) / (float(kernel_size * kernel_size))\n",
    "    lstsq_cov = np.dot(np.array(U).T, np.array(U)) * reduced_chisqr\n",
    "    resivar = np.var(resid, ddof=0) * float(len(a_vector))\n",
    "    \n",
    "    # use pinv in order to stabilize calculation\n",
    "    a_var = np.diag(np.linalg.pinv(lstsq_cov) * resivar)\n",
    "\n",
    "    a_vector_err = np.sqrt(a_var)\n",
    "    output_kernel = np.zeros(kernel_size * kernel_size, dtype=float)\n",
    "    if len(a_vector) > kernel_size * kernel_size:\n",
    "        output_kernel = a_vector[:-1]\n",
    "    else:\n",
    "        output_kernel = a_vector\n",
    "    output_kernel = output_kernel.reshape((kernel_size, kernel_size))\n",
    "\n",
    "    err_kernel = np.zeros(kernel_size * kernel_size, dtype=float)\n",
    "    if len(a_vector) > kernel_size * kernel_size:\n",
    "        err_kernel = a_vector_err[:-1]\n",
    "        err_kernel = err_kernel.reshape((kernel_size, kernel_size))\n",
    "    else:\n",
    "        err_kernel = a_vector_err\n",
    "        err_kernel = err_kernel.reshape((kernel_size, kernel_size))\n",
    "\n",
    "    output_kernel_2 = np.flip(np.flip(output_kernel, 0), 1)\n",
    "    err_kernel_2 = np.flip(np.flip(err_kernel, 0), 1)\n",
    "    bkg_kernel = a_vector[-1]\n",
    "    output_kernel_2.shape\n",
    "\n",
    "    return output_kernel_2, bkg_kernel"
   ]
  },
  {
   "cell_type": "markdown",
   "metadata": {},
   "source": [
    "OK, let's move on to our data set. This consists of 250 EMCCD  images, each of which is formed of as many as 3000 shift-and-stacked 0.1 second exposures (i.e. approx. 5 min total integration time). Each image is 512x512 pixels, with scale of 0.09 arcsecond/pixel. First, I'll grab the reference image - this was identified as the 'best' by the associated routine in the pyDANDIA pipeline, and is also the sharpest."
   ]
  },
  {
   "cell_type": "code",
   "execution_count": 6,
   "metadata": {},
   "outputs": [],
   "source": [
    "## path to images\n",
    "path = 'OGLE-III-BLG101'"
   ]
  },
  {
   "cell_type": "code",
   "execution_count": 7,
   "metadata": {
    "colab": {
     "base_uri": "https://localhost:8080/",
     "height": 1000
    },
    "colab_type": "code",
    "id": "DJ1PDV3UOVu4",
    "outputId": "6163f8fd-b4a2-473c-faf9-20263d152c77"
   },
   "outputs": [
    {
     "name": "stdout",
     "output_type": "stream",
     "text": [
      "Reference FWHM: 5.625057500773691\n",
      "Reference std: 2.388559448311546\n",
      "Reference TOT_IM: 3000.0\n",
      "Reference shape: 512 512\n"
     ]
    }
   ],
   "source": [
    "## reference image\n",
    "ref_file = os.path.join(path, 'coll_OGLE-III-BLG101_Llr_2019-07-20_00048.fits')\n",
    "ref_data = getdata(ref_file, header=True)\n",
    "ref, ref_fwhm, ref_totim, ref_date = ref_data[0], ref_data[1]['FWHM'], ref_data[1]['TOT_IM'],  ref_data[1]['MJD_ST']\n",
    "nx, ny = ref.shape\n",
    "print('Reference FWHM:', ref_fwhm)\n",
    "print('Reference std:', ref_fwhm / 2.355)\n",
    "print('Reference TOT_IM:', ref_totim) #  total number of shift-and-stacked exposures (max=3000)\n",
    "print('Reference shape:', nx, ny) # pixels"
   ]
  },
  {
   "cell_type": "code",
   "execution_count": 8,
   "metadata": {},
   "outputs": [
    {
     "name": "stdout",
     "output_type": "stream",
     "text": [
      "\n",
      "File: OGLE-III-BLG101/coll_OGLE-III-BLG101_Llr_2019-07-20_00035.fits\n",
      "FWHM: 6.864821738138722\n",
      "TOT_IM: 3000.0\n",
      "Date: 58684.11970511498\n",
      "Date diff: -0.06732322089374065\n",
      "x-shift: 8.29\n",
      "y-shift: -2.05\n",
      "Resampling data to template (bicubic spline)\n",
      "\n",
      "File: OGLE-III-BLG101/coll_OGLE-III-BLG101_Llr_2019-07-20_00034.fits\n",
      "FWHM: 6.631810219842555\n",
      "TOT_IM: 2999.0\n",
      "Date: 58684.11609726679\n",
      "Date diff: -0.07093106907996116\n",
      "x-shift: 5.5\n",
      "y-shift: -1.89\n",
      "Resampling data to template (bicubic spline)\n",
      "\n",
      "File: OGLE-III-BLG101/coll_OGLE-III-BLG101_Llr_2019-07-20_00050.fits\n",
      "FWHM: 6.704921111506455\n",
      "TOT_IM: 3000.0\n",
      "Date: 58684.19446237944\n",
      "Date diff: 0.007434043567627668\n",
      "x-shift: -0.53\n",
      "y-shift: 3.7\n",
      "Resampling data to template (bicubic spline)\n",
      "\n",
      "File: OGLE-III-BLG101/coll_OGLE-III-BLG101_Llr_2019-07-20_00051.fits\n",
      "FWHM: 6.498920239913948\n",
      "TOT_IM: 3000.0\n",
      "Date: 58684.19809795031\n",
      "Date diff: 0.011069614440202713\n",
      "x-shift: -2.97\n",
      "y-shift: 4.25\n",
      "Resampling data to template (bicubic spline)\n",
      "\n",
      "File: OGLE-III-BLG101/coll_OGLE-III-BLG101_Llr_2019-07-20_00052.fits\n",
      "FWHM: 6.449494152951041\n",
      "TOT_IM: 3000.0\n",
      "Date: 58684.2017268925\n",
      "Date diff: 0.014698556624352932\n",
      "x-shift: -9.37\n",
      "y-shift: 9.42\n",
      "Resampling data to template (bicubic spline)\n",
      "\n",
      "File: OGLE-III-BLG101/coll_OGLE-III-BLG101_Llr_2019-07-20_00046.fits\n",
      "FWHM: 5.958833698312699\n",
      "TOT_IM: 3000.0\n",
      "Date: 58684.17980617192\n",
      "Date diff: -0.0072221639566123486\n",
      "x-shift: 4.38\n",
      "y-shift: 1.55\n",
      "Resampling data to template (bicubic spline)\n",
      "\n",
      "File: OGLE-III-BLG101/coll_OGLE-III-BLG101_Llr_2019-07-20_00047.fits\n",
      "FWHM: 6.428048870216698\n",
      "TOT_IM: 3000.0\n",
      "Date: 58684.18341622222\n",
      "Date diff: -0.0036121136508882046\n",
      "x-shift: 7.4\n",
      "y-shift: 0.0\n",
      "Resampling data to template (bicubic spline)\n",
      "\n",
      "File: OGLE-III-BLG101/coll_OGLE-III-BLG101_Llr_2019-07-20_00044.fits\n",
      "FWHM: 6.216606559883312\n",
      "TOT_IM: 3000.0\n",
      "Date: 58684.17259500921\n",
      "Date diff: -0.014433326665312052\n",
      "x-shift: 4.47\n",
      "y-shift: -1.81\n",
      "Resampling data to template (bicubic spline)\n",
      "\n",
      "File: OGLE-III-BLG101/coll_OGLE-III-BLG101_Llr_2019-07-20_00045.fits\n",
      "FWHM: 6.184646843525311\n",
      "TOT_IM: 3000.0\n",
      "Date: 58684.17620163457\n",
      "Date diff: -0.010826701305632014\n",
      "x-shift: 6.16\n",
      "y-shift: -1.1\n",
      "Resampling data to template (bicubic spline)\n",
      "\n",
      "File: OGLE-III-BLG101/coll_OGLE-III-BLG101_Llr_2019-07-20_00036.fits\n",
      "FWHM: 6.412210011714929\n",
      "TOT_IM: 2999.0\n",
      "Date: 58684.12331485702\n",
      "Date diff: -0.06371347885578871\n",
      "x-shift: 1.9\n",
      "y-shift: 1.54\n",
      "Resampling data to template (bicubic spline)\n",
      "\n",
      "File: OGLE-III-BLG101/coll_OGLE-III-BLG101_Llr_2019-07-20_00053.fits\n",
      "FWHM: 5.992526027292525\n",
      "TOT_IM: 3000.0\n",
      "Date: 58684.20533839986\n",
      "Date diff: 0.018310063984245062\n",
      "x-shift: -11.94\n",
      "y-shift: 10.12\n",
      "Resampling data to template (bicubic spline)\n",
      "\n",
      "File: OGLE-III-BLG101/coll_OGLE-III-BLG101_Llr_2019-07-20_00049.fits\n",
      "FWHM: 5.962166169327562\n",
      "TOT_IM: 3000.0\n",
      "Date: 58684.19084754167\n",
      "Date diff: 0.0038192057982087135\n",
      "x-shift: -1.97\n",
      "y-shift: 2.75\n",
      "Resampling data to template (bicubic spline)\n",
      "Total number of stacked images: 13\n",
      "Reference FWHM: 6.864821738138722\n",
      "Reference std: 2.914998614920901\n",
      "Reference TOT_IM: 38998.0\n",
      "Reference shape: 512 512\n"
     ]
    }
   ],
   "source": [
    "### OPTIONAL - generate a stacked reference?\n",
    "from skimage.feature import register_translation\n",
    "\n",
    "# save np.ndarray as a .fits file    \n",
    "def save_numpy_as_fits(numpy_array, filename):\n",
    "    '''\n",
    "    Takes a numpy aray, and saves it as a (headerless) fits file.\n",
    "    '''\n",
    "    hdu = fits.PrimaryHDU(numpy_array)\n",
    "    hdul = fits.HDUList([hdu])\n",
    "    hdul.writeto(filename, overwrite=True)\n",
    "\n",
    "def align(template, data):\n",
    "    \n",
    "    # subpixel precision shifts (via cross-correlation between template and data)\n",
    "    shifts, error, diffphase = register_translation(template, data, 100)\n",
    "    xs, ys = shifts[1], shifts[0]\n",
    "\n",
    "    print('x-shift:', xs)\n",
    "    print('y-shift:', ys)\n",
    "\n",
    "    print('Resampling data to template (bicubic spline)')\n",
    "    shifted_data = shift(data, (int(ys), int(xs)), order=3, cval=0)\n",
    "    \n",
    "    return shifted_data\n",
    "\n",
    "##########################################\n",
    "\n",
    "save_numpy_as_fits(ref, 'ref.fits')\n",
    "\n",
    "ref_fwhms = []\n",
    "ref_totims = []\n",
    "\n",
    "for image_file in glob.glob(os.path.join(path, \"*coll*\")):\n",
    "    if \"2019-07-20\" in image_file and \"00048\" not in image_file:\n",
    "        print('\\nFile:', image_file)\n",
    "        image_data = getdata(image_file, header=True)\n",
    "        image, header = image_data[0], image_data[1]\n",
    "        print('FWHM:', header['FWHM'])\n",
    "        print('TOT_IM:', header['TOT_IM'])\n",
    "        print('Date:', header['MJD_ST'])\n",
    "        print('Date diff:', header['MJD_ST'] - ref_date)\n",
    "        ref_fwhms.append(header['FWHM'])\n",
    "        ref_totims.append(header['TOT_IM'])\n",
    "        shifted_image = align(ref, image)\n",
    "        ref += shifted_image\n",
    "        \n",
    "#### DIVIDE STACKED REFERENCE BY THE NUMBER OF STACKED IMAGES (as in B16)??\n",
    "N_ref_ims = len(ref_fwhms) + 1\n",
    "print('Total number of stacked images:', N_ref_ims)\n",
    "ref /= N_ref_ims\n",
    "        \n",
    "save_numpy_as_fits(ref, 'stacked_ref.fits')\n",
    "\n",
    "ref_fwhm = np.max(ref_fwhms)\n",
    "ref_totim = np.sum(ref_totims) + 3000 # + 3000 from template\n",
    "print('Reference FWHM:', ref_fwhm)\n",
    "print('Reference std:', ref_fwhm / 2.355)\n",
    "print('Reference TOT_IM:', ref_totim) #  total number of shift-and-stacked exposures (max=3000)\n",
    "print('Reference shape:', nx, ny) # pixels"
   ]
  },
  {
   "cell_type": "code",
   "execution_count": 9,
   "metadata": {},
   "outputs": [
    {
     "name": "stdout",
     "output_type": "stream",
     "text": [
      "EMCCD image: including Excess Noise Factor in the CCD noise model\n",
      "Iteration 1 of 1\n",
      "Estimating 2D background on the first pass...\n"
     ]
    },
    {
     "data": {
      "image/png": "[encoded data removed]",
      "text/plain": [
       "<Figure size 432x288 with 2 Axes>"
      ]
     },
     "metadata": {
      "needs_background": "light"
     },
     "output_type": "display_data"
    },
    {
     "name": "stdout",
     "output_type": "stream",
     "text": [
      "Finding initial guess for image FWHM...\n",
      "FWHM_0: 12\n",
      "Found a total of 372 sources!\n",
      "Kept 5 source(s) for FWHM inference.\n"
     ]
    },
    {
     "data": {
      "image/png": "[encoded data removed]",
      "text/plain": [
       "<Figure size 432x288 with 2 Axes>"
      ]
     },
     "metadata": {
      "needs_background": "light"
     },
     "output_type": "display_data"
    },
    {
     "data": {
      "image/png": "[encoded data removed]",
      "text/plain": [
       "<Figure size 432x288 with 2 Axes>"
      ]
     },
     "metadata": {
      "needs_background": "light"
     },
     "output_type": "display_data"
    },
    {
     "data": {
      "image/png": "[encoded data removed]",
      "text/plain": [
       "<Figure size 432x288 with 2 Axes>"
      ]
     },
     "metadata": {
      "needs_background": "light"
     },
     "output_type": "display_data"
    },
    {
     "data": {
      "image/png": "[encoded data removed]",
      "text/plain": [
       "<Figure size 432x288 with 2 Axes>"
      ]
     },
     "metadata": {
      "needs_background": "light"
     },
     "output_type": "display_data"
    },
    {
     "data": {
      "image/png": "[encoded data removed]",
      "text/plain": [
       "<Figure size 432x288 with 2 Axes>"
      ]
     },
     "metadata": {
      "needs_background": "light"
     },
     "output_type": "display_data"
    },
    {
     "data": {
      "image/png": "[encoded data removed]",
      "text/plain": [
       "<Figure size 432x288 with 2 Axes>"
      ]
     },
     "metadata": {
      "needs_background": "light"
     },
     "output_type": "display_data"
    },
    {
     "data": {
      "image/png": "[encoded data removed]",
      "text/plain": [
       "<Figure size 432x288 with 2 Axes>"
      ]
     },
     "metadata": {
      "needs_background": "light"
     },
     "output_type": "display_data"
    },
    {
     "data": {
      "image/png": "[encoded data removed]",
      "text/plain": [
       "<Figure size 432x288 with 2 Axes>"
      ]
     },
     "metadata": {
      "needs_background": "light"
     },
     "output_type": "display_data"
    },
    {
     "data": {
      "image/png": "[encoded data removed]",
      "text/plain": [
       "<Figure size 432x288 with 2 Axes>"
      ]
     },
     "metadata": {
      "needs_background": "light"
     },
     "output_type": "display_data"
    },
    {
     "data": {
      "image/png": "[encoded data removed]",
      "text/plain": [
       "<Figure size 432x288 with 2 Axes>"
      ]
     },
     "metadata": {
      "needs_background": "light"
     },
     "output_type": "display_data"
    },
    {
     "data": {
      "image/png": "[encoded data removed]",
      "text/plain": [
       "<Figure size 432x288 with 2 Axes>"
      ]
     },
     "metadata": {
      "needs_background": "light"
     },
     "output_type": "display_data"
    },
    {
     "data": {
      "image/png": "[encoded data removed]",
      "text/plain": [
       "<Figure size 432x288 with 2 Axes>"
      ]
     },
     "metadata": {
      "needs_background": "light"
     },
     "output_type": "display_data"
    },
    {
     "data": {
      "image/png": "[encoded data removed]",
      "text/plain": [
       "<Figure size 432x288 with 2 Axes>"
      ]
     },
     "metadata": {
      "needs_background": "light"
     },
     "output_type": "display_data"
    },
    {
     "data": {
      "image/png": "[encoded data removed]",
      "text/plain": [
       "<Figure size 432x288 with 2 Axes>"
      ]
     },
     "metadata": {
      "needs_background": "light"
     },
     "output_type": "display_data"
    },
    {
     "data": {
      "image/png": "[encoded data removed]",
      "text/plain": [
       "<Figure size 432x288 with 2 Axes>"
      ]
     },
     "metadata": {
      "needs_background": "light"
     },
     "output_type": "display_data"
    },
    {
     "name": "stdout",
     "output_type": "stream",
     "text": [
      "Median FWHM: 6.812011939287186\n",
      "Median phi_r: 2.8925740718841553\n"
     ]
    }
   ],
   "source": [
    "## TO DO: VERFIY GAUSSIAN FWHM / PHI_R FOR STACKED REFERENCE\n",
    "def source_detection(data, fwhm, thresh, saturation, psf_sources, flat, EMCCD, reference=False, rdnoise=1, G=1, N=1, diagnostics=True, empirical=False, robust=False):\n",
    "\n",
    "    '''\n",
    "    # Arguments\n",
    "    * data (ndarray): Image data\n",
    "    * flat (ndarray): Flat field used to calibrate 'data'\n",
    "    \n",
    "    # Keyword arguments\n",
    "    * fwhm (float): Prior estimate of image fwhm (used for point source detection)\n",
    "    * thresh (float): Detection threshold for point sources. Specifically, the number of standard deviations above the background\n",
    "    * saturation (int): Saturation limit for detector\n",
    "    * psf_sources (int): The maximum top number of brightest sources used to infer the FWHM\n",
    "    * EMCCD (bool): If True, the usual CCD noise model will be modified to be appropriate for EMCCD images\n",
    "    * reference (bool): If true, the inferred PSF model is used for optimal flux extraction of the detected sources\n",
    "      to produce a source_table for the reference, which includes columns for the measured fluxes and their uncertanties\n",
    "    * rdnoise (float): Detector readout noise in ADU\n",
    "    * G (float): Detector gain in e-/ADU\n",
    "    * N (int): If EMCCD is True, this represents the number of shift-and-stacked frames\n",
    "    * diagnostics (bool): If true, plots of the measured sky background, PSF models, and (if reference == True) residuals\n",
    "      following optimal flux extraction of source stamps are displayed\n",
    "      \n",
    "    # Returns\n",
    "    * if reference == True:\n",
    "        source_table (QTable): table of measured properties of detected sources in the reference frame\n",
    "        psf_model (ndarray): the inferred PSF model in the reference (Bivariate 2D Moffat)\n",
    "    \n",
    "    * else:\n",
    "        np.median(fwhm) (float): the median fwhm of 'psf_sources'\n",
    "        total_sources (int): the total number of detected sources for 'data'\n",
    "    '''\n",
    "    \n",
    "    ### if EMCCD, include Excess the Factor in the noise model\n",
    "    if EMCCD == True:\n",
    "        print('EMCCD image: including Excess Noise Factor in the CCD noise model')\n",
    "        E = 2\n",
    "    else:\n",
    "        E = 1\n",
    "    \n",
    "    # non-negativity\n",
    "    if (data <= 0).any():\n",
    "        print('This image has negative pixel values, which violate the noise model!')\n",
    "        dc = np.abs(np.min(data)) + 1e-3\n",
    "        print('Adding a DC bias offset:', dc)\n",
    "        data += dc\n",
    "    \n",
    "    # make a copy of the data image\n",
    "    data0 = np.copy(data)\n",
    "    \n",
    "    # image shape\n",
    "    ymax, xmax = data0.shape\n",
    "    \n",
    "    # if reference is True, we can apply basic differential corrections to the image model\n",
    "    if reference == True:\n",
    "        maxiter = 2\n",
    "    else:\n",
    "        maxiter = 1\n",
    "        \n",
    "    for iteration in range(0, maxiter):\n",
    "        \n",
    "        print('Iteration %d of %d' % (iteration+1, maxiter))\n",
    "        \n",
    "        # background subtraciton - rolling Median filter\n",
    "        if iteration == 0:\n",
    "            print('Estimating 2D background on the first pass...')\n",
    "            sigma_clip = SigmaClip(sigma=3.)\n",
    "            bkg_estimator = background.MedianBackground()\n",
    "            box_shape = (50,50)\n",
    "            bkg = background.Background2D(data0, box_shape, filter_size=(3, 3),\n",
    "                                sigma_clip=sigma_clip, bkg_estimator=bkg_estimator)\n",
    "        \n",
    "        if diagnostics == True:\n",
    "            plt.imshow(bkg.background, origin='lower')\n",
    "            plt.title('Background estimate for image')\n",
    "            plt.colorbar()\n",
    "            plt.show()\n",
    "                    \n",
    "        \n",
    "        # differential correction\n",
    "        if iteration > 0:\n",
    "            bkg.background -= delta_S0\n",
    "            plt.imshow(bkg.background, origin='lower')\n",
    "            plt.title('Updated background estimate for image (scalar shift)')\n",
    "            plt.colorbar()\n",
    "            plt.show()\n",
    "        \n",
    "        # subtract the 2D background\n",
    "        # N.B. 'data' here is 'sky-subtracted' (calibrated) image data\n",
    "        data = data0 - bkg.background\n",
    "                \n",
    "        # Median Absolute Deviation\n",
    "        std = mad_std(data)\n",
    "        \n",
    "        # find point sources\n",
    "        # a priori, the fwhm is not known. Indeed, we need to first identify\n",
    "        # point sources in order to infer this... as such, trial a number of \n",
    "        # fwhm fed to DAOStarFinder, and pick the one which returns the most sources\n",
    "        if reference == False:\n",
    "            fwhms = np.array([1, 2, 3, 4, 5, 7, 9, 12, 15])\n",
    "            n_sources = np.zeros(fwhms.shape)\n",
    "            print('Finding initial guess for image FWHM...')\n",
    "            for f,fwhm in enumerate(fwhms):\n",
    "\n",
    "                daofind = DAOStarFinder(fwhm=fwhm, threshold=thresh*std)\n",
    "                source_table = daofind(data)\n",
    "                try:\n",
    "                    n_sources[f] = len(source_table)\n",
    "                except TypeError:\n",
    "                    n_sources[f] = 0\n",
    "               \n",
    "            fwhm0 = fwhms[np.where(n_sources == np.max(n_sources))][0]\n",
    "            print('FWHM_0:', fwhm0)\n",
    "         \n",
    "        else:\n",
    "            fwhm0 = fwhm\n",
    "        \n",
    "        daofind = DAOStarFinder(fwhm=fwhm0, threshold=thresh*std)\n",
    "        source_table = daofind(data)\n",
    "        \n",
    "        # make a note of all detected sources in the image\n",
    "        total_sources = len(source_table)\n",
    "        \n",
    "        print('Found a total of %d sources!' % total_sources)\n",
    "\n",
    "        # Remove saturated stars\n",
    "        sources = source_table[np.where(source_table['peak'] < saturation)]\n",
    "        sources.sort('peak')\n",
    "        sources.reverse()\n",
    "\n",
    "        # Store the number of identified sources and fraction of saturated pixels\n",
    "        # Discount stars too close to the edges of the image\n",
    "        nstars = len(sources)\n",
    "        \n",
    "        # ignore sources 'x' fwhms from the image edge\n",
    "        bound = np.int(3.1 * fwhm0)\n",
    "\n",
    "        sources = sources[np.where((sources['xcentroid'] > bound) &\n",
    "                          (sources['xcentroid'] < xmax-bound) &\n",
    "                          (sources['ycentroid'] < ymax-bound) &\n",
    "                          (sources['ycentroid'] > bound))]\n",
    "\n",
    "\n",
    "        # Keep only up to 100 stars\n",
    "        sources = sources[0:100]\n",
    "        \n",
    "        # Remove stars with close neighbours (within r=10 pix)\n",
    "        sources_with_close_stars_ids = []\n",
    "\n",
    "        for i in np.arange(len(sources)):\n",
    "\n",
    "            source_i = sources[i]\n",
    "\n",
    "            for other_source in sources[i+1:]:\n",
    "\n",
    "                if (np.sqrt((source_i['xcentroid']-other_source['xcentroid'])**2 +\n",
    "                         (source_i['ycentroid']-other_source['ycentroid'])**2) <= 10 ):\n",
    "\n",
    "                    sources_with_close_stars_ids.append(i)\n",
    "                        #print source_i, other_source\n",
    "\n",
    "                continue\n",
    "\n",
    "        # Keep up to N isolated sources only (may be fewer)\n",
    "        sources.remove_rows(sources_with_close_stars_ids)\n",
    "        sources = sources[0:psf_sources]\n",
    "\n",
    "        print(\"Kept %s source(s) for FWHM inference.\" % str(len(sources)))\n",
    "        \n",
    "        # use fwhm as a measurement of image sharpness\n",
    "        fwhms = []\n",
    "        \n",
    "        # store these to construct a PSF model for the reference image\n",
    "        if reference is True:\n",
    "            x0s = []\n",
    "            y0s = []\n",
    "            gamma_xs = []\n",
    "            gamma_ys = []\n",
    "            alphas = []\n",
    "            phis = []\n",
    "            \n",
    "\n",
    "        # iterate over bright detected sources\n",
    "        i = 0\n",
    "        \n",
    "        # stamp size for PSF fit\n",
    "        ss = (np.ceil(2*fwhm0) // 2 * 2 + 1).astype(int)\n",
    "        stamp_size = (ss, ss)\n",
    "          \n",
    "        while (i <= len(sources)-1):\n",
    "        \n",
    "            # stamp shape for psf_model fit\n",
    "            #stamp_size = (31, 31)\n",
    "\n",
    "            position = [sources[i]['xcentroid'], sources[i]['ycentroid']]\n",
    "            cutout = Cutout2D(data, position, stamp_size) # in pixels\n",
    "            bkg_cutout = Cutout2D(bkg.background, position, stamp_size)\n",
    "            flat_cutout = Cutout2D(flat, position, stamp_size) \n",
    "\n",
    "            #yc, xc = cutout.position_cutout\n",
    "            \n",
    "            # create psf stamp\n",
    "            psf_stamp = np.zeros(stamp_size)\n",
    "            nx, ny = psf_stamp.shape\n",
    "            xg, yg = np.meshgrid(range(nx), range(ny))\n",
    "            centre = np.int(psf_stamp.shape[0]/2)\n",
    "            \n",
    "            # convert numpy arrays to tensors\n",
    "            xg, yg, = torch.Tensor(xg), torch.Tensor(yg)\n",
    "            stamp_data = torch.Tensor(cutout.data)\n",
    "            stamp_bkg = torch.Tensor(bkg_cutout.data)\n",
    "            stamp_flat = torch.Tensor(flat_cutout.data)\n",
    "            \n",
    "            \n",
    "            if iteration == 0:\n",
    "                noise_stamp = torch.sqrt(N*(rdnoise/stamp_flat)**2 + E*(stamp_data + stamp_bkg)/(G*stamp_flat))\n",
    "                \n",
    "            else:\n",
    "                model_cutout = Cutout2D(image_model, position, stamp_size)\n",
    "                stamp_model = torch.Tensor(model_cutout.data)\n",
    "                noise_stamp = torch.sqrt(N*(rdnoise/stamp_flat)**2 + E*(stamp_model)/(G*stamp_flat))\n",
    "\n",
    "\n",
    "            # initialise model parameters\n",
    "            f = torch.nn.Parameter(torch.max(stamp_data)*torch.ones(1), requires_grad = True)\n",
    "            x0 = torch.nn.Parameter(0.5*ss*torch.ones(1), requires_grad = True)\n",
    "            y0 = torch.nn.Parameter(0.5*ss*torch.ones(1), requires_grad = True)\n",
    "            phi_r = torch.nn.Parameter(torch.ones(1), requires_grad = True)\n",
    "            \n",
    "            params = list([f, x0, y0, phi_r])\n",
    "            \n",
    "            '''\n",
    "            gamma_x = torch.nn.Parameter(torch.ones(1), requires_grad = True)\n",
    "            gamma_y = torch.nn.Parameter(torch.ones(1), requires_grad = True)\n",
    "            alpha = torch.nn.Parameter(torch.ones(1), requires_grad = True)\n",
    "            b = torch.nn.Parameter(1e-3*torch.ones(1), requires_grad = True)\n",
    "            phi = torch.nn.Parameter(1e-3*torch.ones(1), requires_grad = True) # radians\n",
    "            params = list([f, x0, y0, gamma_x, gamma_y, alpha, b, phi])\n",
    "            '''\n",
    "            \n",
    "            \n",
    "            # initialise optimizer with parameter list        \n",
    "            optimizer_LBFGS = torch.optim.LBFGS(params, tolerance_change=1e-9, history_size=100, line_search_fn='strong_wolfe')\n",
    "            \n",
    "            def closure_psf():\n",
    "                optimizer_LBFGS.zero_grad()\n",
    "                model = psf_model(params)\n",
    "                loss = l2(stamp_data, model, noise_stamp)\n",
    "                loss.backward()\n",
    "                return loss\n",
    "            \n",
    "            def psf_model(params):\n",
    "                \n",
    "                '''\n",
    "                # unpack parameters\n",
    "                f, x0, y0, gamma_x, gamma_y, alpha, b, phi = params\n",
    "                \n",
    "                # create psf_model stamp\n",
    "                A = (torch.cos(phi) / gamma_x)**2 + (torch.sin(phi) / gamma_y)**2\n",
    "                B = (torch.sin(phi) / gamma_x)**2 + (torch.cos(phi) / gamma_y)**2\n",
    "                C = 2 * torch.sin(phi) * torch.cos(phi) * ((1./gamma_x**2) - (1./gamma_y**2))\n",
    "                rr_gg = A*(xg - x0)**2 + B*(yg - y0)**2 + C*(xg - x0)*(yg - y0)\n",
    "                psf_stamp = f * ((1 + rr_gg) ** (-alpha)) + b \n",
    "                '''\n",
    "                \n",
    "                f, x0, y0, phi_r = params\n",
    "                \n",
    "                rr_gg = (- 0.5 * phi_r**(-2)) * ((xg - x0)**2 + (yg - y0)**2)\n",
    "                psf_stamp = f * torch.exp(rr_gg)\n",
    "                \n",
    "                return psf_stamp           \n",
    "\n",
    "            # define some scalar objective function to minimise\n",
    "            def l2(data, model, uncertanties):\n",
    "                # l2 norm\n",
    "                l2 = (data - model)**2 / uncertanties**2\n",
    "                return torch.sum(l2)\n",
    "\n",
    "            # keep track of losses\n",
    "            losses = []\n",
    "            \n",
    "            for epoch in range(50): \n",
    "              \n",
    "                optimizer_LBFGS.step(closure_psf)\n",
    "                \n",
    "                model = psf_model(params)\n",
    "                \n",
    "                loss = l2(stamp_data, model, noise_stamp)\n",
    "\n",
    "                losses.append(loss.item())\n",
    "                \n",
    "                if epoch > 1 and abs((losses[-1] - losses[-2])/ losses[-2]) < 1e-9:\n",
    "                    break\n",
    "\n",
    "\n",
    "            if diagnostics == True:\n",
    "                plt.imshow(stamp_data.detach().numpy())\n",
    "                plt.title('Image Data stamp')\n",
    "                plt.colorbar();\n",
    "                plt.show();\n",
    "\n",
    "                plt.imshow(model.detach().numpy())\n",
    "                plt.title('PSF model')\n",
    "                plt.colorbar()\n",
    "                plt.show();\n",
    "                \n",
    "                plt.imshow((stamp_data.detach().numpy() - model.detach().numpy()) / noise_stamp.detach().numpy())\n",
    "                plt.title('Normalised Residuals')\n",
    "                plt.colorbar()\n",
    "                plt.show();\n",
    "            \n",
    "            \n",
    "            # psf shape parameters\n",
    "            #f, x0, y0, gamma_x, gamma_y, alpha, b, phi = f.item(), x0.item(), y0.item(), gamma_x.item(), gamma_y.item(), alpha.item(), b.item(), phi.item()\n",
    "            #print('(Normalised) PSF fit parameters (Moffat 2D):')\n",
    "            #print('f, x0, y0, gamma_x, gamma_y, alpha, b, phi:', f, x0, y0, gamma_x, gamma_y, alpha, b, phi)\n",
    "            \n",
    "            f, x0, y0, phi_r = f.item(), x0.item(), y0.item(), phi_r.item()\n",
    "            \n",
    "            # compute fwhm\n",
    "            #gamma = np.sqrt(gamma_x**2 + gamma_y**2)\n",
    "            #gamma = (gamma_x + gamma_y) / 2.0\n",
    "            #fwhm = 2.0 * np.abs(gamma) * np.sqrt(2.0 ** (1.0 / alpha) - 1.0)\n",
    "            fwhm = 2.355 * phi_r\n",
    "            \n",
    "            fwhms.append(fwhm)\n",
    "                        \n",
    "            if reference is True:\n",
    "                x0s.append(x0)\n",
    "                y0s.append(y0)\n",
    "                gamma_xs.append(gamma_x)\n",
    "                gamma_ys.append(gamma_y)\n",
    "                alphas.append(alpha)\n",
    "                phis.append(phi)\n",
    "                \n",
    "\n",
    "            i = i + 1\n",
    "            \n",
    "    return fwhms\n",
    "            \n",
    "fwhms = source_detection(ref, ref_fwhm, thresh=5, saturation=1e10, psf_sources=5, flat=np.ones(ref.shape),\n",
    "                 EMCCD=True,\n",
    "                 reference=False,\n",
    "                 rdnoise=2.55, G=25.8/300, N=3000, diagnostics=True, empirical=False, robust=False)\n",
    "\n",
    "print('Median FWHM:', np.median(fwhms))\n",
    "print('Median phi_r:', np.median(fwhms) / 2.355)\n",
    "ref_fwhm = np.median(fwhms)"
   ]
  },
  {
   "cell_type": "markdown",
   "metadata": {},
   "source": [
    "For these tests we will need to perform PSF-fitting photometry to assess the photometric accuracy of the B08 and PyTorchDIA approaches. We therefore need an accurate model PSF in these images. Due to the complicated nature of the Lucky Imager's PSF, analytical models such as Gaussians and Moffat's won't cut it; we need to construct an empirical model!\n",
    "\n",
    "It turns out that we can use some flavour of PyTorchDIA to do just this. If we were to replace our reference image with (approximate) delta-functions only at the positions of the stars and set all other pixels to 0, the associated 'kernel' that convolves this representation of the scene to any given data image should be a reasonable model for the PSF of that data image. Let's start by constructing this 'delta-function' scene."
   ]
  },
  {
   "cell_type": "code",
   "execution_count": 10,
   "metadata": {},
   "outputs": [],
   "source": [
    "## find bright star peaks above given threshold (sky subtract)\n",
    "## we'll also use this source list in the next cell to identify\n",
    "## suitable stars for the PSF fitting photometry.\n",
    "sky, std, thrs = np.median(ref), mad_std(ref), 5\n",
    "daofind_bright = DAOStarFinder(fwhm=ref_fwhm, threshold=thrs*std)  \n",
    "sources = daofind_bright(ref - sky)\n",
    "\n",
    "ref_delta_positions = np.transpose((sources['xcentroid'], sources['ycentroid'], sources['peak']))\n",
    "\n",
    "# delta function positions\n",
    "dbf_x = ref_delta_positions[:,0].astype(int)\n",
    "dbf_y = ref_delta_positions[:,1].astype(int)\n",
    "\n",
    "# mask non peak positions\n",
    "mask_image = np.zeros(ref.shape)\n",
    "mask_image[dbf_y, dbf_x] = 1\n",
    "\n",
    "# apply mask to a copy of the reference image\n",
    "ref_delta = np.copy(ref)\n",
    "ref_delta[mask_image == 0] = 0"
   ]
  },
  {
   "cell_type": "code",
   "execution_count": 11,
   "metadata": {},
   "outputs": [
    {
     "name": "stdout",
     "output_type": "stream",
     "text": [
      "Detected a total of 236 sources\n",
      "Whittled down to 37 sources after flux cut\n",
      "Using 30 sources to assess photometric accuracy.\n"
     ]
    }
   ],
   "source": [
    "print('Detected a total of %d sources' % len(sources))\n",
    "\n",
    "# avoid bad regions at the edges\n",
    "#source_table = sources[(sources['xcentroid'] > 50) & (sources['xcentroid'] < (nx - 50))]\n",
    "#source_table = source_table[(source_table['ycentroid'] > 50) & (source_table['ycentroid'] < (ny - 60))]\n",
    "\n",
    "source_table = sources[(sources['xcentroid'] > 71) & (sources['xcentroid'] < (nx - 71))]\n",
    "source_table = source_table[(source_table['ycentroid'] > 71) & (source_table['ycentroid'] < (ny - 71))]\n",
    "\n",
    "# brightness cut\n",
    "#plt.hist(source_table['peak'], bins=400)\n",
    "#plt.xlim(-1, 2e5)\n",
    "#plt.show();\n",
    "#print(len(source_table[source_table['peak'] > 1e4]))\n",
    "source_table = source_table[source_table['peak'] > 3e4]\n",
    "\n",
    "print('Whittled down to %d sources after flux cut' % len(source_table))\n",
    "\n",
    "# identified variables and/or sources missing entries\n",
    "ignore = np.array([ 0,  1, 22, 25, 27, 28, 33])\n",
    "ignore_ids = source_table[ignore]['id']\n",
    "\n",
    "for ii in ignore_ids:\n",
    "    source_table = source_table[source_table['id'] != ii]\n",
    "    \n",
    "    \n",
    "print('Using %d sources to assess photometric accuracy.' % len(source_table))"
   ]
  },
  {
   "cell_type": "code",
   "execution_count": 12,
   "metadata": {},
   "outputs": [
    {
     "name": "stdout",
     "output_type": "stream",
     "text": [
      "Avoiding all images acquired on 2019-07-20, as these were used to construct the reference frame.\n",
      "Found a total of 238 useful data images.\n"
     ]
    }
   ],
   "source": [
    "## master flat\n",
    "#path = 'LOB190560Z'\n",
    "\n",
    "#flat_file = os.path.join(path, 'master_flat.fits')\n",
    "#master_flat = getdata(flat_file, 0, header=True)[0]\n",
    "\n",
    "## shifts\n",
    "shift_info = os.path.join(path, 'Shift_info.txt')\n",
    "shifts = np.genfromtxt(shift_info, delimiter=\"\\t\", dtype=str) # filename | xs | ys\n",
    "\n",
    "# store some of the house-keeping data\n",
    "fnames = []\n",
    "images = []\n",
    "FWHMs = []\n",
    "Tot_ims = []\n",
    "\n",
    "# avoid reference and a file with a badly incorrect pointing\n",
    "avoid = [ref_file, '2019-07-28_00000.fits']\n",
    "\n",
    "print('Avoiding all images acquired on 2019-07-20, as these were used to construct the reference frame.')\n",
    "for image_file in glob.glob(os.path.join(path, \"*coll*\")):\n",
    "    if image_file not in avoid and '2019-07-20' not in image_file:\n",
    "        image_data = getdata(image_file, header=True)\n",
    "        image, header = image_data[0], image_data[1]\n",
    "        # there are some 30 Hz exposures mixed in with the 10 Hz we're interested in,\n",
    "        # so avoid any image where TOT_IM > 3000\n",
    "        if header['TOT_IM'] <= 3000.0:\n",
    "            fnames.append(image_file.split('/')[-1])\n",
    "            images.append(image)\n",
    "            FWHMs.append(header['FWHM'])\n",
    "            Tot_ims.append(header['TOT_IM'])\n",
    "        \n",
    "\n",
    "# we'll also need the master flat fields to include in our noise model\n",
    "master_flats = []\n",
    "master_flat_dates = []\n",
    "for flat_file in glob.glob(os.path.join(path, \"Master_flats_OGLE-III-BLG101/*.fits\")):\n",
    "    flat = getdata(flat_file, header=False)\n",
    "    master_flats.append(flat)\n",
    "    master_flat_dates.append(flat_file.split('_')[-1].split('.')[0])\n",
    "\n",
    "\n",
    "# convert to numpy arrays (float32)\n",
    "#images, FWHMs, Tot_ims = np.array(images, dtype=np.float32), np.array(FWHMs), np.array(Tot_ims, dtype=np.int)\n",
    "#master_flats = np.array(master_flats, dtype=np.float32)\n",
    "print('Found a total of %d useful data images.' % len(images))"
   ]
  },
  {
   "cell_type": "code",
   "execution_count": 15,
   "metadata": {},
   "outputs": [
    {
     "name": "stdout",
     "output_type": "stream",
     "text": [
      "(238,)\n",
      "[3.14219199 2.41733805 1.09689339 4.22523653 3.5117746  3.45823451\n",
      " 3.5723281  2.63089154 3.18276821 2.80895059 1.415985   1.11882166\n",
      " 2.82611483 3.5660924  3.40354224        nan 1.8555535  3.52065596\n",
      " 3.70161289        nan 1.8549917  0.4234861         nan 0.76949545\n",
      " 1.24676481 4.29423284 5.09378236 2.77202226 0.95561587 2.27167058\n",
      "        nan 2.20548439 3.5531202  4.24281195 4.5698718  3.57298275\n",
      " 6.00587507 1.56524439 2.75346048 3.57068242 4.09116338 2.84097105\n",
      "        nan 2.40304959 4.12467285 2.62677103 3.23337197 2.15015375\n",
      " 2.60976464        nan 0.367141   3.12480657 1.83862736 3.4316581\n",
      "        nan 2.99664091 1.28653674 1.47696326 2.28502855 2.49308528\n",
      " 1.66220986 3.52955404        nan 3.88074118 2.7945867  2.46677978\n",
      " 3.81002682 2.05881257 5.18079643 3.29280986 2.6959888  2.16098078\n",
      " 4.59501431 3.10246191 4.13595938 2.0238274  2.16908004 3.45453217\n",
      "        nan        nan 2.30482984 3.13465945 3.31883201 1.73124555\n",
      " 3.59217395        nan 0.73096224 1.84641087 2.86102711 2.28254247\n",
      " 3.28943431 1.78954346 2.369736   2.92043723 1.04931563 0.73401517\n",
      " 4.35234805 4.69740081 0.85940784 2.56682793 1.88390733 1.38748924\n",
      " 2.41709377 3.52947669 1.9382848  2.84873241 2.2809519  2.00114758\n",
      " 4.018658          nan 4.51699706        nan 1.78999797 1.3111491\n",
      " 2.86497088 3.94300232 1.63524886        nan 4.46995451        nan\n",
      " 1.66337826 2.92878805 1.32913078 2.90234659 2.23739976 1.90825561\n",
      "        nan 3.48185855 2.51227422        nan 0.8030588  1.68646735\n",
      " 2.09090078 2.66127606 4.32420966 3.80810757 5.32354365 2.99351902\n",
      " 2.77524024 2.0896173  2.76158505 1.78345928 3.40689167 3.76750406\n",
      " 3.17911514 3.77082965        nan 4.17549815 4.34644187 2.21912907\n",
      " 0.74439117 1.80768854        nan 2.04617405 2.76882845 3.83423713\n",
      " 4.14370615 3.03897479 2.18642636        nan 3.14036761 1.45817271\n",
      " 4.48031559 2.25046425 3.52614701 1.89513856 2.72860084 3.34454993\n",
      " 2.0129486  3.21887443 3.50291126 3.3453629  2.95499648 3.34111626\n",
      " 1.45328517 0.70988539 3.7922739  1.32965157 1.85436443 3.38168377\n",
      " 2.97236132        nan 3.29546058 2.62460375 2.52667067 4.87580864\n",
      " 3.97145489 3.07435623 3.49681541 2.03123878 2.16504067 1.66971299\n",
      " 3.0192857  0.99910977 1.86191631 1.8284105         nan        nan\n",
      " 1.44890079 2.08753435 2.42233273        nan 1.19377275 3.49979184\n",
      " 4.48985688 4.25922845 2.03855923 0.99071193 4.78069659 1.6872345\n",
      " 0.39796046 2.87548422        nan        nan 2.00228938 3.46185007\n",
      " 0.61272629 0.89311979 1.90799036 1.95890782 2.38999787 3.22757988\n",
      " 3.73493234        nan 2.500796   4.4438005  2.88297258 3.31747825\n",
      " 2.15440875 3.90967878 4.19483393 4.79789927        nan 3.11816772\n",
      " 1.59262529 3.52383517 3.04028913 3.22392398]\n",
      "Instances with oversampled kernel: 195\n",
      "Instances with undersampled kernel: 15\n",
      "Median and max phi_i: 3.827495502526792 6.666147323095894\n"
     ]
    },
    {
     "name": "stderr",
     "output_type": "stream",
     "text": [
      "/home/jah94/anaconda3/lib/python3.7/site-packages/ipykernel_launcher.py:3: RuntimeWarning: invalid value encountered in sqrt\n",
      "  This is separate from the ipykernel package so we can avoid doing imports until\n",
      "/home/jah94/anaconda3/lib/python3.7/site-packages/ipykernel_launcher.py:10: RuntimeWarning: invalid value encountered in greater\n",
      "  # Remove the CWD from sys.path while we load stuff.\n",
      "/home/jah94/anaconda3/lib/python3.7/site-packages/ipykernel_launcher.py:11: RuntimeWarning: invalid value encountered in less\n",
      "  # This is added back by InteractiveShellApp.init_path()\n"
     ]
    }
   ],
   "source": [
    "## For comparison with the simulated image tests in Section 3, which kernel sampling regime are we in?\n",
    "## oversampled kernel\n",
    "fwhm_k = np.sqrt(np.array(FWHMs)**2 - ref_fwhm**2)\n",
    "## convert fwhm to standard deviation N.B. this is a very course estimate of phi_k\n",
    "## since the PSF of the Danish is not well approximated by a Gaussian in general\n",
    "phi_k = fwhm_k / 2.355\n",
    "print(phi_k.shape)\n",
    "print(phi_k)\n",
    "## oversampled kernel\n",
    "print('Instances with oversampled kernel:', len(phi_k[phi_k > 1]))\n",
    "print('Instances with undersampled kernel:', len(phi_k[phi_k < 1]))\n",
    "print('Median and max phi_i:', np.median(np.array(FWHMs)) / 2.355, np.max(np.array(FWHMs)) / 2.355)"
   ]
  },
  {
   "cell_type": "code",
   "execution_count": 36,
   "metadata": {},
   "outputs": [
    {
     "data": {
      "text/plain": [
       "7.0649999999999995"
      ]
     },
     "execution_count": 36,
     "metadata": {},
     "output_type": "execute_result"
    }
   ],
   "source": [
    "## max fwhm\n",
    "len(FWHMs), np.median(FWHMs) / 2.355, np.max(FWHMs) / 2.355\n",
    "3 * np.min(FWHMs), 3 * np.median(FWHMs), 3 * np.max(FWHMs)\n",
    "3 * 2.355"
   ]
  },
  {
   "cell_type": "code",
   "execution_count": 15,
   "metadata": {},
   "outputs": [
    {
     "name": "stdout",
     "output_type": "stream",
     "text": [
      "(16,)\n"
     ]
    },
    {
     "name": "stderr",
     "output_type": "stream",
     "text": [
      "/home/jah94/anaconda3/lib/python3.7/site-packages/ipykernel_launcher.py:2: RuntimeWarning: invalid value encountered in less\n",
      "  \n"
     ]
    }
   ],
   "source": [
    "## identify images with undersampled kernels (may have some issue with the PSF fitting here)\n",
    "subsample = np.array(FWHMs)[phi_k < 1]\n",
    "print(subsample.shape)\n",
    "#print(np.array(fnames)[np.where(np.array(FWHMs) <= np.max(subsample))[0]])\n",
    "#print(np.mean(phi_k[phi_k < 1]))\n",
    "#[np.where(np.array(FWHMs) <= np.max(subsample))[0]]"
   ]
  },
  {
   "cell_type": "markdown",
   "metadata": {},
   "source": [
    "Let's define some house-keeping functions for padding the images (in order to guard against edge-effects associated with convolution), computing fit quality metrics and for cutting out stamps for the PSF fitting photometry."
   ]
  },
  {
   "cell_type": "code",
   "execution_count": 16,
   "metadata": {},
   "outputs": [],
   "source": [
    "# extend image prior to convoliving with kernel\n",
    "def extend_image(image, kernel_size):\n",
    "    image_extended = np.zeros((np.shape(image)[0] + 2 * kernel_size,\n",
    "                             np.shape(image)[1] + 2 * kernel_size))\n",
    "    image_extended[kernel_size:-kernel_size, kernel_size:-kernel_size] = np.array(image, float)\n",
    "    \n",
    "    return image_extended\n",
    "\n",
    "\n",
    "def extend_image_hw(image, kernel_size):\n",
    "    image_extended = np.zeros((np.shape(image)[0] + kernel_size - 1,\n",
    "                             np.shape(image)[1] + kernel_size - 1))\n",
    "    hwidth = np.int((kernel_size - 1) / 2)\n",
    "    image_extended[hwidth:image_extended.shape[0]-hwidth,\n",
    "                   hwidth:image_extended.shape[1]-hwidth] = np.array(image, float)\n",
    "    return image_extended\n",
    "\n",
    "# define function to return fit quality metrics\n",
    "def metrics(M, I, noise_map, kernel_size, mask):\n",
    "    N_data = len(I[mask == 0].flatten())\n",
    "    MFB = 1./(N_data) * np.sum((I - M)/noise_map)\n",
    "    MFV = 1./(N_data - 1) * np.sum((((I - M)/noise_map) - MFB)**2)\n",
    "    return MFB, MFV\n",
    "\n",
    "# cutout stamp around position of selected stars\n",
    "def make_stamp(image, pos, stamp_size):\n",
    "    rad = np.int(stamp_size/2)\n",
    "    #x_centroid, y_centroid = pos[1], pos[0]\n",
    "    x_centroid, y_centroid = pos[1].astype(int), pos[0].astype(int)\n",
    "    x_max, x_min = x_centroid + rad, x_centroid - rad\n",
    "    y_max, y_min = y_centroid + rad, y_centroid - rad\n",
    "    stamp = image[x_min:x_max+1, y_min:y_max+1]\n",
    "    return stamp\n",
    "\n",
    "# cutout stamp around position of selected stars\n",
    "def make_fit_cutout(image_stamp, c_size):\n",
    "    centre = np.int(image_stamp.shape[0]/2)\n",
    "    radius = np.int((c_size/2))\n",
    "    cutout = image_stamp[centre - radius:centre + radius + 1, centre - radius:centre + radius + 1]\n",
    "    return cutout\n",
    "\n",
    "\n",
    "\n",
    "def evaluate_gaussian_log_likelihood(data, model, var):\n",
    "    #print('\\nGaussian log-likelihood')\n",
    "    chi2 = 0.5 * ((data - model)**2 / var).sum()\n",
    "    lnsigma = np.log(np.sqrt(var)).sum()\n",
    "    norm_constant = len(data.flatten()) * 0.5 * np.log(2 * np.pi)\n",
    "    #print('chi2, lnsigma, norm_constant:', chi2, lnsigma, norm_constant)\n",
    "    return -(chi2 + lnsigma + norm_constant)\n",
    "\n",
    "def evaluate_huber_log_likelihood(data, model, var, c=1.345):\n",
    "    #print('\\nHuber log-likelihood')\n",
    "    \n",
    "    ## PyTorchDIA - 'Huber' likelihood\n",
    "    sigma = np.sqrt(var)\n",
    "    ln_sigma = np.log(sigma).sum()\n",
    "\n",
    "    # gaussian when (model - targ)/sigma <= c\n",
    "    # absolute deviation when (model - targ)/sigma > c\n",
    "    cond1 = np.abs((model - data)/sigma) <= c\n",
    "    cond2 = np.abs((model - data)/sigma) > c\n",
    "    inliers = ((model - data)/sigma)[cond1]\n",
    "    outliers = ((model - data)/sigma)[cond2]\n",
    "\n",
    "    l2 = 0.5*(np.power(inliers, 2)).sum()\n",
    "    l1 = (c *(np.abs(outliers)) - (0.5 * c**2)).sum()\n",
    "\n",
    "    constant = (np.sqrt(2 * np.pi) * math.erf(c / np.sqrt(2))) + ((2 / c) * np.exp(-0.5 * c**2)) \n",
    "    norm_constant = len(data.flatten()) * np.log(constant)\n",
    "    ll = -(l2 + l1 + ln_sigma + norm_constant)\n",
    "    #print('l2, l1, ln_sigma, norm_constant:', l2, l1, ln_sigma, norm_constant)\n",
    "    return ll\n",
    "\n",
    "\n",
    "\n",
    "def P_true_calc(y_positions, photometric_scale_factors_pd, s):\n",
    "    \n",
    "    y_pos = y_positions[s]\n",
    "    ys = np.array(y_positions)\n",
    "    ps = np.array(photometric_scale_factors_pd)\n",
    "    \n",
    "    if 50 < y_pos < 150:\n",
    "        P_true = np.nanmedian(ps[(ys > 50) & (ys < 150)])\n",
    "    elif 150 < y_pos < 250:\n",
    "        P_true = np.nanmedian(ps[(ys > 150) & (ys < 250)])\n",
    "    elif 250 < y_pos < 350:\n",
    "        P_true = np.nanmedian(ps[(ys > 250) & (ys < 350)])            \n",
    "    elif 350 < y_pos < 450:\n",
    "        P_true = np.nanmedian(ps[(ys > 350) & (ys < 450)])\n",
    "\n",
    "        \n",
    "    return P_true"
   ]
  },
  {
   "cell_type": "markdown",
   "metadata": {},
   "source": [
    "Now we're ready to perform difference imaging on this data set! We do not resample the data images to the reference image, and so avoid introducing correlated pixel noise into our data. Instead, we cutout 100x100 pixel subregions centered on the stars identified above, to within the nearest integer pixel shift. One crucial advantage of the discrete pixel array kernel that both the B08 and PyTorchDIA models use, is that subpixel shifts between images can be corrected for in the kernel solution. Consequently, if we convolve a PSF centered at the position of some star in the reference image with the inferred kernel, the result is a PSF for the data image at the position of the star in this data image. No resampling to perfectly register the star positions is required - the kernel takes care of that for us!"
   ]
  },
  {
   "cell_type": "code",
   "execution_count": 17,
   "metadata": {},
   "outputs": [
    {
     "name": "stdout",
     "output_type": "stream",
     "text": [
      "Sky level of reference [ADU]: 6598.015\n"
     ]
    }
   ],
   "source": [
    "## 'sky' subtract reference - over this 45x45 arcsecond FOV, a simple scalar subtraction is fine\n",
    "## even for this fairly crowded field. There is a gradient in the backgrond at the LI camera edges,\n",
    "## but we've avoided those regions as part of the star selection criteria above.\n",
    "sky = np.median(ref)\n",
    "ref -= sky\n",
    "print('Sky level of reference [ADU]:', sky)"
   ]
  },
  {
   "cell_type": "code",
   "execution_count": 18,
   "metadata": {},
   "outputs": [
    {
     "data": {
      "image/png": "[encoded data removed]",
      "text/plain": [
       "<Figure size 432x288 with 1 Axes>"
      ]
     },
     "metadata": {
      "needs_background": "light"
     },
     "output_type": "display_data"
    }
   ],
   "source": [
    "# grab positions of the 'good' stars\n",
    "positions = np.transpose((source_table['xcentroid'], source_table['ycentroid']))\n",
    "plt.scatter(positions[:,0], positions[:,1]);"
   ]
  },
  {
   "cell_type": "code",
   "execution_count": 23,
   "metadata": {
    "colab": {
     "base_uri": "https://localhost:8080/",
     "height": 1000
    },
    "colab_type": "code",
    "id": "4UGBx4nDRT20",
    "outputId": "e128c581-9498-4c14-e37f-145a2bad8eba"
   },
   "outputs": [
    {
     "name": "stdout",
     "output_type": "stream",
     "text": [
      "Image 169 / 238\n",
      "coll_OGLE-III-BLG101_Llr_2019-07-27_00066.fits\n",
      "Using flat: 2019-07-27\n",
      "Image FWHM: 10.19150223724289\n",
      "Stamp and kernel size: 31\n",
      "Source position in reference frame: [296.72208213  93.13528257]\n",
      "Integer shift (x, y): [  1 -14]\n",
      "\n",
      "Masked pixels (pyDANDIA): 0.0\n",
      "\n",
      "pyDANDIA solution, iter 0\n"
     ]
    },
    {
     "ename": "KeyboardInterrupt",
     "evalue": "",
     "output_type": "error",
     "traceback": [
      "\u001b[0;31m---------------------------------------------------------------------------\u001b[0m",
      "\u001b[0;31mKeyboardInterrupt\u001b[0m                         Traceback (most recent call last)",
      "\u001b[0;32m<ipython-input-23-347cc49c14b7>\u001b[0m in \u001b[0;36m<module>\u001b[0;34m\u001b[0m\n\u001b[1;32m    140\u001b[0m                     \u001b[0;31m#ext_weights = extend_image_hw(weights_stamp, ks)\u001b[0m\u001b[0;34m\u001b[0m\u001b[0;34m\u001b[0m\u001b[0;34m\u001b[0m\u001b[0m\n\u001b[1;32m    141\u001b[0m \u001b[0;34m\u001b[0m\u001b[0m\n\u001b[0;32m--> 142\u001b[0;31m                     \u001b[0mU\u001b[0m\u001b[0;34m,\u001b[0m \u001b[0mb\u001b[0m \u001b[0;34m=\u001b[0m \u001b[0mconstruct_kernel_and_matrices\u001b[0m\u001b[0;34m(\u001b[0m\u001b[0mks\u001b[0m\u001b[0;34m,\u001b[0m \u001b[0mref_stamp\u001b[0m\u001b[0;34m,\u001b[0m \u001b[0mimage_stamp\u001b[0m\u001b[0;34m,\u001b[0m \u001b[0mweights_stamp\u001b[0m\u001b[0;34m)\u001b[0m\u001b[0;34m\u001b[0m\u001b[0;34m\u001b[0m\u001b[0m\n\u001b[0m\u001b[1;32m    143\u001b[0m                     \u001b[0mkernel_pd\u001b[0m\u001b[0;34m,\u001b[0m \u001b[0mB0_pd\u001b[0m \u001b[0;34m=\u001b[0m \u001b[0mlstsq_solution\u001b[0m\u001b[0;34m(\u001b[0m\u001b[0mref_stamp\u001b[0m\u001b[0;34m,\u001b[0m \u001b[0mimage_stamp\u001b[0m\u001b[0;34m,\u001b[0m \u001b[0mU\u001b[0m\u001b[0;34m,\u001b[0m \u001b[0mb\u001b[0m\u001b[0;34m,\u001b[0m \u001b[0mks\u001b[0m\u001b[0;34m)\u001b[0m\u001b[0;34m\u001b[0m\u001b[0;34m\u001b[0m\u001b[0m\n\u001b[1;32m    144\u001b[0m                     \u001b[0mprint\u001b[0m\u001b[0;34m(\u001b[0m\u001b[0;34m'P:'\u001b[0m\u001b[0;34m,\u001b[0m \u001b[0mnp\u001b[0m\u001b[0;34m.\u001b[0m\u001b[0msum\u001b[0m\u001b[0;34m(\u001b[0m\u001b[0mkernel_pd\u001b[0m\u001b[0;34m)\u001b[0m\u001b[0;34m)\u001b[0m\u001b[0;34m\u001b[0m\u001b[0;34m\u001b[0m\u001b[0m\n",
      "\u001b[0;32m<ipython-input-5-e01a77262b33>\u001b[0m in \u001b[0;36mconstruct_kernel_and_matrices\u001b[0;34m(kernel_size, R, I, weights)\u001b[0m\n\u001b[1;32m     16\u001b[0m \u001b[0;34m\u001b[0m\u001b[0m\n\u001b[1;32m     17\u001b[0m     \u001b[0mstart_time\u001b[0m \u001b[0;34m=\u001b[0m \u001b[0mtime\u001b[0m\u001b[0;34m.\u001b[0m\u001b[0mtime\u001b[0m\u001b[0;34m(\u001b[0m\u001b[0;34m)\u001b[0m\u001b[0;34m\u001b[0m\u001b[0;34m\u001b[0m\u001b[0m\n\u001b[0;32m---> 18\u001b[0;31m     \u001b[0mU\u001b[0m \u001b[0;34m=\u001b[0m \u001b[0mumatrix_construction\u001b[0m\u001b[0;34m(\u001b[0m\u001b[0mR\u001b[0m\u001b[0;34m,\u001b[0m \u001b[0mweights\u001b[0m\u001b[0;34m,\u001b[0m \u001b[0mpandq\u001b[0m\u001b[0;34m,\u001b[0m \u001b[0mn_kernel\u001b[0m\u001b[0;34m,\u001b[0m \u001b[0mkernel_size\u001b[0m\u001b[0;34m)\u001b[0m\u001b[0;34m\u001b[0m\u001b[0;34m\u001b[0m\u001b[0m\n\u001b[0m\u001b[1;32m     19\u001b[0m     \u001b[0mb\u001b[0m \u001b[0;34m=\u001b[0m \u001b[0mbvector_construction\u001b[0m\u001b[0;34m(\u001b[0m\u001b[0mR\u001b[0m\u001b[0;34m,\u001b[0m \u001b[0mI\u001b[0m\u001b[0;34m,\u001b[0m \u001b[0mweights\u001b[0m\u001b[0;34m,\u001b[0m \u001b[0mpandq\u001b[0m\u001b[0;34m,\u001b[0m \u001b[0mn_kernel\u001b[0m\u001b[0;34m,\u001b[0m \u001b[0mkernel_size\u001b[0m\u001b[0;34m)\u001b[0m\u001b[0;34m\u001b[0m\u001b[0;34m\u001b[0m\u001b[0m\n\u001b[1;32m     20\u001b[0m     \u001b[0mprint\u001b[0m\u001b[0;34m(\u001b[0m\u001b[0;34m\"--- Finished U and b construction in %s seconds ---\"\u001b[0m \u001b[0;34m%\u001b[0m \u001b[0;34m(\u001b[0m\u001b[0mtime\u001b[0m\u001b[0;34m.\u001b[0m\u001b[0mtime\u001b[0m\u001b[0;34m(\u001b[0m\u001b[0;34m)\u001b[0m \u001b[0;34m-\u001b[0m \u001b[0mstart_time\u001b[0m\u001b[0;34m)\u001b[0m\u001b[0;34m)\u001b[0m\u001b[0;34m\u001b[0m\u001b[0;34m\u001b[0m\u001b[0m\n",
      "\u001b[0;31mKeyboardInterrupt\u001b[0m: "
     ]
    }
   ],
   "source": [
    "## iterate through target images\n",
    "start_time = time.time()\n",
    "\n",
    "# size of cutouts to make i.e. 100 x 100 pixels\n",
    "cutout_size = 142\n",
    "\n",
    "# EMCCD detector parameters to plug into the noise model\n",
    "# for these long, ~5 minute exposures, shot noise >> readout noise\n",
    "# on this camera, so we can ignore the latter\n",
    "gain_CCD = 25.8 # CCD gain [e-_EM / ADU]\n",
    "gain_EM = 300. # EM gain [e-_EM / e-_phot]\n",
    "G = gain_CCD / gain_EM # Total gain [e-_phot / ADU]\n",
    "excess_noise_factor = 2 # EMCCD fudge factor\n",
    "\n",
    "for i, image in enumerate(images):\n",
    "    \n",
    "    t0 = time.time()\n",
    "    \n",
    "    ##### pick up from where we last left off ####\n",
    "    #if FWHMs[i] in subsample: # i < 1e99 if\n",
    "    #if i < 1e99:\n",
    "    if i > 168:\n",
    "    \n",
    "        #out_pd = np.vstack((MFBs_pd, MFVs_pd, Ps_normalised_pd, np.array(norm_phot_resids_pd).flatten(),\n",
    "        #                 image_SNRs_pd, image_FWHMs_pd, stamp_ids_pd)).T\n",
    "\n",
    "        image_FWHMs_pd = []\n",
    "        image_SNRs_pd = []\n",
    "        MFBs_pd = []\n",
    "        MFVs_pd = []\n",
    "        Ps_normalised_pd = []\n",
    "        B0s_pd = []\n",
    "        norm_phot_resids_pd = []\n",
    "        stamp_ids_pd = []\n",
    "        ll_pds = []\n",
    "        image_id_pds = []\n",
    "\n",
    "        image_FWHMs_pt = []\n",
    "        image_SNRs_pt = []    \n",
    "        MFBs_pt = []\n",
    "        MFVs_pt = []\n",
    "        Ps_normalised_pt = []\n",
    "        B0s_pt = []\n",
    "        norm_phot_resids_pt = []\n",
    "        stamp_ids_pt = []\n",
    "        ll_pts = []\n",
    "        image_id_pts = []\n",
    "\n",
    "        print('Image %d / %d' % (i, len(images)))\n",
    "        print(fnames[i])\n",
    "\n",
    "        # load corresponding flat\n",
    "        date = fnames[i].split('_')[3]\n",
    "        flat_index = np.where(np.array(master_flat_dates) == date)[0][0]\n",
    "        print('Using flat:', master_flat_dates[flat_index])\n",
    "        master_flat = master_flats[flat_index]\n",
    "\n",
    "        # compute appropriate stamp and kernel size\n",
    "        # the former will be used for PSF fitting photometry\n",
    "        # a square (2 * FWHM) x (2 * FWHM) stamp is a reasonable choice\n",
    "        fwhm = FWHMs[i]\n",
    "        print('Image FWHM:', fwhm)\n",
    "        #ks = np.int(2*fwhm)\n",
    "        ks = np.int(3*fwhm)\n",
    "        if ks % 2 == 0: # must be odd!\n",
    "            ks += 1\n",
    "        print('Stamp and kernel size:', ks)\n",
    "        \n",
    "        # this is used for padding the image borders\n",
    "        hwidth = np.int((ks - 1) / 2)\n",
    "\n",
    "        # find integer shifts\n",
    "        ys = shifts[:,1][np.where(shifts[:,0] == fnames[i])][0] \n",
    "        xs = shifts[:,2][np.where(shifts[:,0] == fnames[i])][0]\n",
    "\n",
    "        # x and y need to be switched\n",
    "        shiftxy = np.array([xs.astype(int), ys.astype(int)])\n",
    "\n",
    "        # store values for photometric accuracy metrics\n",
    "        # requires relative P for P_true\n",
    "        photometric_scale_factors_pd = []\n",
    "        F_measured_values_pd = []\n",
    "        photometric_scale_factors_pt = []\n",
    "        F_measured_values_pt = []    \n",
    "        target_psf_objects = []\n",
    "        pixel_uncertainties_list = []\n",
    "        \n",
    "        ## position-dependent correction to photometric scale factor\n",
    "        y_positions = []\n",
    "\n",
    "\n",
    "        ## for each image, divide this into image and reference stamps centered on a star ##\n",
    "        ## solve a kernel and background term for each, and perform psf fitting at the    ##\n",
    "        ## position of the star in the difference image.\n",
    "\n",
    "        ## deal with nans on first pass ##\n",
    "        for j,pos in enumerate(positions[:, [0,1]]):\n",
    "\n",
    "            try:\n",
    "\n",
    "                # add shifts to positions so we get the right part of the reference and flat\n",
    "                print('Source position in reference frame:', pos)\n",
    "                print('Integer shift (x, y):', shiftxy)\n",
    "                ref_stamp = make_stamp(ref, pos, cutout_size)\n",
    "                image_stamp = make_stamp(image, pos + shiftxy, cutout_size)\n",
    "                flat_stamp = make_stamp(master_flat, pos + shiftxy, cutout_size)\n",
    "                ref_delta_stamp = make_stamp(ref_delta, pos, cutout_size)\n",
    "                \n",
    "                ################################################################################\n",
    "                ######################## pyDANDIA ##############################################\n",
    "                ## run pyDANDIA to build the bad pixel mask and pixel uncertainties so we compare\n",
    "                ## like with like when calculating metrics\n",
    "                mask = np.zeros(image_stamp.shape) # bad pixel mask\n",
    "                iterations = 3\n",
    "                for iters in range(0, iterations):\n",
    "\n",
    "                    if iters == 0:\n",
    "                        shot_noise = image_stamp/(G*flat_stamp)\n",
    "                    else:\n",
    "                        shot_noise = model_pd/(G*flat_stamp)   \n",
    "\n",
    "                    pixel_variances = excess_noise_factor*shot_noise\n",
    "                    weights_stamp = 1./pixel_variances\n",
    "                    \n",
    "                    # mask 5-sigma outliers\n",
    "                    if iters > 1:\n",
    "                        # update mask on third and fourth iterations only\n",
    "                        norm_resids = np.sqrt(weights_stamp)*(image_stamp - model_pd)\n",
    "                        mask[np.where(np.abs(norm_resids)>5)] = 1\n",
    "                        \n",
    "                    # weight-out bad pixels\n",
    "                    weights_stamp[np.where(mask == 1)] = 1e-99\n",
    "                    print('\\nMasked pixels (pyDANDIA):', np.sum(mask))\n",
    "                    \n",
    "                    print('\\npyDANDIA solution, iter %d' % iters)\n",
    "                    \n",
    "                    # pad input images by half the kernel size\n",
    "                    #ext_ref = extend_image_hw(ref_stamp, ks)\n",
    "                    #ext_imag = extend_image_hw(image_stamp, ks)\n",
    "                    #ext_weights = extend_image_hw(weights_stamp, ks)\n",
    "                    \n",
    "                    U, b = construct_kernel_and_matrices(ks, ref_stamp, image_stamp, weights_stamp)\n",
    "                    kernel_pd, B0_pd = lstsq_solution(ref_stamp, image_stamp, U, b, ks)\n",
    "                    print('P:', np.sum(kernel_pd))\n",
    "                    print('B0:', B0_pd)\n",
    "\n",
    "                    # compute the model - B08/pyDANDIA\n",
    "                    '''\n",
    "                    ext_ref_stamp = extend_image_hw(ref_stamp, ks)\n",
    "                    ext_model_pd = convolve2d(ext_ref_stamp, kernel_pd, mode='same') + B0_pd\n",
    "                    model_pd = ext_model_pd[hwidth:ext_model_pd.shape[0]-hwidth,\n",
    "                                            hwidth:ext_model_pd.shape[1]-hwidth]   \n",
    "                    '''\n",
    "                    \n",
    "                    model_pd = convolve2d(ref_stamp, kernel_pd, mode='same') + B0_pd\n",
    "\n",
    "\n",
    "                    if iters == iterations - 1:\n",
    "                        # calculate pixel uncertainties on the final, fourth iteration\n",
    "                        shot_noise = model_pd/(G*flat_stamp)\n",
    "                        pixel_variances = excess_noise_factor*shot_noise\n",
    "                        pixel_uncertainties = np.sqrt(pixel_variances)\n",
    "                        \n",
    "                        '''\n",
    "                        plt.figure(figsize=(10,10))\n",
    "                        plt.imshow(norm_resids, origin='lower')\n",
    "                        plt.colorbar()\n",
    "                        plt.show();\n",
    "                        \n",
    "                        \n",
    "                        plt.figure(figsize=(10,10))\n",
    "                        plt.imshow(mask, origin='lower')\n",
    "                        plt.colorbar()\n",
    "                        plt.show();\n",
    "                        \n",
    "                        plt.figure(figsize=(10,10))\n",
    "                        plt.imshow(model_pd - model_pd2, origin='lower')\n",
    "                        plt.colorbar()\n",
    "                        plt.show();\n",
    "                        '''\n",
    "\n",
    "                #########################################################################\n",
    "                #########################################################################\n",
    "                \n",
    "                ##################### PyTorchDIA ########################################\n",
    "                # infer kernel via robust PyTorchDIA code\n",
    "                print('\\n(Robust) PyTorchDIA solution')\n",
    "                SD_steps = 10000\n",
    "                kernel_pt, B0_pt = PyTorchDIA_EMCCD_NoPad.DIA(ref_stamp,\n",
    "                                                           image_stamp,\n",
    "                                                           flat_stamp,\n",
    "                                                           read_noise = 0.,\n",
    "                                                           ks = ks,\n",
    "                                                           lr_kernel = 3e-4,\n",
    "                                                           lr_B = 1e2,\n",
    "                                                           SD_steps = SD_steps,\n",
    "                                                           Newton_tol = 1e-6,\n",
    "                                                           poly_degree=0,\n",
    "                                                           fast=True,\n",
    "                                                           tol = 1e-9,\n",
    "                                                           max_iterations = SD_steps,\n",
    "                                                           fisher=False,\n",
    "                                                           show_convergence_plots=False)\n",
    "                \n",
    "                \n",
    "                # compute the model - PyTorch\n",
    "                #ext_ref_stamp = extend_image_hw(ref_stamp, ks)\n",
    "                #ext_model_pt = convolve2d(ext_ref_stamp, kernel_pt, mode='same') + B0_pt\n",
    "                #model_pt = ext_model_pt[hwidth:ext_model_pt.shape[0]-hwidth,\n",
    "                #                        hwidth:ext_model_pt.shape[1]-hwidth] \n",
    "                \n",
    "                model_pt = convolve2d(ref_stamp, kernel_pt, mode='same') + B0_pt\n",
    "\n",
    "                \n",
    "                # and variances for evaluating the Huber 'likelihood'\n",
    "                shot_noise_pt = model_pt/(G*flat_stamp)\n",
    "                pixel_variances_pt = excess_noise_factor*shot_noise_pt\n",
    "                ############################################################################\n",
    "                ############################################################################\n",
    "\n",
    "                #### PSF fitting photometry in difference image ####\n",
    "                #### infer PSF - this is unweighted ###\n",
    "                \n",
    "                res = PyTorchDIA_Newton.DIA(ref_delta_stamp, image_stamp, flat_stamp,\n",
    "                                              tot_im = Tot_ims[i], unweighted=True,\n",
    "                                              iters=1, ks = ks, SD_steps = 0,\n",
    "                                              tol = 1e-9, k=1e99)\n",
    "                \n",
    "                \n",
    "                \n",
    "                '''\n",
    "                image_stamp_mini = make_stamp(image, pos + shiftxy, ks)\n",
    "                flat_stamp_mini = make_stamp(master_flat, pos + shiftxy, ks)\n",
    "                ref_delta_stamp_mini = make_stamp(ref_delta, pos, ks)\n",
    "                \n",
    "                res = PyTorchDIA_Newton.DIA(ref_delta_stamp_mini, image_stamp_mini, flat_stamp_mini,\n",
    "                                              tot_im = Tot_ims[i], unweighted=True,\n",
    "                                              iters=1, ks = ks, SD_steps = 0,\n",
    "                                              tol = 1e-9, k=1e99)                \n",
    "                \n",
    "                '''\n",
    "                psf = res[0]\n",
    "                psf /= np.sum(psf)\n",
    "                \n",
    "                save_numpy_as_fits(psf, 'psf.fits')\n",
    "                \n",
    "                ############################################################################\n",
    "                \n",
    "                #### trim images down images to the region associated with only valid convolutions ####\n",
    "                \n",
    "                ### trim Model and data image ##\n",
    "                hwidth = np.int((ks - 1) / 2)\n",
    "                nx, ny = image_stamp.shape\n",
    "                image_stamp = image_stamp[hwidth:nx-hwidth, hwidth:nx-hwidth] \n",
    "                flat_stamp = flat_stamp[hwidth:nx-hwidth, hwidth:nx-hwidth] \n",
    "                mask = mask[hwidth:nx-hwidth, hwidth:nx-hwidth]\n",
    "                pixel_uncertainties = pixel_uncertainties[hwidth:nx-hwidth, hwidth:nx-hwidth] \n",
    "                pixel_variances = pixel_variances[hwidth:nx-hwidth, hwidth:nx-hwidth] \n",
    "                pixel_variances_pt = pixel_variances_pt[hwidth:nx-hwidth, hwidth:nx-hwidth] \n",
    "                model_pd = model_pd[hwidth:nx-hwidth, hwidth:nx-hwidth] \n",
    "                model_pt = model_pt[hwidth:nx-hwidth, hwidth:nx-hwidth] \n",
    "                \n",
    "                \n",
    "                ## Difference Image\n",
    "                \n",
    "                D = image_stamp - model_pd\n",
    "                Dnr = D / np.sqrt(pixel_variances)\n",
    "                '''\n",
    "                plt.figure(figsize=(5,5))\n",
    "                plt.hist(Dnr.flatten(), bins='auto', density=True)\n",
    "                x = np.linspace(-5, 5, 100)\n",
    "                plt.plot(x, norm.pdf(x, 0, 1))\n",
    "                plt.xlim(-5, 5)\n",
    "                plt.xticks(fontsize=20)\n",
    "                plt.yticks(fontsize=20)\n",
    "                plt.xlabel('Normalised residuals', fontsize=20)\n",
    "                plt.ylabel('Probability', fontsize=20)\n",
    "                plt.show();\n",
    "                '''\n",
    "                save_numpy_as_fits(Dnr, 'Dnr.fits')\n",
    "                            \n",
    "            \n",
    "                \n",
    "                ### compute likelihood ratio only if there is no data rejection in\n",
    "                ### the 'valid convolution' region\n",
    "                if np.sum(mask) == 0:\n",
    "                    ll_pd = evaluate_gaussian_log_likelihood(image_stamp, model_pd, pixel_variances)\n",
    "                    ll_pt = evaluate_huber_log_likelihood(image_stamp, model_pt, pixel_variances_pt, c=1.345)                \n",
    "                    print('pyDANDIA (Gaussian) log-likelihood:', ll_pd)\n",
    "                    print('PyTorch (Huber) log-likelihood:', ll_pt)\n",
    "                    print('ll_pd - ll_pt:', ll_pd - ll_pt)\n",
    "                    \n",
    "                    ll_pds.append(ll_pd)\n",
    "                    ll_pts.append(ll_pt)\n",
    "                    \n",
    "                else:\n",
    "                    ll_pds.append(0)\n",
    "                    ll_pts.append(0)                    \n",
    "\n",
    "                # image models\n",
    "                models = [model_pd, model_pt]\n",
    "\n",
    "                for model in models:\n",
    "\n",
    "                    if model is model_pd:\n",
    "                        print('\\nCalculating pyDANDIA metrics')\n",
    "                    else:\n",
    "                        print('\\nCalculating PyTorchDIA metrics')\n",
    "\n",
    "                    stamp_fit = make_fit_cutout(image_stamp - model, ks)\n",
    "                    noise_stamp_fit = make_fit_cutout(pixel_uncertainties, ks)\n",
    "\n",
    "                    '''\n",
    "                    def linear_regression(x, y, yerr):\n",
    "                        A = np.vander(x, 2)\n",
    "                        p = np.linalg.solve(np.dot(A.T, A / yerr[:, None]**2), np.dot(A.T, y / yerr**2))\n",
    "                        cov = np.linalg.inv(np.dot(A.T, A / yerr[:, None]**2)) # covariance matrix\n",
    "                        var = np.diag(cov) # variances\n",
    "                        # output ML parameters, (square-rooted) variances and covariance\n",
    "                        m, b, sigma_m, sigma_b, sigma_mb = p[0], p[1], np.sqrt(var[0]), np.sqrt(var[1]), cov[0][1]\n",
    "                        return p[0], p[1], sigma_m, sigma_b, sigma_mb\n",
    "                    \n",
    "                    # collapse stamps into 1D\n",
    "                    target_psf_object = psf\n",
    "                    x, y, yerr = target_psf_object.flatten(), stamp_fit.flatten(), noise_stamp_fit.flatten()\n",
    "\n",
    "                    ## MLE for fit parameters using all the data ##\n",
    "                    res = linear_regression(x, y, yerr)\n",
    "                    F_diff, const, var_F, var_const = res[0:4]\n",
    "                    \n",
    "                    #prediction = F_diff*x + const\n",
    "                    #plt.errorbar(x, y, yerr, marker='o', linestyle='None')\n",
    "                    #plt.plot(x, prediction)\n",
    "                    #plt.show();\n",
    "                    \n",
    "                    print('Final F and const:', F_diff, const)\n",
    "                    '''\n",
    "     \n",
    "                    ## psf fit\n",
    "                    F_diff = torch.nn.Parameter(torch.ones(1), requires_grad=True)\n",
    "                    const = torch.nn.Parameter(torch.ones(1), requires_grad=True)\n",
    "                    print('Starting F_diff and const:', F_diff, const)\n",
    "\n",
    "                    #print(model.shape, stamp_fit.shape, noise_stamp_fit.shape)\n",
    "                                        \n",
    "\n",
    "                    target_psf_object = torch.from_numpy(psf)\n",
    "                    stamp_fit = torch.from_numpy(np.array(stamp_fit, dtype=np.float32))\n",
    "                    noise_stamp_fit = torch.from_numpy(np.array(noise_stamp_fit, dtype=np.float32))\n",
    "\n",
    "                    class log_likelihood(torch.nn.Module):\n",
    "\n",
    "                        def forward(model, stamp, noise_stamp):\n",
    "                            #print(stamp.size(), model.size(), noise_stamp.size())\n",
    "                            #loglikelihood = -0.5*(((stamp - model)/noise_stamp)**2).sum()\n",
    "\n",
    "                            ln_sigma = torch.sum(torch.log(noise_stamp))\n",
    "\n",
    "                            # gaussian when (model - targ)/NM <= c\n",
    "                            # absolute deviation when (model - targ)/NM > c\n",
    "                            c = 1.345\n",
    "                            cond1 = torch.abs((model - stamp)/noise_stamp) <= c\n",
    "                            cond2 = torch.abs((model - stamp)/noise_stamp) > c\n",
    "                            inliers = ((model - stamp)/noise_stamp)[cond1]\n",
    "                            outliers = ((model - stamp)/noise_stamp)[cond2]\n",
    "\n",
    "                            l2 = 0.5*torch.sum(torch.pow(inliers, 2))\n",
    "                            l1 = (c * torch.sum(torch.abs(outliers)) - (0.5 * c**2))\n",
    "\n",
    "                            nll = l2 + l1 + ln_sigma\n",
    "                            #return -loglikelihood\n",
    "                            return nll\n",
    "\n",
    "                    optimizer = torch.optim.Adam([F_diff, const], lr=1000)\n",
    "\n",
    "                    tol = 1e-10\n",
    "                    losses = []\n",
    "                    for step in range(0, 150000):\n",
    "                        optimizer.zero_grad()\n",
    "                        psf_model = F_diff*target_psf_object + const\n",
    "                        loss = log_likelihood.forward(psf_model, stamp_fit, noise_stamp_fit)\n",
    "                        losses.append(loss.item())\n",
    "                        loss.backward()\n",
    "                        optimizer.step()\n",
    "\n",
    "                        if step>1 and abs((losses[-1] - losses[-2])/losses[-2]) < tol:\n",
    "                            print('Converged')\n",
    "                            break\n",
    "\n",
    "                    \n",
    "                    print('Final F and const:', F_diff, const)\n",
    "\n",
    "                    ## convert tensors back to numpy arrays\n",
    "                    F_diff = F_diff.detach().numpy()\n",
    "                    const = const.detach().numpy()\n",
    "                    target_psf_object = target_psf_object.detach().numpy()\n",
    "                    stamp_fit = stamp_fit.detach().numpy()\n",
    "                    noise_stamp_fit = noise_stamp_fit.detach().numpy()\n",
    "                    \n",
    "                    save_numpy_as_fits(make_fit_cutout(image_stamp, ks), 'data_image_stamp.fits')\n",
    "                    \n",
    "                    '''\n",
    "                    # plot the image stamp - to check psf accurate!\n",
    "                    plt.figure()\n",
    "                    plt.title('Data Image stamp')\n",
    "                    plt.imshow(make_fit_cutout(image_stamp, ks))\n",
    "                    plt.colorbar()\n",
    "                    plt.show();\n",
    "\n",
    "                    # plot the psf model\n",
    "                    plt.figure()\n",
    "                    plt.title('Normalised PSF model')\n",
    "                    plt.imshow(target_psf_object)\n",
    "                    plt.colorbar()\n",
    "                    plt.show();\n",
    "                                        \n",
    "                    # plot the stamp\n",
    "                    plt.figure()\n",
    "                    plt.title('Difference image stamp')\n",
    "                    plt.imshow(stamp_fit)\n",
    "                    plt.colorbar()\n",
    "                    plt.show();\n",
    "                    \n",
    "                    # plot the residuals\n",
    "                    #prediction = F_diff*target_psf_object + const\n",
    "                    #residuals = prediction - stamp_fit\n",
    "                    plt.figure()\n",
    "                    plt.title('Normalised Residuals from PSF fit to difference image stamp')\n",
    "                    plt.imshow(residuals / noise_stamp_fit)\n",
    "                    plt.colorbar()\n",
    "                    plt.show();\n",
    "                    '''\n",
    "                    \n",
    "                    prediction = F_diff*target_psf_object + const\n",
    "                    residuals = prediction - stamp_fit\n",
    "                    print('Variance of fit residuals:', np.var(residuals / noise_stamp_fit))\n",
    "                    \n",
    "\n",
    "                    if model is model_pd:\n",
    "\n",
    "                        ## Measured flux of brightest star\n",
    "                        F_measured_pd = F_diff / np.sum(kernel_pd)\n",
    "\n",
    "                        # store values to cal\n",
    "                        F_measured_values_pd.append(F_measured_pd)\n",
    "                        photometric_scale_factors_pd.append(np.sum(kernel_pd))\n",
    "                        target_psf_objects.append(target_psf_object)\n",
    "                        pixel_uncertainties_list.append(noise_stamp_fit)\n",
    "\n",
    "                        # stamp number\n",
    "                        stamp_ids_pd.append(j)\n",
    "\n",
    "                        # image SNR\n",
    "                        sky = np.median(image_stamp)\n",
    "                        SNR = np.sum(image_stamp - sky) / np.sqrt(np.sum(pixel_uncertainties**2))\n",
    "                        image_SNRs_pd.append(SNR)\n",
    "                        image_FWHMs_pd.append(FWHMs[i])\n",
    "                        \n",
    "                        # image id\n",
    "                        image_id_pds.append(i)\n",
    "\n",
    "                        # apply bad pixel mask (same for both PyTorchDIA and pyDANDIA)\n",
    "                        masked_model_pd = np.ma.array(model, mask=mask)\n",
    "                        masked_image_stamp = np.ma.array(image_stamp, mask=mask)\n",
    "                        masked_pixel_uncertainties = np.ma.array(pixel_uncertainties, mask=mask)\n",
    "\n",
    "                        # metrics\n",
    "                        MFB_pd, MFV_pd = metrics(masked_model_pd, masked_image_stamp,\n",
    "                                                 masked_pixel_uncertainties, ks, mask)\n",
    "                        \n",
    "                        print('P:', np.sum(kernel_pd))\n",
    "                        print('B0:', B0_pd)\n",
    "                        print('MFB:', MFB_pd)\n",
    "                        print('MFV:', MFV_pd)\n",
    "\n",
    "                        B0s_pd.append(B0_pd)\n",
    "                        MFBs_pd.append(MFB_pd)\n",
    "                        MFVs_pd.append(MFV_pd)\n",
    "\n",
    "                    else:\n",
    "\n",
    "                        ## Measured flux of brightest star\n",
    "                        F_measured = F_diff / np.sum(kernel_pt)\n",
    "\n",
    "                        # store values to cal\n",
    "                        F_measured_values_pt.append(F_measured)\n",
    "                        photometric_scale_factors_pt.append(np.sum(kernel_pt))\n",
    "\n",
    "                        # stamp number\n",
    "                        stamp_ids_pt.append(j)\n",
    "\n",
    "                        # image SNR\n",
    "                        sky = np.median(image_stamp)\n",
    "                        SNR = np.sum(image_stamp - sky) / np.sqrt(np.sum(pixel_uncertainties**2))\n",
    "                        image_SNRs_pt.append(SNR)\n",
    "                        image_FWHMs_pt.append(FWHMs[i])\n",
    "                        \n",
    "                        # image id\n",
    "                        image_id_pts.append(i)\n",
    "\n",
    "                        # apply bad pixel mask (same for both PyTorchDIA and pyDANDIA)\n",
    "                        masked_model_pt = np.ma.array(model, mask=mask)\n",
    "                        masked_image_stamp = np.ma.array(image_stamp, mask=mask)\n",
    "                        masked_pixel_uncertainties = np.ma.array(pixel_uncertainties, mask=mask)\n",
    "\n",
    "                        # metrics\n",
    "                        MFB_pt, MFV_pt = metrics(masked_model_pt, masked_image_stamp,\n",
    "                                                 masked_pixel_uncertainties, ks, mask)\n",
    "                        \n",
    "                        print('P:', np.sum(kernel_pt))\n",
    "                        print('B0:', B0_pt)\n",
    "                        print('MFB:', MFB_pt)\n",
    "                        print('MFV:', MFV_pt)\n",
    "\n",
    "                        B0s_pt.append(B0_pt)\n",
    "                        MFBs_pt.append(MFB_pt)\n",
    "                        MFVs_pt.append(MFV_pt)\n",
    "                        \n",
    "                        # store this for computing spatially-varying P_true\n",
    "                        y_positions.append(pos[1])\n",
    "\n",
    "            except (ValueError, np.linalg.LinAlgError) as e:\n",
    "                print('Skipping reference-image pair... target too close to border for this imge FWHM')\n",
    "\n",
    "\n",
    "        # as with 'true' pixel uncertainties, use pyDANDIA to calculate\n",
    "        # 'true' photometric scale factor\n",
    "        #P_true = np.median(photometric_scale_factors_pd)\n",
    "        \n",
    "\n",
    "        print('\\npyDANDIA photometric residuals')\n",
    "        for s in range(0, len(photometric_scale_factors_pd)):\n",
    "            \n",
    "            P_true = P_true_calc(y_positions, photometric_scale_factors_pd, s)\n",
    "            \n",
    "            P_normalised = photometric_scale_factors_pd[s]/P_true\n",
    "            Ps_normalised_pd.append(P_normalised)\n",
    "            min_var = (1./P_true**2) * (np.sum((target_psf_objects[s]**2/pixel_uncertainties_list[s]**2)))**(-1)\n",
    "            F_measured_sigma_min = F_measured_values_pd[s] / np.sqrt(min_var)\n",
    "            norm_phot_resids_pd.append(F_measured_sigma_min)\n",
    "            print('F_measure / sigma_min:', F_measured_sigma_min)\n",
    "\n",
    "        # PyTorch - calculate theoretical min_var for each stamp\n",
    "        print('\\nPyTorchDIA photometric residuals')\n",
    "        for s in range(0, len(photometric_scale_factors_pt)):\n",
    "\n",
    "            P_true = P_true_calc(y_positions, photometric_scale_factors_pd, s)\n",
    "                \n",
    "            P_normalised = photometric_scale_factors_pt[s]/P_true\n",
    "            Ps_normalised_pt.append(P_normalised)\n",
    "            min_var = (1./P_true**2) * (np.sum((target_psf_objects[s]**2/pixel_uncertainties_list[s]**2)))**(-1)\n",
    "            F_measured_sigma_min = F_measured_values_pt[s] / np.sqrt(min_var)\n",
    "            norm_phot_resids_pt.append(F_measured_sigma_min)\n",
    "            print('F_measure / sigma_min:', F_measured_sigma_min)\n",
    "\n",
    "\n",
    "\n",
    "        out_pd = np.vstack((MFBs_pd, MFVs_pd, Ps_normalised_pd, np.array(norm_phot_resids_pd).flatten(),\n",
    "                         image_SNRs_pd, image_FWHMs_pd, stamp_ids_pd, ll_pds, image_id_pds)).T\n",
    "\n",
    "        out_pt = np.vstack((MFBs_pt, MFVs_pt, Ps_normalised_pt, np.array(norm_phot_resids_pt).flatten(),\n",
    "                         image_SNRs_pt, image_FWHMs_pt, stamp_ids_pt, ll_pts, image_id_pts)).T\n",
    "\n",
    "        \n",
    "        \n",
    "        #path = '/media/james/Seagate_Expansion_Drive#2'\n",
    "        \n",
    "        path = os.getcwd()\n",
    "\n",
    "        filename = os.path.join(path, 'pyDANDIA_OGLE_BLG101_NoPad_StackedRef_3FWHMkernel_142cutout_Robust_30.txt')\n",
    "        with open(filename, 'a') as f:\n",
    "            np.savetxt(f, out_pd)\n",
    "        \n",
    "        filename = os.path.join(path, 'PyTorchDIA_OGLE_BLG101_NoPad_StackedRef_3FWHMkernel_142cutout_Robust_30.txt')\n",
    "        with open(filename, 'a') as f:\n",
    "            np.savetxt(f, out_pt)\n",
    "            \n",
    "           \n",
    "        print('Time to process this image:', time.time() - t0)\n",
    "        \n",
    "        \n",
    "print('Total time:', time.time() - start_time)"
   ]
  },
  {
   "cell_type": "markdown",
   "metadata": {},
   "source": [
    "## Note on identifying and masking outliers\n",
    "\n",
    "The B08 algorithm sigma-clips outlying pixels. In order to do this, the normalised residuals between the model and data are computed.\n",
    "\n",
    "In the U matrix construction, weights only corresponding to the 'valid convolution computation' region are used, so we don't need to worry (too much?) about passing appropriate weights to pixels in the reference image within half a kernel's width from the image edge, as no valid model exists for these pixels, and so the normalised residuals have little meaning.\n",
    "\n",
    "Indeed, in the above, on the 3 iteration when the sigma-clipping kicks in, typically there's no large change in the fitted parameters from the previous iteration, even if hundreds of pixels have been 'clipped'. This is because these almost all correspond to pixels near the reference image borders (usually near a partially cropped bright star). Note that all reference iamge pixels still enter the design matrix because we 'slide' out by kernel widths in the construction, but only the reference point of that 'slide' is weighted, and that corresponds to a pixel in the 'valid convolution' region.\n",
    "\n",
    "Indeed, we can see this in Equation 4 of Bramich 2008. The 'weight' pixel indices correspond to the target image pixels. The reference image is assumed to be noiseless in this linear least-squares treatment of the problem.\n",
    "\n",
    "## Note on the MPB and MPV metrics\n",
    "\n",
    "Inspection of normalised residuals from the PSF fitting looks fine i.e. good correspondence with unit gaussian (most of the time)! The final distribution of normalised photometric residuals however looks suspect. In part, this could be down to bad (median) photometric scale factor estimation due to the relatively small number of pixels used to constrain this i.e. the F_diff get converted to F_measured by this measure, and if this varies across different stamps this could broaden the resulting F_measured / sigma_min. Given these two facts, I shall trial using more data to better pin down the photometric scale factor. Note that I will need to change to sample of sources selected to be further than half a cutout size from the image edges.\n",
    "\n",
    "N.B. MFV seems to be larger with increasing stamp size (and conversely, smaller with smaller stamps)\n",
    "\n",
    "The photometric residuals from the PSF fitting are tighther with smaller stamps i.e. greater over-fitting, and wider with larger stamps. Hopefully however, the photometric scale factor will be better determined on the larger stamps... **but then we are restricting ourselves to only the highest SNR regime... and it doesn't solve the problem...**\n",
    "\n",
    "Alternatively, it may be that our assumption of spatially invariant photometric scale factor is just plain wrong! In which case, the *true* value should be a function of (x, y) location on the image. Let's investigate this by plotting source loaction vs $P$ for the stamps from a single image."
   ]
  },
  {
   "cell_type": "code",
   "execution_count": 18,
   "metadata": {},
   "outputs": [
    {
     "data": {
      "text/plain": [
       "(7746, 9)"
      ]
     },
     "execution_count": 18,
     "metadata": {},
     "output_type": "execute_result"
    }
   ],
   "source": [
    "data = np.loadtxt('pyDANDIA_OGLE_BLG101_NoPad_StackedRef.txt')\n",
    "\n",
    "'''\n",
    "# undersampled kernel image ids\n",
    "usk = [44, 56, 80, 91, 115, 138, 210, 231, 235]\n",
    "for u in range(0, 236):\n",
    "    if u not in usk:\n",
    "        data = data[data[:,-1].astype(int) != u]\n",
    "'''\n",
    "data.shape"
   ]
  },
  {
   "cell_type": "code",
   "execution_count": 19,
   "metadata": {},
   "outputs": [
    {
     "name": "stdout",
     "output_type": "stream",
     "text": [
      "[ 0  1  2  3  4  5  6  7  8 10 11 12 13 14 15 16 17 18 19 20 21 22 23 24\n",
      " 25 26 27 28 29 30 31 32 33 34 35 36 37 38 39 40 41 42 43 44 45 46 47 48\n",
      " 49 50 51 52 53 54 55 56 57 58 59 60 61 62 64 65 66 67 68 69 70 71 72 73\n",
      " 74 75 77 78 79 80 81 82 83]\n"
     ]
    },
    {
     "data": {
      "text/plain": [
       "((81,), (81,), (84,), (84,))"
      ]
     },
     "execution_count": 19,
     "metadata": {},
     "output_type": "execute_result"
    }
   ],
   "source": [
    "sample = data[np.where(data[:, - 1] == 44)]\n",
    "ids = sample[:, -3].astype(int)\n",
    "print(ids)\n",
    "Ps = sample[:,2]\n",
    "x_pos, y_pos = positions[:,0], positions[:,1]\n",
    "ids.shape, Ps.shape, x_pos.shape, y_pos.shape"
   ]
  },
  {
   "cell_type": "code",
   "execution_count": 20,
   "metadata": {},
   "outputs": [
    {
     "data": {
      "image/png": "[encoded data removed]",
      "text/plain": [
       "<Figure size 432x288 with 1 Axes>"
      ]
     },
     "metadata": {
      "needs_background": "light"
     },
     "output_type": "display_data"
    }
   ],
   "source": [
    "plt.scatter(x_pos[ids], Ps);"
   ]
  },
  {
   "cell_type": "code",
   "execution_count": 21,
   "metadata": {},
   "outputs": [
    {
     "data": {
      "text/plain": [
       "<matplotlib.collections.PathCollection at 0x7f55b3e03450>"
      ]
     },
     "execution_count": 21,
     "metadata": {},
     "output_type": "execute_result"
    },
    {
     "data": {
      "image/png": "[encoded data removed]",
      "text/plain": [
       "<Figure size 432x288 with 1 Axes>"
      ]
     },
     "metadata": {
      "needs_background": "light"
     },
     "output_type": "display_data"
    }
   ],
   "source": [
    "plt.scatter(y_pos[ids], Ps)"
   ]
  },
  {
   "cell_type": "code",
   "execution_count": 22,
   "metadata": {},
   "outputs": [
    {
     "data": {
      "image/png": "[encoded data removed]",
      "text/plain": [
       "<Figure size 720x720 with 2 Axes>"
      ]
     },
     "metadata": {
      "needs_background": "light"
     },
     "output_type": "display_data"
    }
   ],
   "source": [
    "plt.figure(figsize=(10,10))\n",
    "plt.scatter(x_pos[ids], y_pos[ids], c=Ps, cmap='Blues', vmin=0.95, vmax=1.05)\n",
    "plt.colorbar();"
   ]
  },
  {
   "cell_type": "code",
   "execution_count": 23,
   "metadata": {},
   "outputs": [
    {
     "data": {
      "text/plain": [
       "(0.93, 1.07)"
      ]
     },
     "execution_count": 23,
     "metadata": {},
     "output_type": "execute_result"
    },
    {
     "data": {
      "image/png": "[encoded data removed]",
      "text/plain": [
       "<Figure size 432x288 with 1 Axes>"
      ]
     },
     "metadata": {
      "needs_background": "light"
     },
     "output_type": "display_data"
    }
   ],
   "source": [
    "yc = (512 - 50) / 2\n",
    "plt.scatter(np.abs(y_pos[ids] - yc), Ps)\n",
    "plt.ylim(0.93, 1.07)"
   ]
  },
  {
   "cell_type": "code",
   "execution_count": null,
   "metadata": {},
   "outputs": [],
   "source": [
    "P_true = np.nanmedian(Ps[(y_pos[ids] > 50) & (y_pos[ids] < 150)])\n",
    "print(P_true)\n",
    "P_true = np.nanmedian(Ps[(y_pos[ids] > 150) & (y_pos[ids] < 250)])\n",
    "print(P_true)\n",
    "P_true = np.nanmedian(Ps[(y_pos[ids] > 250) & (y_pos[ids] < 350)])\n",
    "print(P_true)\n",
    "P_true = np.nanmedian(Ps[(y_pos[ids] > 350) & (y_pos[ids] < 450)])"
   ]
  },
  {
   "cell_type": "code",
   "execution_count": null,
   "metadata": {},
   "outputs": [],
   "source": [
    "##N.B. source_table = source_table[(source_table['ycentroid'] > 50) & (source_table['ycentroid'] < (ny - 60))]\n",
    "# i.e. (ny - 50) -> (ny - 60)"
   ]
  },
  {
   "cell_type": "code",
   "execution_count": null,
   "metadata": {},
   "outputs": [],
   "source": [
    "def P_true_calc(ys, ps, s):\n",
    "    \n",
    "    y_pos = ys[s]\n",
    "    \n",
    "    ps = np.array(photometric_)\n",
    "    ys = np.array(y)\n",
    "    \n",
    "    if 50 < y_pos < 150:\n",
    "        P_true = np.nanmedian(ps[(ys > 50) & (ys < 150)])\n",
    "    elif 150 < y_pos < 250:\n",
    "        P_true = np.nanmedian(ps[(ys > 150) & (ys < 250)])\n",
    "    elif 250 < y_pos < 350:\n",
    "        P_true = np.nanmedian(ps[(ys > 250) & (ys < 350)])            \n",
    "    elif 350 < y_pos < 450:\n",
    "        P_true = np.nanmedian(ps[(ys > 350) & (ys < 450)])#\n",
    "        \n",
    "    return P_true\n",
    "\n",
    "P_true = P_true_calc(ys, ps, s)"
   ]
  },
  {
   "cell_type": "code",
   "execution_count": null,
   "metadata": {},
   "outputs": [],
   "source": [
    "                    '''\n",
    "                    ## psf fit\n",
    "                    F_diff = torch.nn.Parameter(torch.ones(1), requires_grad=True)\n",
    "                    const = torch.nn.Parameter(torch.ones(1), requires_grad=True)\n",
    "                    print('Starting F_diff and const:', F_diff, const)\n",
    "\n",
    "                    #print(model.shape, stamp_fit.shape, noise_stamp_fit.shape)\n",
    "                                        \n",
    "\n",
    "                    target_psf_object = torch.from_numpy(psf)\n",
    "                    stamp_fit = torch.from_numpy(np.array(stamp_fit, dtype=np.float32))\n",
    "                    noise_stamp_fit = torch.from_numpy(np.array(noise_stamp_fit, dtype=np.float32))\n",
    "\n",
    "                    class log_likelihood(torch.nn.Module):\n",
    "\n",
    "                        def forward(model, stamp, noise_stamp):\n",
    "                            #print(stamp.size(), model.size(), noise_stamp.size())\n",
    "                            #loglikelihood = -0.5*(((stamp - model)/noise_stamp)**2).sum()\n",
    "\n",
    "                            ln_sigma = torch.sum(torch.log(noise_stamp))\n",
    "\n",
    "                            # gaussian when (model - targ)/NM <= c\n",
    "                            # absolute deviation when (model - targ)/NM > c\n",
    "                            c = 1.345\n",
    "                            cond1 = torch.abs((model - stamp)/noise_stamp) <= c\n",
    "                            cond2 = torch.abs((model - stamp)/noise_stamp) > c\n",
    "                            inliers = ((model - stamp)/noise_stamp)[cond1]\n",
    "                            outliers = ((model - stamp)/noise_stamp)[cond2]\n",
    "\n",
    "                            l2 = 0.5*torch.sum(torch.pow(inliers, 2))\n",
    "                            l1 = (c * torch.sum(torch.abs(outliers)) - (0.5 * c**2))\n",
    "\n",
    "                            nll = l2 + l1 + ln_sigma\n",
    "                            #return -loglikelihood\n",
    "                            return nll\n",
    "\n",
    "                    optimizer = torch.optim.Adam([F_diff, const], lr=1000)\n",
    "\n",
    "                    tol = 1e-10\n",
    "                    losses = []\n",
    "                    for step in range(0, 150000):\n",
    "                        optimizer.zero_grad()\n",
    "                        psf_model = F_diff*target_psf_object + const\n",
    "                        loss = log_likelihood.forward(psf_model, stamp_fit, noise_stamp_fit)\n",
    "                        losses.append(loss.item())\n",
    "                        loss.backward()\n",
    "                        optimizer.step()\n",
    "\n",
    "                        if step>1 and abs((losses[-1] - losses[-2])/losses[-2]) < tol:\n",
    "                            print('Converged')\n",
    "                            break\n",
    "\n",
    "                    \n",
    "                    print('Final F and const:', F_diff, const)\n",
    "\n",
    "                    ## convert tensors back to numpy arrays\n",
    "                    F_diff = F_diff.detach().numpy()\n",
    "                    const = const.detach().numpy()\n",
    "                    target_psf_object = target_psf_object.detach().numpy()\n",
    "                    stamp_fit = stamp_fit.detach().numpy()\n",
    "                    noise_stamp_fit = noise_stamp_fit.detach().numpy()\n",
    "                    \n",
    "                    '''"
   ]
  },
  {
   "cell_type": "code",
   "execution_count": 18,
   "metadata": {},
   "outputs": [
    {
     "data": {
      "text/plain": [
       "(7746, 9)"
      ]
     },
     "execution_count": 18,
     "metadata": {},
     "output_type": "execute_result"
    }
   ],
   "source": [
    "data = np.loadtxt('pyDANDIA_OGLE_BLG101_NoPad_StackedRef.txt')\n",
    "data.shape"
   ]
  },
  {
   "cell_type": "code",
   "execution_count": 19,
   "metadata": {},
   "outputs": [
    {
     "data": {
      "text/html": [
       "<i>Table length=84</i>\n",
       "<table id=\"table140471609746704\" class=\"table-striped table-bordered table-condensed\">\n",
       "<thead><tr><th>id</th><th>xcentroid</th><th>ycentroid</th><th>sharpness</th><th>roundness1</th><th>roundness2</th><th>npix</th><th>sky</th><th>peak</th><th>flux</th><th>mag</th></tr></thead>\n",
       "<thead><tr><th>int64</th><th>float64</th><th>float64</th><th>float64</th><th>float64</th><th>float64</th><th>int64</th><th>float64</th><th>float64</th><th>float64</th><th>float64</th></tr></thead>\n",
       "<tr><td>29</td><td>219.8785511700297</td><td>52.509408621781795</td><td>0.5023109260734715</td><td>-0.0028868254016730433</td><td>0.05032760401503506</td><td>81</td><td>0.0</td><td>12303.08203125</td><td>2.908658790218432</td><td>-1.1592319447327548</td></tr>\n",
       "<tr><td>30</td><td>70.5490749184299</td><td>53.111393276731484</td><td>0.4875640325413746</td><td>0.09676193329655995</td><td>0.006450483462253346</td><td>81</td><td>0.0</td><td>212407.515625</td><td>54.75562252578023</td><td>-4.346071802230066</td></tr>\n",
       "<tr><td>41</td><td>449.2481627464416</td><td>73.77639519142606</td><td>0.46215422261442646</td><td>-0.047795121068534126</td><td>0.006295104923461038</td><td>81</td><td>0.0</td><td>14076.498046875</td><td>3.7124571059871663</td><td>-1.424153611206641</td></tr>\n",
       "<tr><td>43</td><td>248.05001553666636</td><td>78.15558146239145</td><td>0.48813573141530464</td><td>0.08685678552616219</td><td>0.04715321584446844</td><td>81</td><td>0.0</td><td>40011.44140625</td><td>10.531827141149275</td><td>-2.556259306045889</td></tr>\n",
       "<tr><td>44</td><td>281.0798617512121</td><td>77.9413906170773</td><td>0.4943859409920509</td><td>0.11322030294090041</td><td>0.03592985560163198</td><td>81</td><td>0.0</td><td>113230.625</td><td>29.68348706058696</td><td>-3.6812872956123988</td></tr>\n",
       "<tr><td>45</td><td>220.70147320227036</td><td>80.94319732464395</td><td>0.46642265727740756</td><td>0.11446850234401407</td><td>0.015326437454863314</td><td>81</td><td>0.0</td><td>22525.12890625</td><td>6.110231847006462</td><td>-1.9651442236281682</td></tr>\n",
       "<tr><td>46</td><td>460.5628151068725</td><td>87.03652564895934</td><td>0.5187301767188992</td><td>0.30237852281817845</td><td>-0.23363386627958038</td><td>81</td><td>0.0</td><td>10044.6640625</td><td>1.6751205370800388</td><td>-0.5601151578429809</td></tr>\n",
       "<tr><td>48</td><td>455.5833411727148</td><td>90.6784835801602</td><td>0.4899315416147083</td><td>-0.012167013717761216</td><td>-0.029780444578047464</td><td>81</td><td>0.0</td><td>55297.16796875</td><td>14.362645684931122</td><td>-2.893086117267973</td></tr>\n",
       "<tr><td>49</td><td>296.7220821280347</td><td>93.13528257293395</td><td>0.4832823438755105</td><td>0.08010742722697277</td><td>0.03380560197591897</td><td>81</td><td>0.0</td><td>84734.3125</td><td>22.32154202426702</td><td>-3.3718104834480855</td></tr>\n",
       "<tr><td>57</td><td>61.094663995976525</td><td>108.97911478448525</td><td>0.48039705030474006</td><td>0.10531222987368917</td><td>0.038899575523799565</td><td>81</td><td>0.0</td><td>88178.578125</td><td>23.321714222873887</td><td>-3.4194011733406655</td></tr>\n",
       "<tr><td>...</td><td>...</td><td>...</td><td>...</td><td>...</td><td>...</td><td>...</td><td>...</td><td>...</td><td>...</td><td>...</td></tr>\n",
       "<tr><td>203</td><td>337.1283453980931</td><td>433.6873762032592</td><td>0.5221665634825616</td><td>-0.02039870636844377</td><td>0.04474959120809107</td><td>81</td><td>0.0</td><td>61384.375</td><td>15.366669795290772</td><td>-2.966449397728768</td></tr>\n",
       "<tr><td>204</td><td>178.23276939415874</td><td>435.931795741423</td><td>0.4880373481281379</td><td>0.041939214087788446</td><td>-0.026789891459934954</td><td>81</td><td>0.0</td><td>37142.625</td><td>9.60492181278731</td><td>-2.4562345847815705</td></tr>\n",
       "<tr><td>209</td><td>57.976455169835894</td><td>443.1762117180826</td><td>0.4748439842789154</td><td>-0.04110183053849619</td><td>0.026843022842566615</td><td>81</td><td>0.0</td><td>17499.443359375</td><td>4.65718195739704</td><td>-1.6703080156766472</td></tr>\n",
       "<tr><td>212</td><td>279.9260554331594</td><td>443.88575424299114</td><td>0.48974461129990354</td><td>0.09759116109697902</td><td>0.09368093414394975</td><td>81</td><td>0.0</td><td>50551.1171875</td><td>13.436367757019989</td><td>-2.8207047052243652</td></tr>\n",
       "<tr><td>213</td><td>363.86217548958984</td><td>444.49022281104055</td><td>0.49724503211281224</td><td>-0.04226460380538763</td><td>0.1032432434459339</td><td>81</td><td>0.0</td><td>593975.625</td><td>157.7854532495972</td><td>-5.495167404270966</td></tr>\n",
       "<tr><td>215</td><td>99.1461237547856</td><td>446.27015908307783</td><td>0.48333095454535585</td><td>-0.11603678447151754</td><td>-0.17322596460059245</td><td>81</td><td>0.0</td><td>10501.830078125</td><td>2.4198146719810625</td><td>-0.9594552641059932</td></tr>\n",
       "<tr><td>217</td><td>108.5912857737992</td><td>448.2033347764314</td><td>0.47057247723251744</td><td>-0.023037707826280274</td><td>0.045353101172932786</td><td>81</td><td>0.0</td><td>44020.0</td><td>11.577711135051452</td><td>-2.659056774197582</td></tr>\n",
       "<tr><td>220</td><td>209.2036450491767</td><td>448.6354093206833</td><td>0.4827522077618171</td><td>0.11589947210987965</td><td>-0.08258111794221544</td><td>81</td><td>0.0</td><td>15561.296875</td><td>3.9401023552214047</td><td>-1.4887687599766628</td></tr>\n",
       "<tr><td>221</td><td>354.37991446769075</td><td>448.692731836459</td><td>0.535604276072068</td><td>0.7342727526749909</td><td>-0.5239986853061728</td><td>81</td><td>0.0</td><td>15967.109375</td><td>2.1970941616100856</td><td>-0.8546216750633986</td></tr>\n",
       "<tr><td>222</td><td>404.7745026413371</td><td>449.5946772070999</td><td>0.4905386561830488</td><td>0.09516298512022751</td><td>0.05189415886249663</td><td>81</td><td>0.0</td><td>114517.90625</td><td>30.521910209364155</td><td>-3.7115292759778806</td></tr>\n",
       "</table>"
      ],
      "text/plain": [
       "<Table length=84>\n",
       "  id      xcentroid      ...        flux                mag        \n",
       "int64      float64       ...      float64             float64      \n",
       "----- ------------------ ... ------------------ -------------------\n",
       "   29  219.8785511700297 ...  2.908658790218432 -1.1592319447327548\n",
       "   30   70.5490749184299 ...  54.75562252578023  -4.346071802230066\n",
       "   41  449.2481627464416 ... 3.7124571059871663  -1.424153611206641\n",
       "   43 248.05001553666636 ... 10.531827141149275  -2.556259306045889\n",
       "   44  281.0798617512121 ...  29.68348706058696 -3.6812872956123988\n",
       "   45 220.70147320227036 ...  6.110231847006462 -1.9651442236281682\n",
       "   46  460.5628151068725 ... 1.6751205370800388 -0.5601151578429809\n",
       "   48  455.5833411727148 ... 14.362645684931122  -2.893086117267973\n",
       "   49  296.7220821280347 ...  22.32154202426702 -3.3718104834480855\n",
       "   57 61.094663995976525 ... 23.321714222873887 -3.4194011733406655\n",
       "  ...                ... ...                ...                 ...\n",
       "  203  337.1283453980931 ... 15.366669795290772  -2.966449397728768\n",
       "  204 178.23276939415874 ...   9.60492181278731 -2.4562345847815705\n",
       "  209 57.976455169835894 ...   4.65718195739704 -1.6703080156766472\n",
       "  212  279.9260554331594 ... 13.436367757019989 -2.8207047052243652\n",
       "  213 363.86217548958984 ...  157.7854532495972  -5.495167404270966\n",
       "  215   99.1461237547856 ... 2.4198146719810625 -0.9594552641059932\n",
       "  217  108.5912857737992 ... 11.577711135051452  -2.659056774197582\n",
       "  220  209.2036450491767 ... 3.9401023552214047 -1.4887687599766628\n",
       "  221 354.37991446769075 ... 2.1970941616100856 -0.8546216750633986\n",
       "  222  404.7745026413371 ... 30.521910209364155 -3.7115292759778806"
      ]
     },
     "execution_count": 19,
     "metadata": {},
     "output_type": "execute_result"
    }
   ],
   "source": [
    "source_table"
   ]
  },
  {
   "cell_type": "code",
   "execution_count": 20,
   "metadata": {},
   "outputs": [
    {
     "name": "stdout",
     "output_type": "stream",
     "text": [
      "Source: 0, Mean:0.326340, Median:0.614289, Variance:3.400302, MAD Var:3.466355, N:27\n",
      "Source: 1, Mean:-3.341258, Median:-4.081265, Variance:11.510670, MAD Var:9.258680, N:30\n",
      "Source: 2, Mean:-0.296473, Median:-0.118948, Variance:3.900163, MAD Var:3.252907, N:82\n",
      "Source: 3, Mean:-0.895595, Median:-1.310673, Variance:10.922249, MAD Var:11.938701, N:97\n",
      "Source: 4, Mean:-1.853058, Median:-1.572605, Variance:20.593889, MAD Var:16.465597, N:97\n",
      "Source: 5, Mean:-1.001326, Median:-0.845532, Variance:4.103590, MAD Var:4.847004, N:97\n",
      "Source: 6, Mean:0.068142, Median:0.080055, Variance:1.380922, MAD Var:1.880214, N:50\n",
      "Source: 7, Mean:1.225214, Median:0.945873, Variance:2.458414, MAD Var:2.637864, N:66\n",
      "Source: 8, Mean:0.309505, Median:0.173496, Variance:5.502717, MAD Var:6.514526, N:97\n",
      "Source: 9, Mean:0.205193, Median:0.300444, Variance:2.256472, MAD Var:2.508727, N:83\n",
      "Source: 10, Mean:0.496825, Median:0.463928, Variance:3.806173, MAD Var:3.452365, N:97\n",
      "Source: 11, Mean:0.792663, Median:0.608397, Variance:4.190768, MAD Var:3.611674, N:97\n",
      "Source: 12, Mean:-0.344513, Median:-0.466845, Variance:2.230881, MAD Var:2.829664, N:97\n",
      "Source: 13, Mean:2.467304, Median:2.377296, Variance:2.402444, MAD Var:2.195858, N:97\n",
      "Source: 14, Mean:1.478964, Median:1.569904, Variance:2.623947, MAD Var:2.172056, N:97\n",
      "Source: 15, Mean:0.648749, Median:0.419415, Variance:3.556455, MAD Var:3.229205, N:97\n",
      "Source: 16, Mean:-1.370882, Median:-1.260386, Variance:4.709215, MAD Var:5.771420, N:97\n",
      "Source: 17, Mean:0.812415, Median:0.634987, Variance:2.912737, MAD Var:2.107584, N:97\n",
      "Source: 18, Mean:0.534680, Median:0.634861, Variance:4.135555, MAD Var:3.114212, N:97\n",
      "Source: 19, Mean:1.482007, Median:1.765994, Variance:2.539424, MAD Var:2.428990, N:97\n",
      "Source: 20, Mean:2.455487, Median:2.300875, Variance:3.100480, MAD Var:3.312797, N:97\n",
      "Source: 21, Mean:-0.015550, Median:-0.098451, Variance:2.244970, MAD Var:3.138459, N:97\n",
      "Source: 22, Mean:1.697421, Median:1.550550, Variance:1.589709, MAD Var:1.206740, N:97\n",
      "Source: 23, Mean:1.499098, Median:1.351594, Variance:1.481147, MAD Var:1.240274, N:97\n",
      "Source: 24, Mean:0.450509, Median:0.551451, Variance:1.553137, MAD Var:1.154634, N:97\n",
      "Source: 25, Mean:-0.512776, Median:-0.484207, Variance:2.859005, MAD Var:2.696777, N:96\n",
      "Source: 26, Mean:0.203925, Median:0.165962, Variance:2.701666, MAD Var:2.815017, N:97\n",
      "Source: 27, Mean:2.177342, Median:2.284064, Variance:6.026815, MAD Var:6.798998, N:97\n",
      "Source: 28, Mean:-0.119226, Median:-0.217242, Variance:3.059981, MAD Var:2.982830, N:96\n",
      "Source: 29, Mean:1.329255, Median:1.230142, Variance:3.191833, MAD Var:4.339116, N:97\n",
      "Source: 30, Mean:1.958493, Median:2.008229, Variance:2.684408, MAD Var:2.654824, N:97\n",
      "Source: 31, Mean:0.669832, Median:0.631124, Variance:3.684965, MAD Var:4.062189, N:97\n",
      "Source: 32, Mean:2.816521, Median:2.857676, Variance:2.988930, MAD Var:2.750827, N:97\n",
      "Source: 33, Mean:0.926335, Median:0.841334, Variance:3.115602, MAD Var:3.964627, N:97\n",
      "Source: 34, Mean:-0.193133, Median:-0.451966, Variance:2.216036, MAD Var:2.248216, N:97\n",
      "Source: 35, Mean:3.990180, Median:4.081081, Variance:4.118060, MAD Var:3.699233, N:97\n",
      "Source: 36, Mean:1.309458, Median:1.470365, Variance:2.479228, MAD Var:2.675306, N:97\n",
      "Source: 37, Mean:1.501706, Median:1.604777, Variance:2.112588, MAD Var:1.870672, N:97\n",
      "Source: 38, Mean:0.116922, Median:0.101158, Variance:2.521153, MAD Var:2.347810, N:97\n",
      "Source: 39, Mean:1.756833, Median:1.751751, Variance:3.354126, MAD Var:3.081953, N:97\n",
      "Source: 40, Mean:2.461693, Median:2.358009, Variance:4.896040, MAD Var:3.044841, N:97\n",
      "Source: 41, Mean:-1.362245, Median:-1.546491, Variance:14.460882, MAD Var:5.517529, N:50\n",
      "Source: 42, Mean:1.788403, Median:1.675799, Variance:4.197179, MAD Var:5.601169, N:97\n",
      "Source: 43, Mean:1.324536, Median:1.331141, Variance:1.744840, MAD Var:1.902267, N:97\n",
      "Source: 44, Mean:-0.568873, Median:-0.466520, Variance:3.150326, MAD Var:3.411328, N:90\n",
      "Source: 45, Mean:-2.243033, Median:-2.278528, Variance:3.338317, MAD Var:2.019246, N:97\n",
      "Source: 46, Mean:-0.216487, Median:-0.261478, Variance:3.021501, MAD Var:2.573482, N:97\n",
      "Source: 47, Mean:0.232791, Median:0.349938, Variance:3.440891, MAD Var:2.270940, N:97\n",
      "Source: 48, Mean:2.155332, Median:1.970731, Variance:16.577239, MAD Var:19.310279, N:97\n",
      "Source: 49, Mean:0.603175, Median:0.516033, Variance:2.764804, MAD Var:3.545641, N:97\n",
      "Source: 50, Mean:0.032665, Median:-0.008333, Variance:2.730829, MAD Var:2.493460, N:97\n",
      "Source: 51, Mean:0.594780, Median:0.639180, Variance:2.541976, MAD Var:2.366695, N:97\n",
      "Source: 52, Mean:0.058879, Median:0.183986, Variance:2.266166, MAD Var:1.951704, N:97\n",
      "Source: 53, Mean:-2.424734, Median:-3.262678, Variance:17.390601, MAD Var:11.947467, N:97\n",
      "Source: 54, Mean:-0.797929, Median:-0.890567, Variance:4.092943, MAD Var:4.174471, N:97\n",
      "Source: 55, Mean:0.734138, Median:0.572439, Variance:4.958281, MAD Var:3.785454, N:97\n",
      "Source: 56, Mean:1.193393, Median:1.201736, Variance:2.704091, MAD Var:3.064950, N:97\n",
      "Source: 57, Mean:0.347680, Median:0.358817, Variance:3.840376, MAD Var:4.282341, N:97\n",
      "Source: 58, Mean:0.569404, Median:0.567700, Variance:1.918640, MAD Var:2.282745, N:83\n",
      "Source: 59, Mean:0.977236, Median:1.213542, Variance:3.947395, MAD Var:3.703034, N:97\n",
      "Source: 60, Mean:0.837340, Median:0.923753, Variance:2.538294, MAD Var:2.320910, N:97\n",
      "Source: 61, Mean:2.413060, Median:2.343340, Variance:4.468014, MAD Var:4.965962, N:97\n",
      "Source: 62, Mean:-0.233205, Median:-0.017947, Variance:3.770434, MAD Var:4.941220, N:97\n",
      "Source: 63, Mean:-0.149254, Median:-0.540895, Variance:3.816775, MAD Var:3.360481, N:64\n",
      "Source: 64, Mean:0.071602, Median:0.001524, Variance:5.292702, MAD Var:5.654425, N:97\n",
      "Source: 65, Mean:0.131540, Median:0.053267, Variance:3.427356, MAD Var:2.369425, N:97\n",
      "Source: 66, Mean:-0.105494, Median:-0.092398, Variance:4.099539, MAD Var:3.470254, N:97\n",
      "Source: 67, Mean:0.560489, Median:0.087035, Variance:3.539391, MAD Var:2.645196, N:97\n",
      "Source: 68, Mean:2.761864, Median:2.496543, Variance:9.041693, MAD Var:11.422599, N:73\n",
      "Source: 69, Mean:5.614885, Median:7.623440, Variance:28.878332, MAD Var:9.083052, N:91\n",
      "Source: 70, Mean:-0.342438, Median:-0.321501, Variance:3.543794, MAD Var:3.302485, N:97\n",
      "Source: 71, Mean:1.595409, Median:1.521709, Variance:3.404421, MAD Var:3.191789, N:97\n",
      "Source: 72, Mean:3.338509, Median:3.352448, Variance:2.635345, MAD Var:2.442332, N:97\n",
      "Source: 73, Mean:0.259890, Median:0.225201, Variance:8.369893, MAD Var:9.087918, N:97\n",
      "Source: 74, Mean:-0.307477, Median:-0.572682, Variance:7.518273, MAD Var:5.185054, N:97\n",
      "Source: 75, Mean:-0.256822, Median:-0.719098, Variance:5.119733, MAD Var:3.160489, N:97\n",
      "Source: 76, Mean:0.402133, Median:0.348071, Variance:2.781053, MAD Var:2.978060, N:72\n",
      "Source: 77, Mean:1.721150, Median:1.842366, Variance:1.869398, MAD Var:2.552152, N:97\n",
      "Source: 78, Mean:2.253850, Median:1.708111, Variance:14.921810, MAD Var:3.425622, N:97\n",
      "Source: 79, Mean:-0.228188, Median:-0.459255, Variance:4.314574, MAD Var:6.198529, N:97\n",
      "Source: 80, Mean:1.437677, Median:1.318702, Variance:2.935050, MAD Var:3.124674, N:97\n",
      "Source: 81, Mean:-1.829274, Median:-2.129765, Variance:7.424614, MAD Var:4.228498, N:97\n",
      "Source: 82, Mean:-5.235636, Median:-4.767236, Variance:24.769139, MAD Var:21.232648, N:97\n",
      "Source: 83, Mean:-1.228761, Median:-1.675379, Variance:15.455378, MAD Var:20.073089, N:97\n"
     ]
    }
   ],
   "source": [
    "ids = np.unique(data[:, -3]).astype(int)\n",
    "\n",
    "# identified outliers\n",
    "outliers = np.array([])\n",
    "\n",
    "# individual light-curve offsets\n",
    "shift_info = np.zeros((len(ids), 2))\n",
    "\n",
    "# sigma cutoff\n",
    "sigma_cut = 100\n",
    "\n",
    "# variances\n",
    "variances = []\n",
    "\n",
    "for i in ids:\n",
    "    \n",
    "    # 'raw' normalised photometric residuals\n",
    "    nr = data[:,3][data[:, -3] == i]\n",
    "    \n",
    "    print('Source: %d, Mean:%f, Median:%f, Variance:%f, MAD Var:%f, N:%d' % (i, np.mean(nr), np.median(nr), \n",
    "                                                                       np.nanvar(nr),\n",
    "                                                                       mad_std(nr)**2, len(nr)))\n",
    "    \n",
    "    \n",
    "    if np.nanvar(nr) > sigma_cut:\n",
    "        outliers = np.append(outliers, i)\n",
    "        \n",
    "    shift_info[i][0], shift_info[i][1] = i, np.nanmedian(nr)\n",
    "    \n",
    "    \n",
    "    variances.append(np.nanvar(nr))"
   ]
  },
  {
   "cell_type": "code",
   "execution_count": 30,
   "metadata": {},
   "outputs": [
    {
     "data": {
      "image/png": "[encoded data removed]",
      "text/plain": [
       "<Figure size 432x288 with 1 Axes>"
      ]
     },
     "metadata": {
      "needs_background": "light"
     },
     "output_type": "display_data"
    },
    {
     "data": {
      "image/png": "[encoded data removed]",
      "text/plain": [
       "<Figure size 432x288 with 1 Axes>"
      ]
     },
     "metadata": {
      "needs_background": "light"
     },
     "output_type": "display_data"
    },
    {
     "data": {
      "image/png": "[encoded data removed]",
      "text/plain": [
       "<Figure size 432x288 with 1 Axes>"
      ]
     },
     "metadata": {
      "needs_background": "light"
     },
     "output_type": "display_data"
    },
    {
     "data": {
      "image/png": "[encoded data removed]",
      "text/plain": [
       "<Figure size 432x288 with 1 Axes>"
      ]
     },
     "metadata": {
      "needs_background": "light"
     },
     "output_type": "display_data"
    },
    {
     "data": {
      "image/png": "[encoded data removed]",
      "text/plain": [
       "<Figure size 432x288 with 1 Axes>"
      ]
     },
     "metadata": {
      "needs_background": "light"
     },
     "output_type": "display_data"
    },
    {
     "data": {
      "image/png": "[encoded data removed]",
      "text/plain": [
       "<Figure size 432x288 with 1 Axes>"
      ]
     },
     "metadata": {
      "needs_background": "light"
     },
     "output_type": "display_data"
    },
    {
     "data": {
      "image/png": "[encoded data removed]",
      "text/plain": [
       "<Figure size 432x288 with 1 Axes>"
      ]
     },
     "metadata": {
      "needs_background": "light"
     },
     "output_type": "display_data"
    },
    {
     "data": {
      "image/png": "[encoded data removed]",
      "text/plain": [
       "<Figure size 432x288 with 1 Axes>"
      ]
     },
     "metadata": {
      "needs_background": "light"
     },
     "output_type": "display_data"
    },
    {
     "data": {
      "image/png": "[encoded data removed]",
      "text/plain": [
       "<Figure size 432x288 with 1 Axes>"
      ]
     },
     "metadata": {
      "needs_background": "light"
     },
     "output_type": "display_data"
    },
    {
     "data": {
      "image/png": "[encoded data removed]",
      "text/plain": [
       "<Figure size 432x288 with 1 Axes>"
      ]
     },
     "metadata": {
      "needs_background": "light"
     },
     "output_type": "display_data"
    },
    {
     "data": {
      "image/png": "[encoded data removed]",
      "text/plain": [
       "<Figure size 432x288 with 1 Axes>"
      ]
     },
     "metadata": {
      "needs_background": "light"
     },
     "output_type": "display_data"
    }
   ],
   "source": [
    "for name in source_table.colnames:\n",
    "    plt.scatter(source_table[name], variances)\n",
    "    plt.xlabel(name)\n",
    "    plt.ylabel('Var')\n",
    "    plt.grid()\n",
    "    plt.show();"
   ]
  },
  {
   "cell_type": "code",
   "execution_count": null,
   "metadata": {},
   "outputs": [],
   "source": []
  }
 ],
 "metadata": {
  "accelerator": "GPU",
  "colab": {
   "collapsed_sections": [],
   "name": "Real Image Performance Tests",
   "provenance": []
  },
  "kernelspec": {
   "display_name": "Python 3",
   "language": "python",
   "name": "python3"
  },
  "language_info": {
   "codemirror_mode": {
    "name": "ipython",
    "version": 3
   },
   "file_extension": ".py",
   "mimetype": "text/x-python",
   "name": "python",
   "nbconvert_exporter": "python",
   "pygments_lexer": "ipython3",
   "version": "3.7.4"
  }
 },
 "nbformat": 4,
 "nbformat_minor": 1
}
