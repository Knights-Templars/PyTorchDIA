{
 "cells": [
  {
   "cell_type": "markdown",
   "metadata": {},
   "source": [
    "Here, we summarise the results of the tests on real EMCCD images. Unlike the simulated image tests -- which used both over- and undersampled synthetic images -- all real images are in the oversampled regime."
   ]
  },
  {
   "cell_type": "code",
   "execution_count": 1,
   "metadata": {},
   "outputs": [],
   "source": [
    "# imports\n",
    "import numpy as np\n",
    "from astropy.stats import mad_std\n",
    "from scipy.stats import norm\n",
    "from astropy.stats import mad_std\n",
    "import pandas as pd\n",
    "import seaborn as sns\n",
    "import matplotlib.pyplot as plt\n",
    "%matplotlib inline"
   ]
  },
  {
   "cell_type": "code",
   "execution_count": 2,
   "metadata": {},
   "outputs": [
    {
     "name": "stdout",
     "output_type": "stream",
     "text": [
      "(25434, 9) (25434, 9)\n"
     ]
    },
    {
     "data": {
      "text/plain": [
       "array([  0.,   0.,   0., ..., 249., 249., 249.])"
      ]
     },
     "execution_count": 2,
     "metadata": {},
     "output_type": "execute_result"
    }
   ],
   "source": [
    "#out_pd = np.vstack((MFBs_pd, MFVs_pd, Ps_normalised_pd, np.array(norm_phot_resids_pd).flatten(),\n",
    "#                         image_SNRs_pd, image_FWHMs_pd, stamp_ids_pd, ll_pds)).T\n",
    "\n",
    "#PyTorch_data = np.genfromtxt('PyTorchDIA_OGLE_BLG101_betterLnL.txt')\n",
    "#pyDANDIA_data = np.genfromtxt('pyDANDIA_OGLE_BLG101_betterLnL.txt')\n",
    "#flux_fraction = np.genfromtxt('Flux_fraction.txt')\n",
    "\n",
    "#pd_data = np.genfromtxt('pyDANDIA_OGLE_BLG101_December2020_TestRun.txt')\n",
    "#pt_data = np.genfromtxt('PyTorchDIA_OGLE_BLG101_December_2020_TestRun.txt')\n",
    "\n",
    "pd_data = np.genfromtxt('pyDANDIA_OGLE_BLG101_January2021_TestRun.txt')\n",
    "pt_data = np.genfromtxt('PyTorchDIA_OGLE_BLG101_January2021_TestRun.txt')\n",
    "print(pd_data.shape, pt_data.shape)\n",
    "#pd_data, pt_data\n",
    "pt_data[:, - 1]"
   ]
  },
  {
   "cell_type": "code",
   "execution_count": 3,
   "metadata": {},
   "outputs": [
    {
     "name": "stdout",
     "output_type": "stream",
     "text": [
      "(25420, 9) (25420, 9)\n"
     ]
    },
    {
     "data": {
      "text/plain": [
       "(array([[1.99322980e-02, 2.36324130e+00, 1.07826506e+00, ...,\n",
       "         0.00000000e+00, 0.00000000e+00, 0.00000000e+00],\n",
       "        [2.03310823e-03, 1.66661198e+00, 9.98051145e-01, ...,\n",
       "         1.00000000e+00, 0.00000000e+00, 0.00000000e+00],\n",
       "        [2.10322584e-02, 2.11805378e+00, 1.00318514e+00, ...,\n",
       "         2.00000000e+00, 0.00000000e+00, 0.00000000e+00],\n",
       "        ...,\n",
       "        [8.97667536e-03, 2.02979027e+00, 9.99766564e-01, ...,\n",
       "         1.03000000e+02, 0.00000000e+00, 2.49000000e+02],\n",
       "        [4.42155970e-03, 1.95426639e+00, 9.98540749e-01, ...,\n",
       "         1.04000000e+02, 0.00000000e+00, 2.49000000e+02],\n",
       "        [1.43849505e-03, 2.10899828e+00, 1.05671282e+00, ...,\n",
       "         1.05000000e+02, 0.00000000e+00, 2.49000000e+02]]),\n",
       " array([[6.53449544e-02, 2.42376740e+00, 1.07694621e+00, ...,\n",
       "         0.00000000e+00, 0.00000000e+00, 0.00000000e+00],\n",
       "        [8.44574314e-03, 1.68956862e+00, 9.98774850e-01, ...,\n",
       "         1.00000000e+00, 0.00000000e+00, 0.00000000e+00],\n",
       "        [4.91541874e-02, 2.15408310e+00, 1.00435759e+00, ...,\n",
       "         2.00000000e+00, 0.00000000e+00, 0.00000000e+00],\n",
       "        ...,\n",
       "        [5.09230475e-02, 2.06682733e+00, 1.00139415e+00, ...,\n",
       "         1.03000000e+02, 0.00000000e+00, 2.49000000e+02],\n",
       "        [5.87835865e-02, 1.96884073e+00, 1.00000963e+00, ...,\n",
       "         1.04000000e+02, 0.00000000e+00, 2.49000000e+02],\n",
       "        [5.72039240e-02, 2.20859479e+00, 1.07421848e+00, ...,\n",
       "         1.05000000e+02, 0.00000000e+00, 2.49000000e+02]]))"
      ]
     },
     "execution_count": 3,
     "metadata": {},
     "output_type": "execute_result"
    }
   ],
   "source": [
    "# if NaNs are present, remove these\n",
    "# NaNs from PyTorchDIA\n",
    "pd_data = pd_data[~np.isnan(pt_data).any(axis=1)]\n",
    "pt_data = pt_data[~np.isnan(pt_data).any(axis=1)]\n",
    "print(pd_data.shape, pt_data.shape)\n",
    "# NaNs from pyDANDIA / B08\n",
    "#pd_data = pd_data[~np.isnan(pd_data).any(axis=1)]\n",
    "#pd_data = pt_data[~np.isnan(pd_data).any(axis=1)]\n",
    "#print(pd_data.shape, pt_data.shape)\n",
    "pd_data, pt_data"
   ]
  },
  {
   "cell_type": "markdown",
   "metadata": {},
   "source": [
    "First, let's have a look at the log-likelihoods for both approaches. As the B08/pyDANDIA approach uses sigma-clipping to remove outlying pixels -- in contrast to PyTorchDIA, which uses all the data by optimising a robust loss function -- in order to compare the two likelihoods, we need to ensure we limit the comparison to cases in which no data has been rejected from the B08 solution."
   ]
  },
  {
   "cell_type": "code",
   "execution_count": 4,
   "metadata": {},
   "outputs": [
    {
     "data": {
      "text/plain": [
       "((2108,), (2108,))"
      ]
     },
     "execution_count": 4,
     "metadata": {},
     "output_type": "execute_result"
    }
   ],
   "source": [
    "# identify subset of stamps in which no data was rejected\n",
    "pd_lls, pt_lls = pd_data[:,7], pt_data[:,7]\n",
    "ndr = np.where(pd_lls != 0)[0] # no-data-rejected\n",
    "pd_lls, pt_lls = pd_lls[ndr], pt_lls[ndr]\n",
    "pd_lls.shape, pt_lls.shape"
   ]
  },
  {
   "cell_type": "code",
   "execution_count": 5,
   "metadata": {},
   "outputs": [
    {
     "name": "stdout",
     "output_type": "stream",
     "text": [
      "Model under Huber loss preffered 9.393 percent of the time.\n"
     ]
    },
    {
     "data": {
      "text/plain": [
       "array([1.44613007e-12, 3.92620439e+19, 1.99647442e+64, ...,\n",
       "       6.80650377e+95, 4.13090539e-05, 2.78010345e+60])"
      ]
     },
     "execution_count": 5,
     "metadata": {},
     "output_type": "execute_result"
    }
   ],
   "source": [
    "# compute likelihood ratio\n",
    "# L(A) / L(B) = exp(l(A) - l(B))\n",
    "lr = np.exp(pd_lls - pt_lls)\n",
    "# fraction where PyTorchDIA better\n",
    "pt_win = len(lr[lr < 1])\n",
    "print('Model under Huber loss preffered %.3f percent of the time.' % (100 * (pt_win/len(lr))))\n",
    "#plt.hist(lr, bins=50)\n",
    "#plt.xlim(-0.1, 1e3)\n",
    "lr"
   ]
  },
  {
   "cell_type": "markdown",
   "metadata": {},
   "source": [
    "OK, let's move on to the other metrics. As with the simulated images results notebook, we'll use pandas in combination with seaborn to plot the metrics separated into SNR categories, and gain some insight into the distribution of each of the metrics and the correlations between them."
   ]
  },
  {
   "cell_type": "code",
   "execution_count": 6,
   "metadata": {},
   "outputs": [
    {
     "name": "stdout",
     "output_type": "stream",
     "text": [
      "(23651, 9) (23651, 9)\n"
     ]
    }
   ],
   "source": [
    "## apply a signal-to-noise ratio cut\n",
    "pd_data = pd_data[pd_data[:,4] < 1000]\n",
    "pt_data = pt_data[pt_data[:,4] < 1000]\n",
    "print(pd_data.shape, pt_data.shape)"
   ]
  },
  {
   "cell_type": "code",
   "execution_count": 7,
   "metadata": {},
   "outputs": [
    {
     "name": "stdout",
     "output_type": "stream",
     "text": [
      "pyDANDIA\n",
      "\n",
      "SNR regime: 8 < $\\mathrm{SNR}_{I}$ < 40\n",
      "Sampling regime: $\\phi_R > 1, \\phi_K > 1$\n",
      "Number of entries: 43\n",
      "|   P  |  MFB   |   MFV |   MPB |  MPV  |\n",
      "[ 1.0444 -0.0003  1.1563  3.5666  5.3843]\n",
      "\n",
      "SNR regime: 8 < $\\mathrm{SNR}_{I}$ < 40\n",
      "Sampling regime: $\\phi_R > 1, \\phi_K < 1$\n",
      "Number of entries: 0\n",
      "\n",
      "SNR regime: 40 < $\\mathrm{SNR}_{I}$ < 200\n",
      "Sampling regime: $\\phi_R > 1, \\phi_K > 1$\n",
      "Number of entries: 8892\n",
      "|   P  |  MFB   |   MFV |   MPB |  MPV  |\n",
      "[ 0.9955  0.0004  1.2157 -1.8628 14.7109]\n",
      "\n",
      "SNR regime: 40 < $\\mathrm{SNR}_{I}$ < 200\n",
      "Sampling regime: $\\phi_R > 1, \\phi_K < 1$\n",
      "Number of entries: 70\n",
      "|   P  |  MFB   |   MFV |   MPB |  MPV  |\n",
      "[ 0.9981 -0.0007  1.2136  2.4751 12.8595]\n",
      "\n",
      "SNR regime: 200 < $\\mathrm{SNR}_{I}$ < 1280\n",
      "Sampling regime: $\\phi_R > 1, \\phi_K > 1$\n",
      "Number of entries: 13895\n"
     ]
    },
    {
     "name": "stderr",
     "output_type": "stream",
     "text": [
      "/home/jah94/anaconda3/lib/python3.7/site-packages/ipykernel_launcher.py:20: SettingWithCopyWarning: \n",
      "A value is trying to be set on a copy of a slice from a DataFrame\n",
      "\n",
      "See the caveats in the documentation: http://pandas.pydata.org/pandas-docs/stable/user_guide/indexing.html#returning-a-view-versus-a-copy\n",
      "/home/jah94/anaconda3/lib/python3.7/site-packages/ipykernel_launcher.py:41: SettingWithCopyWarning: \n",
      "A value is trying to be set on a copy of a slice from a DataFrame\n",
      "\n",
      "See the caveats in the documentation: http://pandas.pydata.org/pandas-docs/stable/user_guide/indexing.html#returning-a-view-versus-a-copy\n",
      "/home/jah94/anaconda3/lib/python3.7/site-packages/ipykernel_launcher.py:42: SettingWithCopyWarning: \n",
      "A value is trying to be set on a copy of a slice from a DataFrame\n",
      "\n",
      "See the caveats in the documentation: http://pandas.pydata.org/pandas-docs/stable/user_guide/indexing.html#returning-a-view-versus-a-copy\n"
     ]
    },
    {
     "name": "stdout",
     "output_type": "stream",
     "text": [
      "|   P  |  MFB   |   MFV |   MPB |  MPV  |\n",
      "[ 1.0015  0.0015  1.3634 -2.3396 18.3351]\n",
      "\n",
      "SNR regime: 200 < $\\mathrm{SNR}_{I}$ < 1280\n",
      "Sampling regime: $\\phi_R > 1, \\phi_K < 1$\n",
      "Number of entries: 751\n",
      "|   P  |  MFB   |   MFV |   MPB |  MPV  |\n",
      "[ 1.0005 -0.0018  1.3915  3.5633 17.2339]\n",
      "\n",
      "PyTorch\n",
      "\n",
      "SNR regime: 8 < $\\mathrm{SNR}_{I}$ < 40\n",
      "Sampling regime: $\\phi_R > 1, \\phi_K > 1$\n",
      "Number of entries: 43\n",
      "|   P  |  MFB   |   MFV |   MPB |  MPV  |\n",
      "[1.0462 0.0102 1.1786 2.3138 2.478 ]\n",
      "\n",
      "SNR regime: 8 < $\\mathrm{SNR}_{I}$ < 40\n",
      "Sampling regime: $\\phi_R > 1, \\phi_K < 1$\n",
      "Number of entries: 0\n",
      "\n",
      "SNR regime: 40 < $\\mathrm{SNR}_{I}$ < 200\n",
      "Sampling regime: $\\phi_R > 1, \\phi_K > 1$\n",
      "Number of entries: 8892\n",
      "|   P  |  MFB   |   MFV |   MPB |  MPV  |\n",
      "[ 0.9955  0.0164  1.2241 -1.875  14.4893]\n",
      "\n",
      "SNR regime: 40 < $\\mathrm{SNR}_{I}$ < 200\n",
      "Sampling regime: $\\phi_R > 1, \\phi_K < 1$\n",
      "Number of entries: 70\n",
      "|   P  |  MFB   |   MFV |   MPB |  MPV  |\n",
      "[ 0.9971  0.017   1.2163  2.8176 12.9219]\n",
      "\n",
      "SNR regime: 200 < $\\mathrm{SNR}_{I}$ < 1280\n",
      "Sampling regime: $\\phi_R > 1, \\phi_K > 1$\n",
      "Number of entries: 13895\n",
      "|   P  |  MFB   |   MFV |   MPB |  MPV  |\n",
      "[ 1.0019  0.0178  1.3775 -2.4108 18.9764]\n",
      "\n",
      "SNR regime: 200 < $\\mathrm{SNR}_{I}$ < 1280\n",
      "Sampling regime: $\\phi_R > 1, \\phi_K < 1$\n",
      "Number of entries: 751\n",
      "|   P  |  MFB   |   MFV |   MPB |  MPV  |\n",
      "[ 1.0011  0.0224  1.3961  3.6804 17.5598]\n"
     ]
    }
   ],
   "source": [
    "def numpy_to_DataFrame(array):\n",
    "    \n",
    "    # out = np.vstack((MFBs, MFVs, Ps_normalised, np.array(norm_phot_resids).flatten(),\n",
    "    #                 image_SNRs, image_FWHMs, stamp_ids, ll)).T\n",
    "    \n",
    "    df = pd.DataFrame(array, columns=['MFB', 'MFV', '$P$',\n",
    "                                      '$\\mathcal{F}_{\\mathrm{measured}}/\\sigma_{\\mathrm{min}}$',\n",
    "                                      '$\\mathrm{SNR}_{I}$',\n",
    "                                      '$\\mathrm{FWHM}_{I}$',\n",
    "                                      'Stamp ID', 'log-likelihood', 'Image id'])\n",
    "\n",
    "\n",
    "    \n",
    "    # categories\n",
    "    # SNR: 3 categories\n",
    "    # 8 < $\\mathrm{SNR}_{I}$ < 40, 40 < $\\mathrm{SNR}_{I}$ < 200, 200 < $\\mathrm{SNR}_{I}$ < 1000\n",
    "    cat1, cat2, cat3 = '8 < $\\mathrm{SNR}_{I}$ < 40', '40 < $\\mathrm{SNR}_{I}$ < 200', '200 < $\\mathrm{SNR}_{I}$ < 1280'\n",
    "\n",
    "    df['SNR regime'] = 0\n",
    "    df['SNR regime'][(8. < df['$\\mathrm{SNR}_{I}$']) & (df['$\\mathrm{SNR}_{I}$'] < 40.)] = cat1\n",
    "    df['SNR regime'][(40. < df['$\\mathrm{SNR}_{I}$']) & (df['$\\mathrm{SNR}_{I}$'] < 200.)] = cat2\n",
    "    df['SNR regime'][(200. < df['$\\mathrm{SNR}_{I}$'])] = cat3\n",
    "    \n",
    "    df = df[df['SNR regime']!= 0]\n",
    "    \n",
    "    # remove variable source (stamp 1)\n",
    "    #df = df[df['Stamp ID'] != 1.0]\n",
    "    \n",
    "    # set to categorical type\n",
    "    df['SNR regime'] = df['SNR regime'].astype('category')\n",
    "    \n",
    "    # sampling: 2 categories\n",
    "    # under-/over-sampled reference or kernel\n",
    "    # a critically sampled gaussian PSF has sigma = 1 pixel (or equivalently, FWHM = 2.35 pixels)\n",
    "    cat4 = '$\\phi_R > 1, \\phi_K > 1$'\n",
    "    cat5 = '$\\phi_R > 1, \\phi_K < 1$'\n",
    "    \n",
    "    ref_fwhm = 5.625057500773691\n",
    "    df['$\\phi_k$'] = np.sqrt(df['$\\mathrm{FWHM}_{I}$']**2 - ref_fwhm**2) / 2.355\n",
    "    df['Sampling regime'] = 0\n",
    "    df['Sampling regime'][(df['$\\phi_k$'] > 1)] = cat4\n",
    "    df['Sampling regime'][(df['$\\phi_k$'] < 1)] = cat5\n",
    "    df = df[df['Sampling regime']!= 0]\n",
    "    \n",
    "\n",
    "    \n",
    "    ## drop unecessary columns\n",
    "    df = pd.DataFrame.drop(df, columns=['$\\mathrm{FWHM}_{I}$', '$\\mathrm{SNR}_{I}$',\n",
    "                                        'Stamp ID', 'log-likelihood', 'Image id'])\n",
    "    \n",
    "    # rearrange columns in correct order\n",
    "    cols = df.columns.to_list()\n",
    "    cols = [cols[2], cols[0], cols[1], cols[3], cols[4], cols[6]]     \n",
    "    df = df[cols]\n",
    "    \n",
    "    ## metrics by SNR regime\n",
    "    snr_cats = [cat1, cat2, cat3]\n",
    "    \n",
    "    sampling_cats = [cat4, cat5]\n",
    "    \n",
    "    output_metrics = np.zeros((3*2, 5))\n",
    "    output_16 = np.zeros((3*2, 5)) # 16 percentile\n",
    "    output_84 = np.zeros((3*2, 5)) # 84 percentile\n",
    "    \n",
    "    i = 0\n",
    "        \n",
    "    for snr in snr_cats:\n",
    "        for sampling in sampling_cats:\n",
    "            \n",
    "            # SNR regime\n",
    "            print('\\nSNR regime:', snr)\n",
    "            print('Sampling regime:', sampling)\n",
    "                        \n",
    "            # fit quality metrics\n",
    "            Ps = df['$P$'][(df['SNR regime'] == snr) & (df['Sampling regime'] == sampling)]\n",
    "            MFBs = df['MFB'][(df['SNR regime'] == snr) & (df['Sampling regime'] == sampling)]\n",
    "            MFVs = df['MFV'][(df['SNR regime'] == snr) & (df['Sampling regime'] == sampling)]\n",
    "            \n",
    "            print('Number of entries:', len(Ps))\n",
    "            \n",
    "            if len(Ps) > 0:\n",
    "            \n",
    "                # photometric accuracy metrics\n",
    "                colname = '$\\mathcal{F}_{\\mathrm{measured}}/\\sigma_{\\mathrm{min}}$'\n",
    "                nr = df[colname][(df['SNR regime'] == snr) & (df['Sampling regime'] == sampling)]\n",
    "                nr = df[colname][(df['SNR regime'] == snr) & (df['Sampling regime'] == sampling)]\n",
    "\n",
    "                # remove bad outliers\n",
    "                sigma = mad_std(nr)\n",
    "                nr = nr[nr < np.nanmedian(nr) + 5*sigma]\n",
    "                nr = nr[nr > np.nanmedian(nr) - 5*sigma]\n",
    "                #print('\\n\\nNot Removing Outliers!!\\n\\n')\n",
    "                #print('\\n\\nRemoving 5-sigma (MAD) Outliers!!\\n\\n')\n",
    "\n",
    "\n",
    "                MPB = 1./len(nr) * np.nansum(nr)\n",
    "                MPV = 1./(len(nr) - 1) * np.nansum((nr - MPB)**2)\n",
    "                MedPB = np.nanmedian(nr)\n",
    "                MedPV = (mad_std(nr))**2  \n",
    "\n",
    "                print('|   P  |  MFB   |   MFV |   MPB |  MPV  |')\n",
    "                results = np.array([np.median(Ps), np.median(MFBs), np.median(MFVs), MPB, MPV])\n",
    "\n",
    "                np.set_printoptions(precision=4, suppress=True)\n",
    "                print(results)\n",
    "\n",
    "                #output_metrics = np.append(output_metrics, [np.nanmedian(Ps), np.nanmedian(MSEs),np.nanmedian(MFBs),\n",
    "                #                                            np.nanmedian(MFVs), MPB, MPV])\n",
    "                output_metrics[i] = [np.nanmedian(Ps), np.nanmedian(MFBs), np.nanmedian(MFVs), MPB, MPV]\n",
    "\n",
    "                # upper and lower 34th percentiles i.e. 16 and 84 percentiles\n",
    "                def errbr(array):\n",
    "                    med = np.median(array)\n",
    "                    return (np.percentile(array, [16, 84]) - med)\n",
    "                output_16[i] = [errbr(Ps)[0], errbr(MFBs)[0], errbr(MFVs)[0], 0, 0]\n",
    "                output_84[i] = [errbr(Ps)[1], errbr(MFBs)[1], errbr(MFVs)[1], 0, 0]\n",
    "\n",
    "            i += 1\n",
    "\n",
    "        \n",
    "    return df, output_metrics, output_16, output_84\n",
    "\n",
    "print('pyDANDIA')\n",
    "pyDANDIA_df, metrics_pd, pd_16, pd_84 = numpy_to_DataFrame(pd_data)\n",
    "print('\\nPyTorch')\n",
    "PyTorch_df, metrics_pt, pt_16, pt_84 = numpy_to_DataFrame(pt_data)"
   ]
  },
  {
   "cell_type": "code",
   "execution_count": 8,
   "metadata": {},
   "outputs": [
    {
     "data": {
      "text/plain": [
       "(array([[ 1.0444, -0.0003,  1.1563,  3.5666,  5.3843],\n",
       "        [ 0.    ,  0.    ,  0.    ,  0.    ,  0.    ],\n",
       "        [ 0.9955,  0.0004,  1.2157, -1.8628, 14.7109],\n",
       "        [ 0.9981, -0.0007,  1.2136,  2.4751, 12.8595],\n",
       "        [ 1.0015,  0.0015,  1.3634, -2.3396, 18.3351],\n",
       "        [ 1.0005, -0.0018,  1.3915,  3.5633, 17.2339]]),\n",
       " array([[ 1.0462,  0.0102,  1.1786,  2.3138,  2.478 ],\n",
       "        [ 0.    ,  0.    ,  0.    ,  0.    ,  0.    ],\n",
       "        [ 0.9955,  0.0164,  1.2241, -1.875 , 14.4893],\n",
       "        [ 0.9971,  0.017 ,  1.2163,  2.8176, 12.9219],\n",
       "        [ 1.0019,  0.0178,  1.3775, -2.4108, 18.9764],\n",
       "        [ 1.0011,  0.0224,  1.3961,  3.6804, 17.5598]]))"
      ]
     },
     "execution_count": 8,
     "metadata": {},
     "output_type": "execute_result"
    }
   ],
   "source": [
    "metrics_pd, metrics_pt"
   ]
  },
  {
   "cell_type": "code",
   "execution_count": 12,
   "metadata": {},
   "outputs": [
    {
     "name": "stdout",
     "output_type": "stream",
     "text": [
      "[[ 1.      1.0444 -0.0003  1.1563  3.5666  5.3843]\n",
      " [ 1.      0.      0.      0.      0.      0.    ]\n",
      " [ 2.      0.9955  0.0004  1.2157 -1.8628 14.7109]\n",
      " [ 2.      0.9981 -0.0007  1.2136  2.4751 12.8595]\n",
      " [ 3.      1.0015  0.0015  1.3634 -2.3396 18.3351]\n",
      " [ 3.      1.0005 -0.0018  1.3915  3.5633 17.2339]]\n",
      "[[ 1.      1.0462  0.0102  1.1786  2.3138  2.478 ]\n",
      " [ 1.      0.      0.      0.      0.      0.    ]\n",
      " [ 2.      0.9955  0.0164  1.2241 -1.875  14.4893]\n",
      " [ 2.      0.9971  0.017   1.2163  2.8176 12.9219]\n",
      " [ 3.      1.0019  0.0178  1.3775 -2.4108 18.9764]\n",
      " [ 3.      1.0011  0.0224  1.3961  3.6804 17.5598]]\n",
      "Metric & SNR regime & $\\phi_R > 1, \\phi_K > 1$ & $\\phi_R > 1, \\phi_K < 1$ \\\\\n",
      "\\hline\n",
      "$P$ (B08) & 1 & $1.0444_{-0.0246}^{+0.0339}$ & $0.0000_{0.0000}^{+0.0000}$ \\\\\n",
      "$P$ (PyTorchDIA) & 1 & $1.0462_{-0.0239}^{+0.0531}$ & $0.0000_{0.0000}^{+0.0000}$ \\\\\n",
      "$P$ (B08) & 2 & $0.9955_{-0.0182}^{+0.0382}$ & $0.9981_{-0.0072}^{+0.0069}$ \\\\\n",
      "$P$ (PyTorchDIA) & 2 & $0.9955_{-0.0180}^{+0.0369}$ & $0.9971_{-0.0066}^{+0.0094}$ \\\\\n",
      "$P$ (B08) & 3 & $1.0015_{-0.0101}^{+0.0244}$ & $1.0005_{-0.0053}^{+0.0072}$ \\\\\n",
      "$P$ (PyTorchDIA) & 3 & $1.0019_{-0.0107}^{+0.0256}$ & $1.0011_{-0.0057}^{+0.0078}$ \\\\\n",
      "\\hline\n",
      "MFB (B08) & 1 & $-0.0003_{-0.0001}^{+0.0002}$ & $0.0000_{0.0000}^{+0.0000}$ \\\\\n",
      "MFB (PyTorchDIA) & 1 & $0.0102_{-0.0085}^{+0.0063}$ & $0.0000_{0.0000}^{+0.0000}$ \\\\\n",
      "MFB (B08) & 2 & $0.0004_{-0.0006}^{+0.0008}$ & $-0.0007_{-0.0006}^{+0.0003}$ \\\\\n",
      "MFB (PyTorchDIA) & 2 & $0.0164_{-0.0063}^{+0.0078}$ & $0.0170_{-0.0040}^{+0.0054}$ \\\\\n",
      "MFB (B08) & 3 & $0.0015_{-0.0018}^{+0.0028}$ & $-0.0018_{-0.0020}^{+0.0012}$ \\\\\n",
      "MFB (PyTorchDIA) & 3 & $0.0178_{-0.0085}^{+0.0144}$ & $0.0224_{-0.0084}^{+0.0068}$ \\\\\n",
      "\\hline\n",
      "MFV (B08) & 1 & $1.1563_{-0.0387}^{+0.0402}$ & $0.0000_{0.0000}^{+0.0000}$ \\\\\n",
      "MFV (PyTorchDIA) & 1 & $1.1786_{-0.0446}^{+0.0390}$ & $0.0000_{0.0000}^{+0.0000}$ \\\\\n",
      "MFV (B08) & 2 & $1.2157_{-0.1140}^{+0.2000}$ & $1.2136_{-0.0861}^{+0.1638}$ \\\\\n",
      "MFV (PyTorchDIA) & 2 & $1.2241_{-0.1193}^{+0.2087}$ & $1.2163_{-0.0870}^{+0.1649}$ \\\\\n",
      "MFV (B08) & 3 & $1.3634_{-0.1625}^{+0.3524}$ & $1.3915_{-0.1856}^{+0.1619}$ \\\\\n",
      "MFV (PyTorchDIA) & 3 & $1.3775_{-0.1712}^{+0.3707}$ & $1.3961_{-0.1864}^{+0.1684}$ \\\\\n",
      "\\hline\n",
      "MPB (B08) & 1 & $3.567_{0.000}^{+0.000}$ & $0.000_{0.000}^{+0.000}$ \\\\\n",
      "MPB (PyTorchDIA) & 1 & $2.314_{0.000}^{+0.000}$ & $0.000_{0.000}^{+0.000}$ \\\\\n",
      "MPB (B08) & 2 & $-1.863_{0.000}^{+0.000}$ & $2.475_{0.000}^{+0.000}$ \\\\\n",
      "MPB (PyTorchDIA) & 2 & $-1.875_{0.000}^{+0.000}$ & $2.818_{0.000}^{+0.000}$ \\\\\n",
      "MPB (B08) & 3 & $-2.340_{0.000}^{+0.000}$ & $3.563_{0.000}^{+0.000}$ \\\\\n",
      "MPB (PyTorchDIA) & 3 & $-2.411_{0.000}^{+0.000}$ & $3.680_{0.000}^{+0.000}$ \\\\\n",
      "\\hline\n",
      "MPV (B08) & 1 & $5.384_{0.000}^{+0.000}$ & $0.000_{0.000}^{+0.000}$ \\\\\n",
      "MPV (PyTorchDIA) & 1 & $2.478_{0.000}^{+0.000}$ & $0.000_{0.000}^{+0.000}$ \\\\\n",
      "MPV (B08) & 2 & $14.711_{0.000}^{+0.000}$ & $12.860_{0.000}^{+0.000}$ \\\\\n",
      "MPV (PyTorchDIA) & 2 & $14.489_{0.000}^{+0.000}$ & $12.922_{0.000}^{+0.000}$ \\\\\n",
      "MPV (B08) & 3 & $18.335_{0.000}^{+0.000}$ & $17.234_{0.000}^{+0.000}$ \\\\\n",
      "MPV (PyTorchDIA) & 3 & $18.976_{0.000}^{+0.000}$ & $17.560_{0.000}^{+0.000}$ \\\\\n",
      "\\hline\n"
     ]
    },
    {
     "data": {
      "image/png": "[encoded data removed]",
      "text/plain": [
       "<Figure size 720x288 with 2 Axes>"
      ]
     },
     "metadata": {},
     "output_type": "display_data"
    },
    {
     "data": {
      "image/png": "[encoded data removed]",
      "text/plain": [
       "<Figure size 720x288 with 2 Axes>"
      ]
     },
     "metadata": {},
     "output_type": "display_data"
    },
    {
     "data": {
      "image/png": "[encoded data removed]",
      "text/plain": [
       "<Figure size 720x288 with 2 Axes>"
      ]
     },
     "metadata": {},
     "output_type": "display_data"
    },
    {
     "data": {
      "image/png": "[encoded data removed]",
      "text/plain": [
       "<Figure size 720x288 with 2 Axes>"
      ]
     },
     "metadata": {},
     "output_type": "display_data"
    },
    {
     "data": {
      "image/png": "[encoded data removed]",
      "text/plain": [
       "<Figure size 720x288 with 2 Axes>"
      ]
     },
     "metadata": {},
     "output_type": "display_data"
    }
   ],
   "source": [
    "snr_regime = np.array([1, 2, 3]) # 1 -> 3 == increasing SNR regime\n",
    "snr_regimes = np.repeat(snr_regime, 2).reshape((3*2,1))\n",
    "test_metrics_pd = np.hstack((snr_regimes, metrics_pd))\n",
    "test_metrics_pt = np.hstack((snr_regimes, metrics_pt))\n",
    "\n",
    "# try this out with photometric scale factors\n",
    "x_pd = test_metrics_pd[:,0]\n",
    "x_pt = test_metrics_pt[:,0]\n",
    "\n",
    "print(test_metrics_pd)\n",
    "print(test_metrics_pt)\n",
    "\n",
    "# fit quality and photometric accuracy metrics\n",
    "categories = ['$P$','MFB', 'MFV', 'MPB', 'MPV']\n",
    "\n",
    "# target value\n",
    "target = [1, 0, 1, 0, 1]\n",
    "\n",
    "# 'o' == reference frame, 'x' == kernel\n",
    "markers = ['o','x']\n",
    "# oversampled / undersampled markersizes\n",
    "os, us = 300, 60 # ax.scatter\n",
    "#os, us = 6, 6\n",
    "\n",
    "# fontsize\n",
    "fs = 16\n",
    "\n",
    "plt.rcParams.update({'font.size': fs})\n",
    "\n",
    "\n",
    "print(\"Metric & SNR regime & $\\phi_R > 1, \\phi_K > 1$ & $\\phi_R > 1, \\phi_K < 1$ \\\\\\\\\")\n",
    "print(\"\\hline\")\n",
    "\n",
    "for i,cat in enumerate(categories):\n",
    "    \n",
    "    y_pd = test_metrics_pd[:,i+1]\n",
    "    y_pt = test_metrics_pt[:,i+1]\n",
    "    \n",
    "    yerr_pd_16 = pd_16[:,i]\n",
    "    yerr_pt_16 = pt_16[:,i]\n",
    "    yerr_pd_84 = pd_84[:,i]\n",
    "    yerr_pt_84 = pt_84[:,i]\n",
    "    \n",
    "    ymin, ymax = np.min(y_pt), np.max(y_pt)\n",
    "    \n",
    "    if i == 0 or i == 2:\n",
    "        ymin = 0.95\n",
    "    \n",
    "    pad = 1.5*mad_std(y_pt)\n",
    "    #pad = 5*mad_std(y_pt)\n",
    "\n",
    "    j = 0\n",
    "    \n",
    "    fig, ax = plt.subplots(nrows=1, ncols=2, figsize=(10,4))\n",
    "    #fig, ax = plt.subplots(nrows=1, ncols=3, figsize=(15,4))\n",
    "\n",
    "    \n",
    "    if i == len(categories) - 1:\n",
    "        plt.setp(ax, xticks=[1, 2, 3], xlabel='SNR regime', xlim=(0.6, 3.4), ylim=(ymin-pad, ymax+pad))\n",
    "        \n",
    "    else:\n",
    "        plt.setp(ax, xticks=[1,2,3], xlim=(0.6, 3.4), ylim=(ymin-pad, ymax+pad))\n",
    "        \n",
    "    plt.setp(ax[0], ylabel=cat)\n",
    "\n",
    "    if target[i] is not 'NaN':\n",
    "        ax[0].hlines(target[i], 0, 4, color='green', linestyle='--')\n",
    "        ax[1].hlines(target[i], 0, 4, color='green', linestyle='--')\n",
    "\n",
    "\n",
    "    ax[0].grid(alpha=0.7, which='major')\n",
    "    ax[1].grid(alpha=0.7, which='major')\n",
    "    \n",
    "    if i == len(categories) - 1:\n",
    "        ax[0].set_xticklabels([1,2,3])\n",
    "        ax[1].set_xticklabels([1,2,3])\n",
    "        ax[1].set_yticklabels(())\n",
    "\n",
    "    else:\n",
    "        #ax[0].set_yticklabels(())\n",
    "        ax[1].set_yticklabels(())\n",
    "        ax[0].set_xticklabels(())\n",
    "        ax[1].set_xticklabels(())\n",
    "        \n",
    "    offsets = np.linspace(-0.1, 0.1, 2)\n",
    "    \n",
    "    ### print output for latex table ###\n",
    "    y_pd1, y_pd2, y_pd3 = y_pd[0:2], y_pd[2:4], y_pd[4:6]\n",
    "    y_pd1err16, y_pd2err16, y_pd3err16 = yerr_pd_16[0:2], yerr_pd_16[2:4], yerr_pd_16[4:6]\n",
    "    y_pd1err84, y_pd2err84, y_pd3err84 = yerr_pd_84[0:2], yerr_pd_84[2:4], yerr_pd_84[4:6]\n",
    "    y_pt1, y_pt2, y_pt3 = y_pt[0:2], y_pt[2:4], y_pt[4:6]\n",
    "    y_pt1err16, y_pt2err16, y_pt3err16 = yerr_pt_16[0:2], yerr_pt_16[2:4], yerr_pt_16[4:6]\n",
    "    y_pt1err84, y_pt2err84, y_pt3err84 = yerr_pt_84[0:2], yerr_pt_84[2:4], yerr_pt_84[4:6]\n",
    "\n",
    "    def latex_fmt4p(c, snrreg, y, yerr16, yerr84):\n",
    "        print(\"%s & %d & $%.4f_{%.4f}^{+%.4f}$ & $%.4f_{%.4f}^{+%.4f}$ \\\\\\\\\" %\n",
    "              (c, snrreg, y[0], yerr16[0], yerr84[0], y[1], yerr16[1], yerr84[1]))\n",
    "\n",
    "    def latex_fmt3p(c, snrreg, y, yerr16, yerr84):\n",
    "        print(\"%s & %d & $%.3f_{%.3f}^{+%.3f}$ & $%.3f_{%.3f}^{+%.3f}$ \\\\\\\\\" %\n",
    "              (c, snrreg, y[0], yerr16[0], yerr84[0], y[1], yerr16[1], yerr84[1]))\n",
    "\n",
    "    def latex_fmt2p(c, snrreg, y, yerr16, yerr84):\n",
    "        print(\"%s & %d & $%.2f_{%.2f}^{+%.2f}$ & $%.2f_{%.2f}^{+%.2f}$ \\\\\\\\\" %\n",
    "              (c, snrreg, y[0], yerr16[0], yerr84[0], y[1], yerr16[1], yerr84[1]))\n",
    "\n",
    "    def table_fmt(cat, snrreg, y_pd, y_pderr16, y_pderr84, y_pt, y_pterr16, y_pterr84):\n",
    "        if cat == \"$P$\" or cat == 'MFB' or cat == 'MFV':  \n",
    "            latex_fmt4p(cat + \" (B08)\", snrreg, y_pd, y_pderr16, y_pderr84)\n",
    "            latex_fmt4p(cat + \" (PyTorchDIA)\", snrreg, y_pt, y_pterr16, y_pterr84)\n",
    "\n",
    "        elif cat == 'MPB' or cat == 'MPV':\n",
    "            latex_fmt3p(cat + \" (B08)\", snrreg, y_pd, y_pderr16, y_pderr84)\n",
    "            latex_fmt3p(cat + \" (PyTorchDIA)\", snrreg, y_pt, y_pterr16, y_pterr84)\n",
    "\n",
    "        else:\n",
    "            latex_fmt2p(cat + \" (B08)\", snrreg, y_pd, y_pderr16, y_pderr84)\n",
    "            latex_fmt2p(cat + \" (PyTorchDIA)\", snrreg, y_pt, y_pterr16, y_pterr84)\n",
    "\n",
    "    table_fmt(cat, 1, y_pd1, y_pd1err16, y_pd1err84, y_pt1, y_pt1err16, y_pt1err84)\n",
    "    table_fmt(cat, 2, y_pd2, y_pd2err16, y_pd2err84, y_pt2, y_pt2err16, y_pt2err84)\n",
    "    table_fmt(cat, 3, y_pd3, y_pd3err16, y_pd3err84, y_pt3, y_pt3err16, y_pt3err84)\n",
    "\n",
    "    print(\"\\hline\")\n",
    "    \n",
    "\n",
    "\n",
    "            \n",
    "    for xpd, xpt, ypd, ypt, err16pd, err16pt, err84pd, err84pt, in zip(x_pd, x_pt, y_pd, y_pt,\n",
    "                                                                       yerr_pd_16, yerr_pt_16,\n",
    "                                                                       yerr_pd_84, yerr_pt_84):\n",
    "                \n",
    "        if j == 0:\n",
    "            rs, ks = os, os\n",
    "        elif j == 1:\n",
    "            rs, ks = os, us\n",
    "            \n",
    "        # offset to space points\n",
    "        xpd += offsets[j]\n",
    "        xpt += offsets[j]\n",
    "\n",
    "        j += 1\n",
    "\n",
    "        if j == 2:\n",
    "            j = 0\n",
    "            \n",
    "\n",
    "        if [ypd] != [ypt] != 0:\n",
    "            \n",
    "            ax[0].scatter([xpd],[ypd], marker='o', s=rs, c='blue', alpha=0.4)\n",
    "            ax[0].scatter([xpd],[ypd], marker='x', s=ks, c='black')\n",
    "            ax[1].scatter([xpt],[ypt], marker='o', s=rs, c='red', alpha=0.4)\n",
    "            ax[1].scatter([xpt],[ypt], marker='x', s=ks, c='black')\n",
    "        \n",
    "        #ax[2].scatter([xpd],[ypd - ypt], marker='o', s=rs, c='black')\n",
    "        #ax[2].scatter([xpd],[ypd - ypt], marker='x', s=ks, c='black')\n",
    "        #ax[0].errorbar(xpd, ypd, yerr=[[err16pd], [err84pd]], marker='o',\n",
    "        #               markersize=rs, c='blue', alpha=0.4)\n",
    "        #ax[0].errorbar(xpd, ypd, marker='x', markersize=ks, c='black')\n",
    "        #ax[1].errorbar(xpt, ypt, yerr=[[err16pt], [err84pt]], marker='o',\n",
    "        #               markersize=rs, c='red', alpha=0.4)\n",
    "        #ax[1].errorbar(xpt, ypt, marker='x', markersize=ks, c='black')    \n",
    "        \n",
    "        \n",
    "        fname = cat + '_real_results_.png'\n",
    "        \n",
    "        if i == len(categories) - 1:\n",
    "            #plt.savefig(fname, bbox_inches='tight')\n",
    "            #x0, y0, x1, y1 = 0, 0, 1, 1\n",
    "            #bbox = np.array([[x0, y0], [x1, y1]]).reshape(2, 2)\n",
    "            plt.savefig(fname, bbox_inches='tight')\n",
    "            #plt.savefig(fname)\n",
    "\n",
    "        else:\n",
    "            plt.savefig(fname)\n",
    "        "
   ]
  },
  {
   "cell_type": "markdown",
   "metadata": {},
   "source": []
  },
  {
   "cell_type": "code",
   "execution_count": 10,
   "metadata": {},
   "outputs": [
    {
     "ename": "KeyError",
     "evalue": "'SNR category'",
     "output_type": "error",
     "traceback": [
      "\u001b[0;31m---------------------------------------------------------------------------\u001b[0m",
      "\u001b[0;31mKeyError\u001b[0m                                  Traceback (most recent call last)",
      "\u001b[0;32m~/anaconda3/lib/python3.7/site-packages/pandas/core/indexes/base.py\u001b[0m in \u001b[0;36mget_loc\u001b[0;34m(self, key, method, tolerance)\u001b[0m\n\u001b[1;32m   2896\u001b[0m             \u001b[0;32mtry\u001b[0m\u001b[0;34m:\u001b[0m\u001b[0;34m\u001b[0m\u001b[0;34m\u001b[0m\u001b[0m\n\u001b[0;32m-> 2897\u001b[0;31m                 \u001b[0;32mreturn\u001b[0m \u001b[0mself\u001b[0m\u001b[0;34m.\u001b[0m\u001b[0m_engine\u001b[0m\u001b[0;34m.\u001b[0m\u001b[0mget_loc\u001b[0m\u001b[0;34m(\u001b[0m\u001b[0mkey\u001b[0m\u001b[0;34m)\u001b[0m\u001b[0;34m\u001b[0m\u001b[0;34m\u001b[0m\u001b[0m\n\u001b[0m\u001b[1;32m   2898\u001b[0m             \u001b[0;32mexcept\u001b[0m \u001b[0mKeyError\u001b[0m\u001b[0;34m:\u001b[0m\u001b[0;34m\u001b[0m\u001b[0;34m\u001b[0m\u001b[0m\n",
      "\u001b[0;32mpandas/_libs/index.pyx\u001b[0m in \u001b[0;36mpandas._libs.index.IndexEngine.get_loc\u001b[0;34m()\u001b[0m\n",
      "\u001b[0;32mpandas/_libs/index.pyx\u001b[0m in \u001b[0;36mpandas._libs.index.IndexEngine.get_loc\u001b[0;34m()\u001b[0m\n",
      "\u001b[0;32mpandas/_libs/hashtable_class_helper.pxi\u001b[0m in \u001b[0;36mpandas._libs.hashtable.PyObjectHashTable.get_item\u001b[0;34m()\u001b[0m\n",
      "\u001b[0;32mpandas/_libs/hashtable_class_helper.pxi\u001b[0m in \u001b[0;36mpandas._libs.hashtable.PyObjectHashTable.get_item\u001b[0;34m()\u001b[0m\n",
      "\u001b[0;31mKeyError\u001b[0m: 'SNR category'",
      "\nDuring handling of the above exception, another exception occurred:\n",
      "\u001b[0;31mKeyError\u001b[0m                                  Traceback (most recent call last)",
      "\u001b[0;32m<ipython-input-10-40af202fa4d8>\u001b[0m in \u001b[0;36m<module>\u001b[0;34m\u001b[0m\n\u001b[1;32m      1\u001b[0m \u001b[0msns\u001b[0m\u001b[0;34m.\u001b[0m\u001b[0mset\u001b[0m\u001b[0;34m(\u001b[0m\u001b[0mcontext\u001b[0m\u001b[0;34m=\u001b[0m\u001b[0;34m'notebook'\u001b[0m\u001b[0;34m,\u001b[0m \u001b[0mfont_scale\u001b[0m \u001b[0;34m=\u001b[0m \u001b[0;36m1.2\u001b[0m\u001b[0;34m,\u001b[0m \u001b[0mstyle\u001b[0m\u001b[0;34m=\u001b[0m\u001b[0;34m'white'\u001b[0m\u001b[0;34m)\u001b[0m\u001b[0;34m\u001b[0m\u001b[0;34m\u001b[0m\u001b[0m\n\u001b[0;32m----> 2\u001b[0;31m \u001b[0msns\u001b[0m\u001b[0;34m.\u001b[0m\u001b[0mpairplot\u001b[0m\u001b[0;34m(\u001b[0m\u001b[0mPyTorch_df\u001b[0m\u001b[0;34m,\u001b[0m \u001b[0mhue\u001b[0m\u001b[0;34m=\u001b[0m\u001b[0;34m'SNR category'\u001b[0m\u001b[0;34m,\u001b[0m \u001b[0mcorner\u001b[0m\u001b[0;34m=\u001b[0m\u001b[0;32mTrue\u001b[0m\u001b[0;34m)\u001b[0m\u001b[0;34m\u001b[0m\u001b[0;34m\u001b[0m\u001b[0m\n\u001b[0m\u001b[1;32m      3\u001b[0m \u001b[0;31m#plt.savefig('Corner_plot_PyTorch_real_data_.png')\u001b[0m\u001b[0;34m\u001b[0m\u001b[0;34m\u001b[0m\u001b[0;34m\u001b[0m\u001b[0m\n\u001b[1;32m      4\u001b[0m \u001b[0;31m#plt.show()\u001b[0m\u001b[0;34m\u001b[0m\u001b[0;34m\u001b[0m\u001b[0;34m\u001b[0m\u001b[0m\n\u001b[1;32m      5\u001b[0m \u001b[0;34m\u001b[0m\u001b[0m\n",
      "\u001b[0;32m~/anaconda3/lib/python3.7/site-packages/seaborn/axisgrid.py\u001b[0m in \u001b[0;36mpairplot\u001b[0;34m(data, hue, hue_order, palette, vars, x_vars, y_vars, kind, diag_kind, markers, height, aspect, corner, dropna, plot_kws, diag_kws, grid_kws, size)\u001b[0m\n\u001b[1;32m   2084\u001b[0m     grid = PairGrid(data, vars=vars, x_vars=x_vars, y_vars=y_vars, hue=hue,\n\u001b[1;32m   2085\u001b[0m                     \u001b[0mhue_order\u001b[0m\u001b[0;34m=\u001b[0m\u001b[0mhue_order\u001b[0m\u001b[0;34m,\u001b[0m \u001b[0mpalette\u001b[0m\u001b[0;34m=\u001b[0m\u001b[0mpalette\u001b[0m\u001b[0;34m,\u001b[0m \u001b[0mcorner\u001b[0m\u001b[0;34m=\u001b[0m\u001b[0mcorner\u001b[0m\u001b[0;34m,\u001b[0m\u001b[0;34m\u001b[0m\u001b[0;34m\u001b[0m\u001b[0m\n\u001b[0;32m-> 2086\u001b[0;31m                     height=height, aspect=aspect, dropna=dropna, **grid_kws)\n\u001b[0m\u001b[1;32m   2087\u001b[0m \u001b[0;34m\u001b[0m\u001b[0m\n\u001b[1;32m   2088\u001b[0m     \u001b[0;31m# Add the markers here as PairGrid has figured out how many levels of the\u001b[0m\u001b[0;34m\u001b[0m\u001b[0;34m\u001b[0m\u001b[0;34m\u001b[0m\u001b[0m\n",
      "\u001b[0;32m~/anaconda3/lib/python3.7/site-packages/seaborn/axisgrid.py\u001b[0m in \u001b[0;36m__init__\u001b[0;34m(self, data, hue, hue_order, palette, hue_kws, vars, x_vars, y_vars, corner, diag_sharey, height, aspect, layout_pad, despine, dropna, size)\u001b[0m\n\u001b[1;32m   1323\u001b[0m                                       index=data.index)\n\u001b[1;32m   1324\u001b[0m         \u001b[0;32melse\u001b[0m\u001b[0;34m:\u001b[0m\u001b[0;34m\u001b[0m\u001b[0;34m\u001b[0m\u001b[0m\n\u001b[0;32m-> 1325\u001b[0;31m             \u001b[0mhue_names\u001b[0m \u001b[0;34m=\u001b[0m \u001b[0mutils\u001b[0m\u001b[0;34m.\u001b[0m\u001b[0mcategorical_order\u001b[0m\u001b[0;34m(\u001b[0m\u001b[0mdata\u001b[0m\u001b[0;34m[\u001b[0m\u001b[0mhue\u001b[0m\u001b[0;34m]\u001b[0m\u001b[0;34m,\u001b[0m \u001b[0mhue_order\u001b[0m\u001b[0;34m)\u001b[0m\u001b[0;34m\u001b[0m\u001b[0;34m\u001b[0m\u001b[0m\n\u001b[0m\u001b[1;32m   1326\u001b[0m             \u001b[0;32mif\u001b[0m \u001b[0mdropna\u001b[0m\u001b[0;34m:\u001b[0m\u001b[0;34m\u001b[0m\u001b[0;34m\u001b[0m\u001b[0m\n\u001b[1;32m   1327\u001b[0m                 \u001b[0;31m# Filter NA from the list of unique hue names\u001b[0m\u001b[0;34m\u001b[0m\u001b[0;34m\u001b[0m\u001b[0;34m\u001b[0m\u001b[0m\n",
      "\u001b[0;32m~/anaconda3/lib/python3.7/site-packages/pandas/core/frame.py\u001b[0m in \u001b[0;36m__getitem__\u001b[0;34m(self, key)\u001b[0m\n\u001b[1;32m   2978\u001b[0m             \u001b[0;32mif\u001b[0m \u001b[0mself\u001b[0m\u001b[0;34m.\u001b[0m\u001b[0mcolumns\u001b[0m\u001b[0;34m.\u001b[0m\u001b[0mnlevels\u001b[0m \u001b[0;34m>\u001b[0m \u001b[0;36m1\u001b[0m\u001b[0;34m:\u001b[0m\u001b[0;34m\u001b[0m\u001b[0;34m\u001b[0m\u001b[0m\n\u001b[1;32m   2979\u001b[0m                 \u001b[0;32mreturn\u001b[0m \u001b[0mself\u001b[0m\u001b[0;34m.\u001b[0m\u001b[0m_getitem_multilevel\u001b[0m\u001b[0;34m(\u001b[0m\u001b[0mkey\u001b[0m\u001b[0;34m)\u001b[0m\u001b[0;34m\u001b[0m\u001b[0;34m\u001b[0m\u001b[0m\n\u001b[0;32m-> 2980\u001b[0;31m             \u001b[0mindexer\u001b[0m \u001b[0;34m=\u001b[0m \u001b[0mself\u001b[0m\u001b[0;34m.\u001b[0m\u001b[0mcolumns\u001b[0m\u001b[0;34m.\u001b[0m\u001b[0mget_loc\u001b[0m\u001b[0;34m(\u001b[0m\u001b[0mkey\u001b[0m\u001b[0;34m)\u001b[0m\u001b[0;34m\u001b[0m\u001b[0;34m\u001b[0m\u001b[0m\n\u001b[0m\u001b[1;32m   2981\u001b[0m             \u001b[0;32mif\u001b[0m \u001b[0mis_integer\u001b[0m\u001b[0;34m(\u001b[0m\u001b[0mindexer\u001b[0m\u001b[0;34m)\u001b[0m\u001b[0;34m:\u001b[0m\u001b[0;34m\u001b[0m\u001b[0;34m\u001b[0m\u001b[0m\n\u001b[1;32m   2982\u001b[0m                 \u001b[0mindexer\u001b[0m \u001b[0;34m=\u001b[0m \u001b[0;34m[\u001b[0m\u001b[0mindexer\u001b[0m\u001b[0;34m]\u001b[0m\u001b[0;34m\u001b[0m\u001b[0;34m\u001b[0m\u001b[0m\n",
      "\u001b[0;32m~/anaconda3/lib/python3.7/site-packages/pandas/core/indexes/base.py\u001b[0m in \u001b[0;36mget_loc\u001b[0;34m(self, key, method, tolerance)\u001b[0m\n\u001b[1;32m   2897\u001b[0m                 \u001b[0;32mreturn\u001b[0m \u001b[0mself\u001b[0m\u001b[0;34m.\u001b[0m\u001b[0m_engine\u001b[0m\u001b[0;34m.\u001b[0m\u001b[0mget_loc\u001b[0m\u001b[0;34m(\u001b[0m\u001b[0mkey\u001b[0m\u001b[0;34m)\u001b[0m\u001b[0;34m\u001b[0m\u001b[0;34m\u001b[0m\u001b[0m\n\u001b[1;32m   2898\u001b[0m             \u001b[0;32mexcept\u001b[0m \u001b[0mKeyError\u001b[0m\u001b[0;34m:\u001b[0m\u001b[0;34m\u001b[0m\u001b[0;34m\u001b[0m\u001b[0m\n\u001b[0;32m-> 2899\u001b[0;31m                 \u001b[0;32mreturn\u001b[0m \u001b[0mself\u001b[0m\u001b[0;34m.\u001b[0m\u001b[0m_engine\u001b[0m\u001b[0;34m.\u001b[0m\u001b[0mget_loc\u001b[0m\u001b[0;34m(\u001b[0m\u001b[0mself\u001b[0m\u001b[0;34m.\u001b[0m\u001b[0m_maybe_cast_indexer\u001b[0m\u001b[0;34m(\u001b[0m\u001b[0mkey\u001b[0m\u001b[0;34m)\u001b[0m\u001b[0;34m)\u001b[0m\u001b[0;34m\u001b[0m\u001b[0;34m\u001b[0m\u001b[0m\n\u001b[0m\u001b[1;32m   2900\u001b[0m         \u001b[0mindexer\u001b[0m \u001b[0;34m=\u001b[0m \u001b[0mself\u001b[0m\u001b[0;34m.\u001b[0m\u001b[0mget_indexer\u001b[0m\u001b[0;34m(\u001b[0m\u001b[0;34m[\u001b[0m\u001b[0mkey\u001b[0m\u001b[0;34m]\u001b[0m\u001b[0;34m,\u001b[0m \u001b[0mmethod\u001b[0m\u001b[0;34m=\u001b[0m\u001b[0mmethod\u001b[0m\u001b[0;34m,\u001b[0m \u001b[0mtolerance\u001b[0m\u001b[0;34m=\u001b[0m\u001b[0mtolerance\u001b[0m\u001b[0;34m)\u001b[0m\u001b[0;34m\u001b[0m\u001b[0;34m\u001b[0m\u001b[0m\n\u001b[1;32m   2901\u001b[0m         \u001b[0;32mif\u001b[0m \u001b[0mindexer\u001b[0m\u001b[0;34m.\u001b[0m\u001b[0mndim\u001b[0m \u001b[0;34m>\u001b[0m \u001b[0;36m1\u001b[0m \u001b[0;32mor\u001b[0m \u001b[0mindexer\u001b[0m\u001b[0;34m.\u001b[0m\u001b[0msize\u001b[0m \u001b[0;34m>\u001b[0m \u001b[0;36m1\u001b[0m\u001b[0;34m:\u001b[0m\u001b[0;34m\u001b[0m\u001b[0;34m\u001b[0m\u001b[0m\n",
      "\u001b[0;32mpandas/_libs/index.pyx\u001b[0m in \u001b[0;36mpandas._libs.index.IndexEngine.get_loc\u001b[0;34m()\u001b[0m\n",
      "\u001b[0;32mpandas/_libs/index.pyx\u001b[0m in \u001b[0;36mpandas._libs.index.IndexEngine.get_loc\u001b[0;34m()\u001b[0m\n",
      "\u001b[0;32mpandas/_libs/hashtable_class_helper.pxi\u001b[0m in \u001b[0;36mpandas._libs.hashtable.PyObjectHashTable.get_item\u001b[0;34m()\u001b[0m\n",
      "\u001b[0;32mpandas/_libs/hashtable_class_helper.pxi\u001b[0m in \u001b[0;36mpandas._libs.hashtable.PyObjectHashTable.get_item\u001b[0;34m()\u001b[0m\n",
      "\u001b[0;31mKeyError\u001b[0m: 'SNR category'"
     ]
    },
    {
     "data": {
      "image/png": "[encoded data removed]",
      "text/plain": [
       "<Figure size 720x720 with 10 Axes>"
      ]
     },
     "metadata": {},
     "output_type": "display_data"
    }
   ],
   "source": [
    "sns.set(context='notebook', font_scale = 1.2, style='white')\n",
    "sns.pairplot(PyTorch_df, hue='SNR category', corner=True)\n",
    "#plt.savefig('Corner_plot_PyTorch_real_data_.png')\n",
    "#plt.show()\n",
    "\n",
    "#sns.set(context='notebook', font_scale = 1.2, style='white')\n",
    "#sns.pairplot(pyDANDIA_df, hue='SNR category', corner=True)\n",
    "#plt.show()"
   ]
  },
  {
   "cell_type": "code",
   "execution_count": null,
   "metadata": {},
   "outputs": [],
   "source": [
    "# for clarity when plotting, exclude bad outliers\n",
    "def clip(df):\n",
    "    \n",
    "    labels = ['$P$', 'MFB', 'MFV', '$\\mathcal{F}_{\\mathrm{measured}}/\\sigma_{\\mathrm{min}}$']\n",
    "    \n",
    "    for label in labels:\n",
    "        column = df[label]\n",
    "        std = mad_std(column)\n",
    "        sigma = 5\n",
    "        column[column > np.median(column) + sigma*std] = 0\n",
    "        column[column < np.median(column) - sigma*std] = 0\n",
    "        \n",
    "        #if label == '$\\mathcal{F}_{\\mathrm{measured}}/\\sigma_{\\mathrm{min}}$':\n",
    "        #    print('MPB:', np.mean(column))\n",
    "        #    print('MPV:', (np.std(column))**2)\n",
    "          \n",
    "    clipped_df = df[df != 0]\n",
    "    \n",
    "    return clipped_df\n",
    "        \n",
    "PyTorch_df_clipped = clip(PyTorch_df)"
   ]
  },
  {
   "cell_type": "code",
   "execution_count": null,
   "metadata": {},
   "outputs": [],
   "source": [
    "### cut outliers from plots for clarity\n",
    "sns.set(context='notebook', font_scale = 1.2, style='white')\n",
    "pp = sns.pairplot(PyTorch_df_clipped, hue='SNR category', corner=True)\n",
    "#pp.axes[1,0].set_ylim(-0.2,0.2)\n",
    "#pp.axes[3,1].set_xlim(-0.2,0.2)\n",
    "#pp.axes[2,0].set_ylim(0.8, 3.5)\n",
    "#pp.axes[3,2].set_xlim(0.8, 3.5)\n",
    "#pp.axes[3,0].set_xlim(0.8, 1.35)\n",
    "#pp.axes[3,1].tick_params(labelsize=10)\n",
    "#pp.axes[4,2].tick_params(labelsize=12)\n",
    "plt.savefig('Corner_plot_PyTorch_real_data_.png', bbox_inches='tight')"
   ]
  },
  {
   "cell_type": "code",
   "execution_count": 10,
   "metadata": {},
   "outputs": [
    {
     "name": "stdout",
     "output_type": "stream",
     "text": [
      "0.0017989689663944208\n",
      "0.010478443902440654\n",
      "0.022349857997522093\n",
      "1.2528224502538525\n",
      "2.9063830767818764\n",
      "3.4467163456897154e-05\n",
      "0.01608491862736339\n",
      "0.008440735357575502\n",
      "0.01091661471075489\n",
      "0.17130380029905368\n",
      "0.0004549392786239448\n",
      "0.017525875129528495\n",
      "0.013383539151170076\n",
      "0.07406383770422997\n",
      "0.7410376384776249\n"
     ]
    }
   ],
   "source": [
    "#### difference column for paper ####\n",
    "diff = np.abs(pyDANDIA_metrics - PyTorch_metrics)\n",
    "for d in diff:\n",
    "    print(d)"
   ]
  },
  {
   "cell_type": "code",
   "execution_count": 1,
   "metadata": {},
   "outputs": [
    {
     "data": {
      "text/plain": [
       "185.70967741935485"
      ]
     },
     "execution_count": 1,
     "metadata": {},
     "output_type": "execute_result"
    }
   ],
   "source": [
    "28785 / 155"
   ]
  },
  {
   "cell_type": "code",
   "execution_count": null,
   "metadata": {},
   "outputs": [],
   "source": [
    "for snr_cat in snr_cats:\n",
    "        print('\\n')\n",
    "        print(snr_cat)\n",
    "        print('$P$:', np.median(df['$P$'][df['SNR snr_category'] == snr_cat]))\n",
    "        N_set = len(df['$\\mathcal{F}_{\\mathrm{measured}}/\\sigma_{\\mathrm{min}}$'][df['SNR snr_category'] == snr_cat])\n",
    "        print('MFB:', np.median(df['MFB'][df['SNR snr_category'] == snr_cat]))\n",
    "        print('MFV:', np.median(df['MFV'][df['SNR snr_category'] == snr_cat]))\n",
    "        nr = df['$\\mathcal{F}_{\\mathrm{measured}}/\\sigma_{\\mathrm{min}}$'][df['SNR snr_category'] == snr_cat]\n",
    "        # remove bad outliers\n",
    "        sigma = mad_std(nr)\n",
    "        nr = nr[nr < np.nanmedian(nr) + 5*sigma]\n",
    "        nr = nr[nr > np.nanmedian(nr) - 5*sigma]\n",
    "        MPB = np.mean(nr)\n",
    "        MPV = np.std(nr, ddof=1)**2\n",
    "        print('N_set:', N_set)\n",
    "        print('MPB:', MPB)\n",
    "        print('MPV:', MPV)\n",
    "        print('MedPB:', np.median(df['$\\mathcal{F}_{\\mathrm{measured}}/\\sigma_{\\mathrm{min}}$'][df['SNR snr_category'] == snr_cat]))\n",
    "        sigmad = mad_std(df['$\\mathcal{F}_{\\mathrm{measured}}/\\sigma_{\\mathrm{min}}$'][df['SNR snr_category'] == snr_cat])\n",
    "        print('MedPV:', sigmad**2)\n",
    "        \n",
    "        output_metrics = np.append(output_metrics, [np.median(df['$P$'][df['SNR snr_category'] == snr_cat]),\n",
    "                                                   np.median(df['MFB'][df['SNR snr_category'] == snr_cat]),\n",
    "                                                   np.median(df['MFV'][df['SNR snr_category'] == snr_cat]),\n",
    "                                                   MPB, MPV])\n",
    "        "
   ]
  },
  {
   "cell_type": "code",
   "execution_count": 15,
   "metadata": {},
   "outputs": [
    {
     "data": {
      "text/plain": [
       "-3.6902326286277183"
      ]
     },
     "execution_count": 15,
     "metadata": {},
     "output_type": "execute_result"
    }
   ],
   "source": [
    "(25420  - (106 * 249)) / (106 * 249) * 100"
   ]
  },
  {
   "cell_type": "code",
   "execution_count": 15,
   "metadata": {},
   "outputs": [
    {
     "data": {
      "text/plain": [
       "0.03602931496028437"
      ]
     },
     "execution_count": 15,
     "metadata": {},
     "output_type": "execute_result"
    }
   ],
   "source": [
    "(751 + 70) / (8892 + 13895)"
   ]
  },
  {
   "cell_type": "code",
   "execution_count": 16,
   "metadata": {},
   "outputs": [
    {
     "data": {
      "text/plain": [
       "0.03734439834024896"
      ]
     },
     "execution_count": 16,
     "metadata": {},
     "output_type": "execute_result"
    }
   ],
   "source": [
    "9 / 241"
   ]
  },
  {
   "cell_type": "code",
   "execution_count": null,
   "metadata": {},
   "outputs": [],
   "source": []
  }
 ],
 "metadata": {
  "kernelspec": {
   "display_name": "Python 3",
   "language": "python",
   "name": "python3"
  },
  "language_info": {
   "codemirror_mode": {
    "name": "ipython",
    "version": 3
   },
   "file_extension": ".py",
   "mimetype": "text/x-python",
   "name": "python",
   "nbconvert_exporter": "python",
   "pygments_lexer": "ipython3",
   "version": "3.7.4"
  }
 },
 "nbformat": 4,
 "nbformat_minor": 2
}
