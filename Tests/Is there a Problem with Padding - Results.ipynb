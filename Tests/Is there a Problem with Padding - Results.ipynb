{
 "cells": [
  {
   "cell_type": "markdown",
   "metadata": {},
   "source": [
    "Here, we compare the results of the fit quality and photometric accuracy metrics of the pad/no_pad PyTorchDIA tests."
   ]
  },
  {
   "cell_type": "code",
   "execution_count": 1,
   "metadata": {},
   "outputs": [],
   "source": [
    "# imports\n",
    "import numpy as np\n",
    "import os\n",
    "import matplotlib as mpl\n",
    "import matplotlib.pyplot as plt\n",
    "from scipy.stats import norm\n",
    "from astropy.stats import mad_std\n",
    "import seaborn as sns\n",
    "import pandas as pd\n",
    "%matplotlib inline"
   ]
  },
  {
   "cell_type": "code",
   "execution_count": 2,
   "metadata": {},
   "outputs": [
    {
     "name": "stdout",
     "output_type": "stream",
     "text": [
      "(913, 17) (913, 17)\n"
     ]
    }
   ],
   "source": [
    "# load data\n",
    "data_pad = np.genfromtxt('PyTorch_Pad.txt')\n",
    "data_nopad = np.genfromtxt('PyTorch_NoPad.txt')\n",
    "print(data_pad.shape, data_nopad.shape)\n",
    "\n",
    "# data files have columns ordered such as:\n",
    "# data_file = np.vstack((np.sum(kernel), B0, MSE, MFB, MFV, F_measured, var_min,\n",
    "#                            star_density, phi_r, sky, phi_k,\n",
    "#                            SNR_ref, SNR_imag, F_frac, shift_x, shift_y, ll))"
   ]
  },
  {
   "cell_type": "code",
   "execution_count": 3,
   "metadata": {},
   "outputs": [
    {
     "name": "stdout",
     "output_type": "stream",
     "text": [
      "Saul good...\n",
      "Final file shapes:\n",
      "(913, 17) (913, 17)\n"
     ]
    }
   ],
   "source": [
    "# clean data - make sure we're comparing identical sets of simulations\n",
    "# the pad results are always computed first, so this is simply a case\n",
    "# of removing some rows from the pad results file\n",
    "def clean_data(pad, nopad):\n",
    "    \n",
    "    # 'image parameter' columns that will be identical to both data results files\n",
    "    columns = [7,8,9,10,11,12,13,13,14,15]\n",
    "    pad_image_params = pad[:, columns]\n",
    "    nopad_image_params = nopad[:, columns]\n",
    "    \n",
    "    # cycle through each image parameter row, and check it appears in both files\n",
    "    mask = []\n",
    "    for indx in range(0, len(pad_image_params)):\n",
    "        if pad_image_params[indx] in nopad_image_params:\n",
    "            mask.append(0)\n",
    "        else:\n",
    "            mask.append(1)\n",
    "    \n",
    "    # remove rows unique to pad file\n",
    "    mask = np.array(mask)\n",
    "    pad = pad[np.where(mask == 0)]\n",
    "    \n",
    "    # check we're truly consistent\n",
    "    pad_image_params = pad[:, columns]\n",
    "    nopad_image_params = nopad[:, columns]\n",
    "    if (pad_image_params == nopad_image_params).all() == True:\n",
    "        print(\"Saul good...\")\n",
    "    else:\n",
    "        print(\"Something's gone wrong...\")\n",
    "    \n",
    "    print('Final file shapes:')\n",
    "    print(pad.shape, nopad.shape)\n",
    "\n",
    "    return pad, nopad\n",
    "\n",
    "data_pad, data_nopad = clean_data(data_pad, data_nopad)"
   ]
  },
  {
   "cell_type": "code",
   "execution_count": 4,
   "metadata": {},
   "outputs": [
    {
     "name": "stdout",
     "output_type": "stream",
     "text": [
      "False False\n"
     ]
    }
   ],
   "source": [
    "# any NaNs to deal with?\n",
    "print(np.isnan(data_pad).any(), np.isnan(data_nopad).any())"
   ]
  },
  {
   "cell_type": "markdown",
   "metadata": {},
   "source": [
    "OK, as a separate exercise, it'd be of interest in computing the likelihood ratios for both approaches.\n",
    "The log-likelihood, for the data under the MLE model for both approaches is available in the last column of the data results files"
   ]
  },
  {
   "cell_type": "code",
   "execution_count": 5,
   "metadata": {},
   "outputs": [],
   "source": [
    "pad_ll, nopad_ll = data_pad[:,-1], data_nopad[:,-1]"
   ]
  },
  {
   "cell_type": "code",
   "execution_count": 6,
   "metadata": {},
   "outputs": [
    {
     "name": "stdout",
     "output_type": "stream",
     "text": [
      "Median, minimum and maximum: 90.57977947662584 -468.82570407842286 15039.18148404616\n",
      "Fraction where Pad peforms better: 0.9923329682365827\n"
     ]
    }
   ],
   "source": [
    "# likelihood ratio\n",
    "lr = pad_ll - nopad_ll # for log-probabilites, ratio is the difference\n",
    "# if pad_ll > nopad_ll, then lr > 0\n",
    "print('Median, minimum and maximum:', np.median(lr), np.min(lr), np.max(lr))\n",
    "print('Fraction where Pad peforms better:', np.where(lr > 0)[0].shape[0] / len(lr))"
   ]
  },
  {
   "cell_type": "code",
   "execution_count": 7,
   "metadata": {},
   "outputs": [
    {
     "name": "stderr",
     "output_type": "stream",
     "text": [
      "/home/jah94/anaconda3/lib/python3.7/site-packages/ipykernel_launcher.py:23: SettingWithCopyWarning: \n",
      "A value is trying to be set on a copy of a slice from a DataFrame\n",
      "\n",
      "See the caveats in the documentation: http://pandas.pydata.org/pandas-docs/stable/user_guide/indexing.html#returning-a-view-versus-a-copy\n",
      "/home/jah94/anaconda3/lib/python3.7/site-packages/ipykernel_launcher.py:40: SettingWithCopyWarning: \n",
      "A value is trying to be set on a copy of a slice from a DataFrame\n",
      "\n",
      "See the caveats in the documentation: http://pandas.pydata.org/pandas-docs/stable/user_guide/indexing.html#returning-a-view-versus-a-copy\n"
     ]
    }
   ],
   "source": [
    "# create pandas dataframe - we'll need this to plot w. Seaborn later on\n",
    "\n",
    "def numpy_to_DataFrame(array):\n",
    "    df = pd.DataFrame(array, columns=['$P$', 'B0', 'MSE', 'MFB', 'MFV',\n",
    "                                      'F_meas', 'var_min', 'Stellar Density', 'phi_r',\n",
    "                                      'sky', 'phi_k', 'SNR_ref', '$\\mathrm{SNR}_{I}$',\n",
    "                                       '$\\mathcal{F}_{\\mathrm{Max}}/\\mathcal{F}_{\\mathrm{Total}}$',\n",
    "                                        '$\\delta x$', '$\\delta y$', 'll'])\n",
    "\n",
    "    \n",
    "    df['$\\mathcal{F}_{\\mathrm{measured}}/\\sigma_{\\mathrm{min}}$'] = df['F_meas']/np.sqrt(df['var_min'])\n",
    "    \n",
    "    ## drop unecessary columns\n",
    "    df = pd.DataFrame.drop(df, columns=['B0', 'F_meas', 'var_min', 'sky'])\n",
    "    \n",
    "    ## Define the SNR and sampling regimes ##\n",
    "    # SNR: 3 categories\n",
    "    cat1 = '8 < $\\mathrm{SNR}_{I}$ < 40'\n",
    "    cat2 = '40 < $\\mathrm{SNR}_{I}$ < 200'\n",
    "    cat3 = '200 < $\\mathrm{SNR}_{I}$ < 1000'\n",
    "    \n",
    "    df['SNR regime'] = 0\n",
    "    df['SNR regime'][(8. < df['$\\mathrm{SNR}_{I}$']) & (df['$\\mathrm{SNR}_{I}$'] < 40.)] = cat1\n",
    "    df['SNR regime'][(40. < df['$\\mathrm{SNR}_{I}$']) & (df['$\\mathrm{SNR}_{I}$'] < 200.)] = cat2\n",
    "    df['SNR regime'][(200. < df['$\\mathrm{SNR}_{I}$']) & (df['$\\mathrm{SNR}_{I}$'] < 1000.)] = cat3\n",
    "    df = df[df['SNR regime']!= 0]\n",
    "\n",
    "    # set to categorical type\n",
    "    df['SNR regime'] = df['SNR regime'].astype('category')\n",
    "\n",
    "    # sampling: 4 categories\n",
    "    # under-/over-sampled reference or kernel\n",
    "    # a critically sampled gaussian PSF has sigma = 1 pixel (or equivalently, FWHM = 2.35 pixels)\n",
    "    cat4 = '$\\phi_R > 1, \\phi_K > 1$'\n",
    "    cat5 = '$\\phi_R > 1, \\phi_K < 1$'\n",
    "    cat6 = '$\\phi_R < 1, \\phi_K > 1$'\n",
    "    cat7 = '$\\phi_R < 1, \\phi_K < 1$'\n",
    "    \n",
    "    df['Sampling regime'] = 0\n",
    "    df['Sampling regime'][(df['phi_r'] > 1) & (df['phi_k'] > 1)] = cat4\n",
    "    df['Sampling regime'][(df['phi_r'] > 1) & (df['phi_k'] < 1)] = cat5\n",
    "    df['Sampling regime'][(df['phi_r'] < 1) & (df['phi_k'] > 1)] = cat6\n",
    "    df['Sampling regime'][(df['phi_r'] < 1) & (df['phi_k'] < 1)] = cat7\n",
    "    df = df[df['Sampling regime']!= 0]\n",
    "    \n",
    "    # set to categorical type\n",
    "    df['Sampling regime'] = df['Sampling regime'].astype('category')\n",
    "\n",
    "    # drop more uneccesary columns\n",
    "    df = pd.DataFrame.drop(df, columns=['SNR_ref', '$\\mathrm{SNR}_{I}$', 'phi_k', 'phi_r',\n",
    "                                       '$\\mathcal{F}_{\\mathrm{Max}}/\\mathcal{F}_{\\mathrm{Total}}$',\n",
    "                                       'Stellar Density', '$\\delta x$', '$\\delta y$', 'll'])\n",
    "    \n",
    "    \n",
    "\n",
    "    return df\n",
    "\n",
    "df_pad = numpy_to_DataFrame(data_pad)\n",
    "df_nopad = numpy_to_DataFrame(data_nopad)"
   ]
  },
  {
   "cell_type": "code",
   "execution_count": 8,
   "metadata": {},
   "outputs": [
    {
     "data": {
      "text/html": [
       "<div>\n",
       "<style scoped>\n",
       "    .dataframe tbody tr th:only-of-type {\n",
       "        vertical-align: middle;\n",
       "    }\n",
       "\n",
       "    .dataframe tbody tr th {\n",
       "        vertical-align: top;\n",
       "    }\n",
       "\n",
       "    .dataframe thead th {\n",
       "        text-align: right;\n",
       "    }\n",
       "</style>\n",
       "<table border=\"1\" class=\"dataframe\">\n",
       "  <thead>\n",
       "    <tr style=\"text-align: right;\">\n",
       "      <th></th>\n",
       "      <th>$P$</th>\n",
       "      <th>MSE</th>\n",
       "      <th>MFB</th>\n",
       "      <th>MFV</th>\n",
       "      <th>$\\mathcal{F}_{\\mathrm{measured}}/\\sigma_{\\mathrm{min}}$</th>\n",
       "      <th>SNR regime</th>\n",
       "      <th>Sampling regime</th>\n",
       "    </tr>\n",
       "  </thead>\n",
       "  <tbody>\n",
       "    <tr>\n",
       "      <td>3</td>\n",
       "      <td>0.977430</td>\n",
       "      <td>841.488958</td>\n",
       "      <td>-0.000387</td>\n",
       "      <td>0.997873</td>\n",
       "      <td>0.753407</td>\n",
       "      <td>40 &lt; $\\mathrm{SNR}_{I}$ &lt; 200</td>\n",
       "      <td>$\\phi_R &lt; 1, \\phi_K &lt; 1$</td>\n",
       "    </tr>\n",
       "    <tr>\n",
       "      <td>4</td>\n",
       "      <td>0.968664</td>\n",
       "      <td>1083.681635</td>\n",
       "      <td>-0.001116</td>\n",
       "      <td>1.026604</td>\n",
       "      <td>-2.140991</td>\n",
       "      <td>200 &lt; $\\mathrm{SNR}_{I}$ &lt; 1000</td>\n",
       "      <td>$\\phi_R &lt; 1, \\phi_K &gt; 1$</td>\n",
       "    </tr>\n",
       "    <tr>\n",
       "      <td>5</td>\n",
       "      <td>1.072733</td>\n",
       "      <td>538.146119</td>\n",
       "      <td>-0.006863</td>\n",
       "      <td>1.123900</td>\n",
       "      <td>-12.438067</td>\n",
       "      <td>40 &lt; $\\mathrm{SNR}_{I}$ &lt; 200</td>\n",
       "      <td>$\\phi_R &lt; 1, \\phi_K &gt; 1$</td>\n",
       "    </tr>\n",
       "    <tr>\n",
       "      <td>6</td>\n",
       "      <td>1.003307</td>\n",
       "      <td>639.155363</td>\n",
       "      <td>-0.005010</td>\n",
       "      <td>1.144066</td>\n",
       "      <td>-7.470446</td>\n",
       "      <td>200 &lt; $\\mathrm{SNR}_{I}$ &lt; 1000</td>\n",
       "      <td>$\\phi_R &lt; 1, \\phi_K &gt; 1$</td>\n",
       "    </tr>\n",
       "    <tr>\n",
       "      <td>7</td>\n",
       "      <td>0.970104</td>\n",
       "      <td>79.401543</td>\n",
       "      <td>-0.000934</td>\n",
       "      <td>0.997328</td>\n",
       "      <td>-0.243574</td>\n",
       "      <td>8 &lt; $\\mathrm{SNR}_{I}$ &lt; 40</td>\n",
       "      <td>$\\phi_R &gt; 1, \\phi_K &gt; 1$</td>\n",
       "    </tr>\n",
       "    <tr>\n",
       "      <td>...</td>\n",
       "      <td>...</td>\n",
       "      <td>...</td>\n",
       "      <td>...</td>\n",
       "      <td>...</td>\n",
       "      <td>...</td>\n",
       "      <td>...</td>\n",
       "      <td>...</td>\n",
       "    </tr>\n",
       "    <tr>\n",
       "      <td>907</td>\n",
       "      <td>0.988742</td>\n",
       "      <td>658.498546</td>\n",
       "      <td>0.000396</td>\n",
       "      <td>0.973296</td>\n",
       "      <td>-0.159092</td>\n",
       "      <td>8 &lt; $\\mathrm{SNR}_{I}$ &lt; 40</td>\n",
       "      <td>$\\phi_R &gt; 1, \\phi_K &gt; 1$</td>\n",
       "    </tr>\n",
       "    <tr>\n",
       "      <td>908</td>\n",
       "      <td>1.012317</td>\n",
       "      <td>847.364930</td>\n",
       "      <td>-0.001704</td>\n",
       "      <td>0.957530</td>\n",
       "      <td>-1.052855</td>\n",
       "      <td>40 &lt; $\\mathrm{SNR}_{I}$ &lt; 200</td>\n",
       "      <td>$\\phi_R &gt; 1, \\phi_K &gt; 1$</td>\n",
       "    </tr>\n",
       "    <tr>\n",
       "      <td>910</td>\n",
       "      <td>0.942318</td>\n",
       "      <td>540.521945</td>\n",
       "      <td>-0.000660</td>\n",
       "      <td>0.985257</td>\n",
       "      <td>-1.000044</td>\n",
       "      <td>8 &lt; $\\mathrm{SNR}_{I}$ &lt; 40</td>\n",
       "      <td>$\\phi_R &lt; 1, \\phi_K &gt; 1$</td>\n",
       "    </tr>\n",
       "    <tr>\n",
       "      <td>911</td>\n",
       "      <td>1.016841</td>\n",
       "      <td>941.353094</td>\n",
       "      <td>0.000229</td>\n",
       "      <td>0.980971</td>\n",
       "      <td>0.441940</td>\n",
       "      <td>40 &lt; $\\mathrm{SNR}_{I}$ &lt; 200</td>\n",
       "      <td>$\\phi_R &lt; 1, \\phi_K &gt; 1$</td>\n",
       "    </tr>\n",
       "    <tr>\n",
       "      <td>912</td>\n",
       "      <td>0.985918</td>\n",
       "      <td>371.193533</td>\n",
       "      <td>-0.000675</td>\n",
       "      <td>0.979741</td>\n",
       "      <td>-0.189269</td>\n",
       "      <td>40 &lt; $\\mathrm{SNR}_{I}$ &lt; 200</td>\n",
       "      <td>$\\phi_R &gt; 1, \\phi_K &gt; 1$</td>\n",
       "    </tr>\n",
       "  </tbody>\n",
       "</table>\n",
       "<p>671 rows × 7 columns</p>\n",
       "</div>"
      ],
      "text/plain": [
       "          $P$          MSE       MFB       MFV  \\\n",
       "3    0.977430   841.488958 -0.000387  0.997873   \n",
       "4    0.968664  1083.681635 -0.001116  1.026604   \n",
       "5    1.072733   538.146119 -0.006863  1.123900   \n",
       "6    1.003307   639.155363 -0.005010  1.144066   \n",
       "7    0.970104    79.401543 -0.000934  0.997328   \n",
       "..        ...          ...       ...       ...   \n",
       "907  0.988742   658.498546  0.000396  0.973296   \n",
       "908  1.012317   847.364930 -0.001704  0.957530   \n",
       "910  0.942318   540.521945 -0.000660  0.985257   \n",
       "911  1.016841   941.353094  0.000229  0.980971   \n",
       "912  0.985918   371.193533 -0.000675  0.979741   \n",
       "\n",
       "     $\\mathcal{F}_{\\mathrm{measured}}/\\sigma_{\\mathrm{min}}$  \\\n",
       "3                                             0.753407         \n",
       "4                                            -2.140991         \n",
       "5                                           -12.438067         \n",
       "6                                            -7.470446         \n",
       "7                                            -0.243574         \n",
       "..                                                 ...         \n",
       "907                                          -0.159092         \n",
       "908                                          -1.052855         \n",
       "910                                          -1.000044         \n",
       "911                                           0.441940         \n",
       "912                                          -0.189269         \n",
       "\n",
       "                          SNR regime           Sampling regime  \n",
       "3      40 < $\\mathrm{SNR}_{I}$ < 200  $\\phi_R < 1, \\phi_K < 1$  \n",
       "4    200 < $\\mathrm{SNR}_{I}$ < 1000  $\\phi_R < 1, \\phi_K > 1$  \n",
       "5      40 < $\\mathrm{SNR}_{I}$ < 200  $\\phi_R < 1, \\phi_K > 1$  \n",
       "6    200 < $\\mathrm{SNR}_{I}$ < 1000  $\\phi_R < 1, \\phi_K > 1$  \n",
       "7        8 < $\\mathrm{SNR}_{I}$ < 40  $\\phi_R > 1, \\phi_K > 1$  \n",
       "..                               ...                       ...  \n",
       "907      8 < $\\mathrm{SNR}_{I}$ < 40  $\\phi_R > 1, \\phi_K > 1$  \n",
       "908    40 < $\\mathrm{SNR}_{I}$ < 200  $\\phi_R > 1, \\phi_K > 1$  \n",
       "910      8 < $\\mathrm{SNR}_{I}$ < 40  $\\phi_R < 1, \\phi_K > 1$  \n",
       "911    40 < $\\mathrm{SNR}_{I}$ < 200  $\\phi_R < 1, \\phi_K > 1$  \n",
       "912    40 < $\\mathrm{SNR}_{I}$ < 200  $\\phi_R > 1, \\phi_K > 1$  \n",
       "\n",
       "[671 rows x 7 columns]"
      ]
     },
     "execution_count": 8,
     "metadata": {},
     "output_type": "execute_result"
    }
   ],
   "source": [
    "df_pad"
   ]
  },
  {
   "cell_type": "code",
   "execution_count": 9,
   "metadata": {},
   "outputs": [
    {
     "name": "stdout",
     "output_type": "stream",
     "text": [
      "Padded\n",
      "\n",
      "SNR regime: 8 < $\\mathrm{SNR}_{I}$ < 40\n",
      "Sampling regime: $\\phi_R > 1, \\phi_K > 1$\n",
      "Number of entries: 113\n",
      "|   P    |   MSE   |   MFB   |   MFV |   MPB |  MPV  |\n",
      "[  1.0001 506.9571   0.0002   0.9863  -0.1872   1.3508]\n",
      "\n",
      "SNR regime: 8 < $\\mathrm{SNR}_{I}$ < 40\n",
      "Sampling regime: $\\phi_R > 1, \\phi_K < 1$\n",
      "Number of entries: 33\n",
      "|   P    |   MSE   |   MFB   |   MFV |   MPB |  MPV  |\n",
      "[  0.9985 537.5381  -0.0002   0.9907   0.3101   0.959 ]\n",
      "\n",
      "SNR regime: 8 < $\\mathrm{SNR}_{I}$ < 40\n",
      "Sampling regime: $\\phi_R < 1, \\phi_K > 1$\n",
      "Number of entries: 43\n",
      "|   P    |   MSE   |   MFB   |   MFV |   MPB |  MPV  |\n",
      "[  1.0008 567.5243   0.0001   0.9863  -0.3937   1.637 ]\n",
      "\n",
      "SNR regime: 8 < $\\mathrm{SNR}_{I}$ < 40\n",
      "Sampling regime: $\\phi_R < 1, \\phi_K < 1$\n",
      "Number of entries: 9\n",
      "|   P    |   MSE   |   MFB   |   MFV |   MPB |  MPV  |\n",
      "[  0.9936 441.3856  -0.0006   0.9992   1.0025   0.664 ]\n",
      "\n",
      "SNR regime: 40 < $\\mathrm{SNR}_{I}$ < 200\n",
      "Sampling regime: $\\phi_R > 1, \\phi_K > 1$\n",
      "Number of entries: 129\n",
      "|   P    |   MSE   |   MFB   |   MFV |   MPB |  MPV  |\n",
      "[  0.9997 513.1494  -0.0009   0.9916  -1.1774   2.0942]\n",
      "\n",
      "SNR regime: 40 < $\\mathrm{SNR}_{I}$ < 200\n",
      "Sampling regime: $\\phi_R > 1, \\phi_K < 1$\n",
      "Number of entries: 34\n",
      "|   P    |   MSE   |   MFB   |   MFV |   MPB |  MPV  |\n",
      "[  0.9997 516.866   -0.0007   0.9935  -0.0629   1.4486]\n",
      "\n",
      "SNR regime: 40 < $\\mathrm{SNR}_{I}$ < 200\n",
      "Sampling regime: $\\phi_R < 1, \\phi_K > 1$\n",
      "Number of entries: 50\n",
      "|   P    |   MSE   |   MFB   |   MFV |   MPB |  MPV  |\n",
      "[  1.0043 627.3164  -0.0004   0.9943  -1.4648   5.9417]\n",
      "\n",
      "SNR regime: 40 < $\\mathrm{SNR}_{I}$ < 200\n",
      "Sampling regime: $\\phi_R < 1, \\phi_K < 1$\n",
      "Number of entries: 13\n",
      "|   P    |   MSE   |   MFB   |   MFV |   MPB |  MPV  |\n",
      "[  0.9984 700.8094  -0.0007   1.0078  -1.1669   1.6085]\n",
      "\n",
      "SNR regime: 200 < $\\mathrm{SNR}_{I}$ < 1000\n",
      "Sampling regime: $\\phi_R > 1, \\phi_K > 1$\n",
      "Number of entries: 145\n",
      "|   P    |   MSE   |   MFB   |   MFV |   MPB |  MPV  |\n",
      "[  0.9956 706.2045  -0.0028   1.0286  -3.332    6.7095]\n",
      "\n",
      "SNR regime: 200 < $\\mathrm{SNR}_{I}$ < 1000\n",
      "Sampling regime: $\\phi_R > 1, \\phi_K < 1$\n",
      "Number of entries: 46\n",
      "|   P    |   MSE   |   MFB   |   MFV |   MPB |  MPV  |\n",
      "[  0.9971 744.525   -0.0019   1.0132  -0.9799   1.9197]\n",
      "\n",
      "SNR regime: 200 < $\\mathrm{SNR}_{I}$ < 1000\n",
      "Sampling regime: $\\phi_R < 1, \\phi_K > 1$\n",
      "Number of entries: 39\n",
      "|   P    |   MSE   |   MFB   |   MFV |   MPB |  MPV  |\n",
      "[  0.9995 841.7449  -0.003    1.0752  -4.2263  14.2864]\n",
      "\n",
      "SNR regime: 200 < $\\mathrm{SNR}_{I}$ < 1000\n",
      "Sampling regime: $\\phi_R < 1, \\phi_K < 1$\n",
      "Number of entries: 17\n",
      "|   P    |   MSE   |   MFB   |   MFV |   MPB |  MPV  |\n",
      "[   1.0015 1077.1404   -0.0021    1.0952   -2.6422    2.8218]\n",
      "\n",
      "Not Padded\n",
      "\n",
      "SNR regime: 8 < $\\mathrm{SNR}_{I}$ < 40\n",
      "Sampling regime: $\\phi_R > 1, \\phi_K > 1$\n",
      "Number of entries: 113\n",
      "|   P    |   MSE   |   MFB   |   MFV |   MPB |  MPV  |\n",
      "[  0.9935 509.2872   0.0016   0.9904   0.3841   0.6666]\n",
      "\n",
      "SNR regime: 8 < $\\mathrm{SNR}_{I}$ < 40\n",
      "Sampling regime: $\\phi_R > 1, \\phi_K < 1$\n",
      "Number of entries: 33\n",
      "|   P    |   MSE   |   MFB   |   MFV |   MPB |  MPV  |\n",
      "[  0.9925 539.5882   0.0015   0.9946   0.5844   0.4532]\n",
      "\n",
      "SNR regime: 8 < $\\mathrm{SNR}_{I}$ < 40\n",
      "Sampling regime: $\\phi_R < 1, \\phi_K > 1$\n",
      "Number of entries: 43\n",
      "|   P    |   MSE   |   MFB   |   MFV |   MPB |  MPV  |\n",
      "[  0.9961 567.8142   0.0024   0.9904   0.2749   0.4636]\n",
      "\n",
      "SNR regime: 8 < $\\mathrm{SNR}_{I}$ < 40\n",
      "Sampling regime: $\\phi_R < 1, \\phi_K < 1$\n",
      "Number of entries: 9\n",
      "|   P    |   MSE   |   MFB   |   MFV |   MPB |  MPV  |\n",
      "[  0.9998 442.1585   0.0023   1.0011   0.8148   0.5491]\n",
      "\n",
      "SNR regime: 40 < $\\mathrm{SNR}_{I}$ < 200\n",
      "Sampling regime: $\\phi_R > 1, \\phi_K > 1$\n",
      "Number of entries: 129\n",
      "|   P    |   MSE   |   MFB   |   MFV |   MPB |  MPV  |\n",
      "[  0.9951 516.9349   0.0084   0.9982   0.1658   0.836 ]\n",
      "\n",
      "SNR regime: 40 < $\\mathrm{SNR}_{I}$ < 200\n",
      "Sampling regime: $\\phi_R > 1, \\phi_K < 1$\n",
      "Number of entries: 34\n",
      "|   P    |   MSE   |   MFB   |   MFV |   MPB |  MPV  |\n",
      "[  0.9989 518.974    0.0015   0.9998   0.3051   1.132 ]\n",
      "\n",
      "SNR regime: 40 < $\\mathrm{SNR}_{I}$ < 200\n",
      "Sampling regime: $\\phi_R < 1, \\phi_K > 1$\n",
      "Number of entries: 50\n",
      "|   P    |   MSE   |   MFB   |   MFV |   MPB |  MPV  |\n",
      "[  0.9972 648.1869   0.008    0.9974   0.1396   1.0147]\n",
      "\n",
      "SNR regime: 40 < $\\mathrm{SNR}_{I}$ < 200\n",
      "Sampling regime: $\\phi_R < 1, \\phi_K < 1$\n",
      "Number of entries: 13\n",
      "|   P    |   MSE   |   MFB   |   MFV |   MPB |  MPV  |\n",
      "[  0.993  703.6115   0.0035   1.0085  -0.1697   1.0597]\n",
      "\n",
      "SNR regime: 200 < $\\mathrm{SNR}_{I}$ < 1000\n",
      "Sampling regime: $\\phi_R > 1, \\phi_K > 1$\n",
      "Number of entries: 145\n",
      "|   P    |   MSE   |   MFB   |   MFV |   MPB |  MPV  |\n",
      "[  0.9984 754.1382   0.0401   1.0663   0.1928   0.7283]\n",
      "\n",
      "SNR regime: 200 < $\\mathrm{SNR}_{I}$ < 1000\n",
      "Sampling regime: $\\phi_R > 1, \\phi_K < 1$\n",
      "Number of entries: 46\n",
      "|   P    |   MSE   |   MFB   |   MFV |   MPB |  MPV  |\n",
      "[  0.9996 794.5027   0.0179   1.0481   0.1402   0.8013]\n",
      "\n",
      "SNR regime: 200 < $\\mathrm{SNR}_{I}$ < 1000\n",
      "Sampling regime: $\\phi_R < 1, \\phi_K > 1$\n",
      "Number of entries: 39\n",
      "|   P    |   MSE   |   MFB   |   MFV |   MPB |  MPV  |\n",
      "[  0.9989 847.2677   0.0564   1.0891   0.1327   0.8103]\n",
      "\n",
      "SNR regime: 200 < $\\mathrm{SNR}_{I}$ < 1000\n",
      "Sampling regime: $\\phi_R < 1, \\phi_K < 1$\n",
      "Number of entries: 17\n",
      "|   P    |   MSE   |   MFB   |   MFV |   MPB |  MPV  |\n",
      "[   0.9992 1034.8979    0.0171    1.1001   -0.2355    0.6889]\n"
     ]
    }
   ],
   "source": [
    "# model fit quality and photometric accuracy metrics for the 3 SNR regimes\n",
    "# each of which is subdivided into 1 of 4 sampling regimes\n",
    "SNR_cats = ['8 < $\\mathrm{SNR}_{I}$ < 40', '40 < $\\mathrm{SNR}_{I}$ < 200', '200 < $\\mathrm{SNR}_{I}$ < 1000']\n",
    "sampling_cats = ['$\\phi_R > 1, \\phi_K > 1$', '$\\phi_R > 1, \\phi_K < 1$',\n",
    "                 '$\\phi_R < 1, \\phi_K > 1$', '$\\phi_R < 1, \\phi_K < 1$']\n",
    "def metrics(df):\n",
    "    \n",
    "    output_metrics = np.zeros((3*4, 6))\n",
    "    \n",
    "    i = 0\n",
    "    \n",
    "    for snr in SNR_cats:\n",
    "        \n",
    "        for sampling in sampling_cats:\n",
    "        \n",
    "            # SNR regime\n",
    "            print('\\nSNR regime:', snr)\n",
    "            print('Sampling regime:', sampling)\n",
    "\n",
    "            # fit quality metrics\n",
    "            Ps = df['$P$'][(df['SNR regime'] == snr) & (df['Sampling regime'] == sampling)]\n",
    "            MSEs = df['MSE'][(df['SNR regime'] == snr) & (df['Sampling regime'] == sampling)]\n",
    "            MFBs = df['MFB'][(df['SNR regime'] == snr) & (df['Sampling regime'] == sampling)]\n",
    "            MFVs = df['MFV'][(df['SNR regime'] == snr) & (df['Sampling regime'] == sampling)]\n",
    "\n",
    "            print('Number of entries:', len(Ps))\n",
    "            \n",
    "            #print('P:', np.nanmedian(Ps))\n",
    "            #print('MSE:', np.nanmedian(MSEs))\n",
    "            #print('MFB:', np.nanmedian(MFBs))\n",
    "            #print('MFV:', np.nanmedian(MFVs))\n",
    "\n",
    "            # photometric accuracy metrics\n",
    "            colname = '$\\mathcal{F}_{\\mathrm{measured}}/\\sigma_{\\mathrm{min}}$'\n",
    "            nr = df[colname][(df['SNR regime'] == snr) & (df['Sampling regime'] == sampling)]\n",
    "            nr = df[colname][(df['SNR regime'] == snr) & (df['Sampling regime'] == sampling)]\n",
    "\n",
    "            # remove bad outliers\n",
    "            sigma = mad_std(nr)\n",
    "            nr = nr[nr < np.nanmedian(nr) + 5*sigma]\n",
    "            nr = nr[nr > np.nanmedian(nr) - 5*sigma]\n",
    "\n",
    "            MPB = 1./len(nr) * np.nansum(nr)\n",
    "            MPV = 1./(len(nr) - 1) * np.nansum((nr - MPB)**2)\n",
    "            MedPB = np.nanmedian(nr)\n",
    "            MedPV = (mad_std(nr))**2\n",
    "            #print('N_set:', len(nr))\n",
    "            #print('MPB:', MPB)\n",
    "            #print('MPV:', MPV)\n",
    "            #print('MedPB:', MedPB)\n",
    "            #print('MedPV:', MedPV)\n",
    "            \n",
    "            print('|   P    |   MSE   |   MFB   |   MFV |   MPB |  MPV  |')\n",
    "            results = np.array([np.median(Ps), np.median(MSEs), np.median(MFBs), np.median(MFVs), MPB, MPV])\n",
    "            np.set_printoptions(precision=4, suppress=True)\n",
    "            print(results)\n",
    "\n",
    "            #output_metrics = np.append(output_metrics, [np.median(Ps), np.median(MSEs),  np.median(MFBs),\n",
    "            #                                           np.median(MFVs), MPB, MPV],)\n",
    "            \n",
    "            output_metrics[i] = [np.median(Ps), np.median(MSEs),  np.median(MFBs), np.median(MFVs), MPB, MPV]\n",
    "            \n",
    "            i += 1\n",
    "\n",
    "        \n",
    "    return output_metrics\n",
    "\n",
    "print('Padded')        \n",
    "pad_metrics = metrics(df_pad)\n",
    "print('\\nNot Padded')\n",
    "nopad_metrics = metrics(df_nopad)"
   ]
  },
  {
   "cell_type": "code",
   "execution_count": 10,
   "metadata": {},
   "outputs": [
    {
     "data": {
      "text/plain": [
       "((12, 6), (12, 6))"
      ]
     },
     "execution_count": 10,
     "metadata": {},
     "output_type": "execute_result"
    }
   ],
   "source": [
    "pad_metrics.shape, nopad_metrics.shape"
   ]
  },
  {
   "cell_type": "code",
   "execution_count": 11,
   "metadata": {},
   "outputs": [
    {
     "data": {
      "text/plain": [
       "(array([[   1.0001,  506.9571,    0.0002,    0.9863,   -0.1872,    1.3508],\n",
       "        [   0.9985,  537.5381,   -0.0002,    0.9907,    0.3101,    0.959 ],\n",
       "        [   1.0008,  567.5243,    0.0001,    0.9863,   -0.3937,    1.637 ],\n",
       "        [   0.9936,  441.3856,   -0.0006,    0.9992,    1.0025,    0.664 ],\n",
       "        [   0.9997,  513.1494,   -0.0009,    0.9916,   -1.1774,    2.0942],\n",
       "        [   0.9997,  516.866 ,   -0.0007,    0.9935,   -0.0629,    1.4486],\n",
       "        [   1.0043,  627.3164,   -0.0004,    0.9943,   -1.4648,    5.9417],\n",
       "        [   0.9984,  700.8094,   -0.0007,    1.0078,   -1.1669,    1.6085],\n",
       "        [   0.9956,  706.2045,   -0.0028,    1.0286,   -3.332 ,    6.7095],\n",
       "        [   0.9971,  744.525 ,   -0.0019,    1.0132,   -0.9799,    1.9197],\n",
       "        [   0.9995,  841.7449,   -0.003 ,    1.0752,   -4.2263,   14.2864],\n",
       "        [   1.0015, 1077.1404,   -0.0021,    1.0952,   -2.6422,    2.8218]]),\n",
       " array([[   0.9935,  509.2872,    0.0016,    0.9904,    0.3841,    0.6666],\n",
       "        [   0.9925,  539.5882,    0.0015,    0.9946,    0.5844,    0.4532],\n",
       "        [   0.9961,  567.8142,    0.0024,    0.9904,    0.2749,    0.4636],\n",
       "        [   0.9998,  442.1585,    0.0023,    1.0011,    0.8148,    0.5491],\n",
       "        [   0.9951,  516.9349,    0.0084,    0.9982,    0.1658,    0.836 ],\n",
       "        [   0.9989,  518.974 ,    0.0015,    0.9998,    0.3051,    1.132 ],\n",
       "        [   0.9972,  648.1869,    0.008 ,    0.9974,    0.1396,    1.0147],\n",
       "        [   0.993 ,  703.6115,    0.0035,    1.0085,   -0.1697,    1.0597],\n",
       "        [   0.9984,  754.1382,    0.0401,    1.0663,    0.1928,    0.7283],\n",
       "        [   0.9996,  794.5027,    0.0179,    1.0481,    0.1402,    0.8013],\n",
       "        [   0.9989,  847.2677,    0.0564,    1.0891,    0.1327,    0.8103],\n",
       "        [   0.9992, 1034.8979,    0.0171,    1.1001,   -0.2355,    0.6889]]))"
      ]
     },
     "execution_count": 11,
     "metadata": {},
     "output_type": "execute_result"
    }
   ],
   "source": [
    "pad_metrics, nopad_metrics"
   ]
  },
  {
   "cell_type": "code",
   "execution_count": 12,
   "metadata": {},
   "outputs": [
    {
     "data": {
      "text/plain": [
       "(array([  0.9996, 597.4203,  -0.0007,   0.9967,  -1.0734,   1.7784]),\n",
       " array([  0.9978, 608.0006,   0.0057,   1.0004,   0.1793,   0.7648]))"
      ]
     },
     "execution_count": 12,
     "metadata": {},
     "output_type": "execute_result"
    }
   ],
   "source": [
    "np.median(pad_metrics, axis=0), np.median(nopad_metrics, axis=0), "
   ]
  },
  {
   "cell_type": "markdown",
   "metadata": {},
   "source": [
    "Focussing only on the fit quality metrics (we'll get to photometric accuracy in a bit), it appears that padding is the superior approach for these image pairs. In general, the photometric scale factor is closer to 1, the MSE is lower, the MFB is closer to 0 and the MFV is closer to 1.\n",
    "\n",
    "However, the MPB and MPV is clearly worse when padding. This however, is not surprising. The MPB and MPV apply only to the central, brightest star. We tend to overfit this star anyway, so when we reject even more border pixels, the overfitting becomes even worse, and so the MPV is almost always < 1 for the no padding approach. Indeed, for the the case of 142x142 images and a 19x19 kernel, if we don't pad we are removing..."
   ]
  },
  {
   "cell_type": "code",
   "execution_count": 13,
   "metadata": {},
   "outputs": [
    {
     "data": {
      "text/plain": [
       "4788"
      ]
     },
     "execution_count": 13,
     "metadata": {},
     "output_type": "execute_result"
    }
   ],
   "source": [
    "142**2 - 124**2"
   ]
  },
  {
   "cell_type": "markdown",
   "metadata": {},
   "source": [
    "4788 pixels, which is..."
   ]
  },
  {
   "cell_type": "code",
   "execution_count": 14,
   "metadata": {},
   "outputs": [
    {
     "data": {
      "text/plain": [
       "0.23745288633207698"
      ]
     },
     "execution_count": 14,
     "metadata": {},
     "output_type": "execute_result"
    }
   ],
   "source": [
    "4788 / 142**2"
   ]
  },
  {
   "cell_type": "markdown",
   "metadata": {},
   "source": [
    "almost a quarter of the total original number of pixels, and so the relative influence of the bright central star is greater still."
   ]
  },
  {
   "cell_type": "code",
   "execution_count": null,
   "metadata": {},
   "outputs": [],
   "source": []
  }
 ],
 "metadata": {
  "kernelspec": {
   "display_name": "Python 3",
   "language": "python",
   "name": "python3"
  },
  "language_info": {
   "codemirror_mode": {
    "name": "ipython",
    "version": 3
   },
   "file_extension": ".py",
   "mimetype": "text/x-python",
   "name": "python",
   "nbconvert_exporter": "python",
   "pygments_lexer": "ipython3",
   "version": "3.7.4"
  }
 },
 "nbformat": 4,
 "nbformat_minor": 2
}
