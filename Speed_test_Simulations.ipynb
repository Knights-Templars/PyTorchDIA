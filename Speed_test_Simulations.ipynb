{
  "nbformat": 4,
  "nbformat_minor": 0,
  "metadata": {
    "colab": {
      "name": "Speed test - Simulations",
      "provenance": [],
      "collapsed_sections": []
    },
    "kernelspec": {
      "name": "python3",
      "display_name": "Python 3"
    },
    "accelerator": "GPU"
  },
  "cells": [
    {
      "cell_type": "code",
      "metadata": {
        "id": "Msq5QiQKw95Y",
        "colab_type": "code",
        "colab": {
          "base_uri": "https://localhost:8080/",
          "height": 975
        },
        "outputId": "2561fe13-ee74-4d25-ea3b-0292ace36727"
      },
      "source": [
        "## CPU specs ##\n",
        "!cat /proc/cpuinfo"
      ],
      "execution_count": null,
      "outputs": [
        {
          "output_type": "stream",
          "text": [
            "processor\t: 0\n",
            "vendor_id\t: GenuineIntel\n",
            "cpu family\t: 6\n",
            "model\t\t: 63\n",
            "model name\t: Intel(R) Xeon(R) CPU @ 2.30GHz\n",
            "stepping\t: 0\n",
            "microcode\t: 0x1\n",
            "cpu MHz\t\t: 2300.000\n",
            "cache size\t: 46080 KB\n",
            "physical id\t: 0\n",
            "siblings\t: 2\n",
            "core id\t\t: 0\n",
            "cpu cores\t: 1\n",
            "apicid\t\t: 0\n",
            "initial apicid\t: 0\n",
            "fpu\t\t: yes\n",
            "fpu_exception\t: yes\n",
            "cpuid level\t: 13\n",
            "wp\t\t: yes\n",
            "flags\t\t: fpu vme de pse tsc msr pae mce cx8 apic sep mtrr pge mca cmov pat pse36 clflush mmx fxsr sse sse2 ss ht syscall nx pdpe1gb rdtscp lm constant_tsc rep_good nopl xtopology nonstop_tsc cpuid tsc_known_freq pni pclmulqdq ssse3 fma cx16 pcid sse4_1 sse4_2 x2apic movbe popcnt aes xsave avx f16c rdrand hypervisor lahf_lm abm invpcid_single ssbd ibrs ibpb stibp fsgsbase tsc_adjust bmi1 avx2 smep bmi2 erms invpcid xsaveopt arat md_clear arch_capabilities\n",
            "bugs\t\t: cpu_meltdown spectre_v1 spectre_v2 spec_store_bypass l1tf mds swapgs\n",
            "bogomips\t: 4600.00\n",
            "clflush size\t: 64\n",
            "cache_alignment\t: 64\n",
            "address sizes\t: 46 bits physical, 48 bits virtual\n",
            "power management:\n",
            "\n",
            "processor\t: 1\n",
            "vendor_id\t: GenuineIntel\n",
            "cpu family\t: 6\n",
            "model\t\t: 63\n",
            "model name\t: Intel(R) Xeon(R) CPU @ 2.30GHz\n",
            "stepping\t: 0\n",
            "microcode\t: 0x1\n",
            "cpu MHz\t\t: 2300.000\n",
            "cache size\t: 46080 KB\n",
            "physical id\t: 0\n",
            "siblings\t: 2\n",
            "core id\t\t: 0\n",
            "cpu cores\t: 1\n",
            "apicid\t\t: 1\n",
            "initial apicid\t: 1\n",
            "fpu\t\t: yes\n",
            "fpu_exception\t: yes\n",
            "cpuid level\t: 13\n",
            "wp\t\t: yes\n",
            "flags\t\t: fpu vme de pse tsc msr pae mce cx8 apic sep mtrr pge mca cmov pat pse36 clflush mmx fxsr sse sse2 ss ht syscall nx pdpe1gb rdtscp lm constant_tsc rep_good nopl xtopology nonstop_tsc cpuid tsc_known_freq pni pclmulqdq ssse3 fma cx16 pcid sse4_1 sse4_2 x2apic movbe popcnt aes xsave avx f16c rdrand hypervisor lahf_lm abm invpcid_single ssbd ibrs ibpb stibp fsgsbase tsc_adjust bmi1 avx2 smep bmi2 erms invpcid xsaveopt arat md_clear arch_capabilities\n",
            "bugs\t\t: cpu_meltdown spectre_v1 spectre_v2 spec_store_bypass l1tf mds swapgs\n",
            "bogomips\t: 4600.00\n",
            "clflush size\t: 64\n",
            "cache_alignment\t: 64\n",
            "address sizes\t: 46 bits physical, 48 bits virtual\n",
            "power management:\n",
            "\n"
          ],
          "name": "stdout"
        }
      ]
    },
    {
      "cell_type": "code",
      "metadata": {
        "id": "Ix4SqSawxU3K",
        "colab_type": "code",
        "colab": {
          "base_uri": "https://localhost:8080/",
          "height": 833
        },
        "outputId": "8c254f6e-5de1-493f-a130-f257920f1694"
      },
      "source": [
        "!cat /proc/meminfo"
      ],
      "execution_count": null,
      "outputs": [
        {
          "output_type": "stream",
          "text": [
            "MemTotal:       13333556 kB\n",
            "MemFree:        10530824 kB\n",
            "MemAvailable:   12459492 kB\n",
            "Buffers:           75956 kB\n",
            "Cached:          2010204 kB\n",
            "SwapCached:            0 kB\n",
            "Active:           735188 kB\n",
            "Inactive:        1786424 kB\n",
            "Active(anon):     415112 kB\n",
            "Inactive(anon):      340 kB\n",
            "Active(file):     320076 kB\n",
            "Inactive(file):  1786084 kB\n",
            "Unevictable:           0 kB\n",
            "Mlocked:               0 kB\n",
            "SwapTotal:             0 kB\n",
            "SwapFree:              0 kB\n",
            "Dirty:               168 kB\n",
            "Writeback:             0 kB\n",
            "AnonPages:        435560 kB\n",
            "Mapped:           222136 kB\n",
            "Shmem:               964 kB\n",
            "Slab:             167272 kB\n",
            "SReclaimable:     126800 kB\n",
            "SUnreclaim:        40472 kB\n",
            "KernelStack:        3584 kB\n",
            "PageTables:         5504 kB\n",
            "NFS_Unstable:          0 kB\n",
            "Bounce:                0 kB\n",
            "WritebackTmp:          0 kB\n",
            "CommitLimit:     6666776 kB\n",
            "Committed_AS:    2536576 kB\n",
            "VmallocTotal:   34359738367 kB\n",
            "VmallocUsed:           0 kB\n",
            "VmallocChunk:          0 kB\n",
            "Percpu:              920 kB\n",
            "AnonHugePages:         0 kB\n",
            "ShmemHugePages:        0 kB\n",
            "ShmemPmdMapped:        0 kB\n",
            "HugePages_Total:       0\n",
            "HugePages_Free:        0\n",
            "HugePages_Rsvd:        0\n",
            "HugePages_Surp:        0\n",
            "Hugepagesize:       2048 kB\n",
            "Hugetlb:               0 kB\n",
            "DirectMap4k:      103612 kB\n",
            "DirectMap2M:     5138432 kB\n",
            "DirectMap1G:    10485760 kB\n"
          ],
          "name": "stdout"
        }
      ]
    },
    {
      "cell_type": "code",
      "metadata": {
        "id": "xWMJFjcQN7Sp",
        "colab_type": "code",
        "colab": {
          "base_uri": "https://localhost:8080/",
          "height": 104
        },
        "outputId": "076bcf34-dbd4-4ed1-9ee5-1adbcf54272d"
      },
      "source": [
        "# memory footprint support libraries/code\n",
        "!ln -sf /opt/bin/nvidia-smi /usr/bin/nvidia-smi\n",
        "!pip install gputil\n",
        "!pip install psutil\n",
        "!pip install humanize\n",
        "import psutil\n",
        "import humanize\n",
        "import os\n",
        "import GPUtil as GPU\n",
        "GPUs = GPU.getGPUs()\n",
        "# XXX: only one GPU on Colab and isn’t guaranteed\n",
        "gpu = GPUs[0]\n",
        "def printm():\n",
        " process = psutil.Process(os.getpid())\n",
        " print(\"Gen RAM Free: \" + humanize.naturalsize( psutil.virtual_memory().available ), \" | Proc size: \" + humanize.naturalsize( process.memory_info().rss))\n",
        " print(\"GPU RAM Free: {0:.0f}MB | Used: {1:.0f}MB | Util {2:3.0f}% | Total {3:.0f}MB\".format(gpu.memoryFree, gpu.memoryUsed, gpu.memoryUtil*100, gpu.memoryTotal))\n",
        "printm()"
      ],
      "execution_count": null,
      "outputs": [
        {
          "output_type": "stream",
          "text": [
            "Requirement already satisfied: gputil in /usr/local/lib/python3.6/dist-packages (1.4.0)\n",
            "Requirement already satisfied: psutil in /usr/local/lib/python3.6/dist-packages (5.4.8)\n",
            "Requirement already satisfied: humanize in /usr/local/lib/python3.6/dist-packages (0.5.1)\n",
            "Gen RAM Free: 12.7 GB  | Proc size: 111.7 MB\n",
            "GPU RAM Free: 16280MB | Used: 0MB | Util   0% | Total 16280MB\n"
          ],
          "name": "stdout"
        }
      ]
    },
    {
      "cell_type": "code",
      "metadata": {
        "id": "0RcbiMzFOG8D",
        "colab_type": "code",
        "colab": {
          "base_uri": "https://localhost:8080/",
          "height": 34
        },
        "outputId": "2944a134-6414-4044-daec-725492d7eb8f"
      },
      "source": [
        "# mount drive\n",
        "from google.colab import drive\n",
        "drive.mount('/content/drive')"
      ],
      "execution_count": null,
      "outputs": [
        {
          "output_type": "stream",
          "text": [
            "Drive already mounted at /content/drive; to attempt to forcibly remount, call drive.mount(\"/content/drive\", force_remount=True).\n"
          ],
          "name": "stdout"
        }
      ]
    },
    {
      "cell_type": "code",
      "metadata": {
        "id": "XAKDgZV8OJru",
        "colab_type": "code",
        "colab": {
          "base_uri": "https://localhost:8080/",
          "height": 34
        },
        "outputId": "a62e7815-022b-4e30-e239-a5680b467759"
      },
      "source": [
        "#############################################\n",
        "## required to import custom modules in GC ##\n",
        "import sys\n",
        "sys.path.append('/content/drive/My Drive/PyTorchDIA - Real Image Tests')\n",
        "##############################################\n",
        "\n",
        "# grab photutils\n",
        "#!pip install photutils\n",
        "\n",
        "# other useful imports\n",
        "import numpy as np\n",
        "import os\n",
        "import glob\n",
        "from astropy.io.fits import getdata\n",
        "from astropy.stats import mad_std\n",
        "#from photutils import DAOStarFinder\n",
        "import time\n",
        "import matplotlib.pyplot as plt\n",
        "from scipy.signal import convolve2d\n",
        "from scipy.ndimage.interpolation import shift\n",
        "from scipy.stats import norm\n",
        "import PyTorchDIA_FullLikelihood_lossconv\n",
        "#import PyTorchDIA_FullLikelihood_lossconv_double\n",
        "#import PyTorchDIA_RobustLoss_Sinistro\n",
        "import torch\n",
        "%matplotlib inline"
      ],
      "execution_count": null,
      "outputs": [
        {
          "output_type": "stream",
          "text": [
            "PyTorch version: 1.6.0+cu101\n"
          ],
          "name": "stdout"
        }
      ]
    },
    {
      "cell_type": "code",
      "metadata": {
        "id": "ye_6xIrS5xtn",
        "colab_type": "code",
        "colab": {}
      },
      "source": [
        "### pyDANDIA ###\n",
        "%load_ext Cython"
      ],
      "execution_count": null,
      "outputs": []
    },
    {
      "cell_type": "code",
      "metadata": {
        "id": "RGl-ICFA5Ydn",
        "colab_type": "code",
        "colab": {}
      },
      "source": [
        "%%cython\n",
        "\n",
        "from __future__ import division\n",
        "import numpy as np\n",
        "import time\n",
        "cimport numpy as np\n",
        "cimport cython\n",
        "DTYPE = np.float64\n",
        "ctypedef np.float64_t DTYPE_t\n",
        "\n",
        "# compile suggestion: gcc -shared -pthread -fPIC -fwrapv -O2 -Wall -fno-strict-aliasing -I/somepath/include/python2.7 -o umatrix_routine.so umatrix_routine.c\n",
        "\n",
        "@cython.boundscheck(False) # turn off bounds-checking\n",
        "@cython.wraparound(False)  # turn off negative index wrapping\n",
        "@cython.nonecheck(False)  # turn off negative index wrapping\n",
        "\n",
        "def umatrix_construction(np.ndarray[DTYPE_t, ndim = 2] reference_image,np.ndarray[DTYPE_t, ndim = 2] weights, pandq, n_kernel_np, kernel_size_np):\n",
        "\n",
        "    cdef int ni_image = np.shape(reference_image)[0]\n",
        "    cdef int nj_image = np.shape(reference_image)[1]\n",
        "    cdef double sum_acc = 0.\n",
        "    cdef int idx_l,idx_m,idx_l_prime,idx_m_prime,idx_i,idx_j\n",
        "    cdef int kernel_size = np.int(kernel_size_np)\n",
        "    cdef int kernel_size_half = np.int(kernel_size_np)/2\n",
        "    cdef int n_kernel = np.int(n_kernel_np)\n",
        "    cdef np.ndarray u_matrix = np.zeros([n_kernel + 1, n_kernel + 1], dtype=DTYPE)\n",
        "\n",
        "    for idx_p in range(n_kernel):\n",
        "        for idx_q in range(idx_p,n_kernel):\n",
        "            sum_acc = 0.\n",
        "            idx_l, idx_m = pandq[idx_p]\n",
        "            idx_l_prime, idx_m_prime = pandq[idx_q]\n",
        "            for idx_i in range(kernel_size_half,ni_image-kernel_size+kernel_size_half+1):\n",
        "                for idx_j in range(kernel_size_half,nj_image-kernel_size+kernel_size_half+1):\n",
        "                    sum_acc += reference_image[idx_i + idx_l, idx_j + idx_m] * reference_image[idx_i + idx_l_prime,idx_j + idx_m_prime]  * weights[idx_i, idx_j]\n",
        "            u_matrix[idx_p, idx_q] = sum_acc\n",
        "            u_matrix[idx_q, idx_p] = sum_acc\n",
        "\n",
        "    for idx_p in [n_kernel]:\n",
        "        for idx_q in range(n_kernel):\n",
        "            sum_acc = 0.\n",
        "            idx_l = kernel_size\n",
        "            idx_m = kernel_size\n",
        "            idx_l_prime, idx_m_prime = pandq[idx_q]\n",
        "            for idx_i in range(kernel_size_half,ni_image-kernel_size+kernel_size_half+1):\n",
        "                for idx_j in range(kernel_size_half,nj_image-kernel_size+kernel_size_half+1):\n",
        "                    sum_acc += reference_image[idx_i + idx_l_prime, idx_j + idx_m_prime] * weights[idx_i, idx_j]\n",
        "            u_matrix[idx_p, idx_q] = sum_acc\n",
        "    \n",
        "    for idx_p in range(n_kernel):\n",
        "        for idx_q in [n_kernel]:\n",
        "            sum_acc = 0.\n",
        "            idx_l, idx_m = pandq[idx_p]\n",
        "            idx_l_prime = kernel_size\n",
        "            idl_m_prime = kernel_size\n",
        "            for idx_i in range(kernel_size_half,ni_image-kernel_size+kernel_size_half+1):\n",
        "                for idx_j in range(kernel_size_half, nj_image-kernel_size+kernel_size_half+1):\n",
        "                    sum_acc += reference_image[idx_i + idx_l, idx_j + idx_m] * weights[idx_i, idx_j] \n",
        "            u_matrix[idx_p, idx_q] = sum_acc\n",
        "\n",
        "    sum_acc = 0.\n",
        "    for idx_i in range(ni_image):\n",
        "        for idx_j in range(nj_image):\n",
        "            sum_acc += weights[idx_i, idx_j] \n",
        "    u_matrix[n_kernel, n_kernel] = sum_acc\n",
        "    \n",
        "    return u_matrix\n",
        "\n",
        "def bvector_construction(np.ndarray[DTYPE_t, ndim = 2] reference_image,np.ndarray[DTYPE_t, ndim = 2] data_image,np.ndarray[DTYPE_t, ndim = 2] weights, pandq, n_kernel_np, kernel_size_np):\n",
        "\n",
        "    cdef int ni_image = np.shape(data_image)[0]\n",
        "    cdef int nj_image = np.shape(data_image)[1]\n",
        "    cdef double sum_acc = 0.\n",
        "    cdef int idx_l,idx_m,idx_l_prime,idx_m_prime,idx_i,idx_j\n",
        "    cdef int kernel_size = np.int(kernel_size_np)\n",
        "    cdef int kernel_size_half = np.int(kernel_size_np)/2\n",
        "    cdef int n_kernel = np.int(n_kernel_np)\n",
        "        \n",
        "    cdef np.ndarray b_vector = np.zeros([n_kernel + 1], dtype=DTYPE)\n",
        "    for idx_p in range(n_kernel):\n",
        "        idx_l, idx_m = pandq[idx_p]\n",
        "        sum_acc = 0.\n",
        "        for idx_i in range(kernel_size_half,ni_image-kernel_size+kernel_size_half+1):\n",
        "            for idx_j in range(kernel_size_half,nj_image-kernel_size+kernel_size_half+1):\n",
        "                   sum_acc += data_image[idx_i, idx_j] * reference_image[idx_i + idx_l , idx_j + idx_m ] * weights[idx_i, idx_j]\n",
        "        b_vector[idx_p] = sum_acc\n",
        "\n",
        "    sum_acc = 0.\n",
        "    for idx_i in range(ni_image):\n",
        "        for idx_j in range(nj_image):\n",
        "            sum_acc += data_image[idx_i, idx_j] * weights[idx_i, idx_j]\n",
        "    b_vector[n_kernel] = sum_acc\n",
        "\n",
        "    return b_vector\n",
        "\n",
        "\n",
        "## Specify all the functions required ##\n",
        "\n",
        "def extend_image(image, kernel_size):\n",
        "    image_extended = np.zeros((np.shape(image)[0] + 2 * kernel_size,\n",
        "                             np.shape(image)[1] + 2 * kernel_size))\n",
        "    image_extended[kernel_size:-kernel_size, kernel_size:-kernel_size] = np.array(image, float)\n",
        "    \n",
        "    return image_extended\n",
        "\n",
        "# function to build the kernel, U matrix and b vector\n",
        "def construct_kernel_and_matrices(kernel_size, R, I, weights):\n",
        "\n",
        "    pandq = []\n",
        "    n_kernel = kernel_size * kernel_size\n",
        "    ncount = 0\n",
        "    half_kernel_size = int(int(kernel_size) / 2)\n",
        "    for lidx in range(kernel_size):\n",
        "        for midx in range(kernel_size):\n",
        "            pandq.append((lidx - half_kernel_size, midx - half_kernel_size))\n",
        "\n",
        "\n",
        "    R = R.astype('float64')\n",
        "    I =  I.astype('float64')\n",
        "    weights = weights.astype('float64')\n",
        "\n",
        "    start_time = time.time()\n",
        "    U = umatrix_construction(R, weights, pandq, n_kernel, kernel_size)\n",
        "    b = bvector_construction(R, I, weights, pandq, n_kernel, kernel_size)\n",
        "    print(\"--- Finished U and b construction in %s seconds ---\" % (time.time() - start_time))\n",
        "    return U, b\n",
        "\n",
        "\n",
        "# define a function for the least-squares solution\n",
        "def lstsq_solution(R, I, U, b, kernel_size):\n",
        "    \n",
        "    lstsq_result = np.linalg.lstsq(np.array(U), np.array(b), rcond=None)\n",
        "    a_vector = lstsq_result[0]\n",
        "    lstsq_fit = np.dot(np.array(U), a_vector)\n",
        "    resid = np.array(b) - lstsq_fit\n",
        "    reduced_chisqr = np.sum(resid ** 2) / (float(kernel_size * kernel_size))\n",
        "    lstsq_cov = np.dot(np.array(U).T, np.array(U)) * reduced_chisqr\n",
        "    resivar = np.var(resid, ddof=0) * float(len(a_vector))\n",
        "    \n",
        "    # use pinv in order to stabilize calculation\n",
        "    a_var = np.diag(np.linalg.pinv(lstsq_cov) * resivar)\n",
        "\n",
        "    a_vector_err = np.sqrt(a_var)\n",
        "    output_kernel = np.zeros(kernel_size * kernel_size, dtype=float)\n",
        "    if len(a_vector) > kernel_size * kernel_size:\n",
        "        output_kernel = a_vector[:-1]\n",
        "    else:\n",
        "        output_kernel = a_vector\n",
        "    output_kernel = output_kernel.reshape((kernel_size, kernel_size))\n",
        "\n",
        "    err_kernel = np.zeros(kernel_size * kernel_size, dtype=float)\n",
        "    if len(a_vector) > kernel_size * kernel_size:\n",
        "        err_kernel = a_vector_err[:-1]\n",
        "        err_kernel = err_kernel.reshape((kernel_size, kernel_size))\n",
        "    else:\n",
        "        err_kernel = a_vector_err\n",
        "        err_kernel = err_kernel.reshape((kernel_size, kernel_size))\n",
        "\n",
        "    output_kernel_2 = np.flip(np.flip(output_kernel, 0), 1)\n",
        "    err_kernel_2 = np.flip(np.flip(err_kernel, 0), 1)\n",
        "    bkg_kernel = a_vector[-1]\n",
        "    output_kernel_2.shape\n",
        "\n",
        "    return output_kernel_2, bkg_kernel"
      ],
      "execution_count": null,
      "outputs": []
    },
    {
      "cell_type": "code",
      "metadata": {
        "id": "DJ1PDV3UOVu4",
        "colab_type": "code",
        "colab": {
          "base_uri": "https://localhost:8080/",
          "height": 562
        },
        "outputId": "f10f819e-eada-4bce-b252-e758247cb912"
      },
      "source": [
        "## load images, reference and master flat ##\n",
        "## this can take a while in colab\n",
        "\n",
        "## path to images\n",
        "path = '/content/drive/My Drive/PyTorchDIA - Real Image Tests/Sinistro Simulations'\n",
        "\n",
        "## reference\n",
        "ref_file = os.path.join(path, 'ref_lsc_verycrowded.fits')\n",
        "ref_data = getdata(ref_file, header=True)\n",
        "ref = ref_data[0]\n",
        "\n",
        "## data image\n",
        "image_file = os.path.join(path, 'imag_lsc_verycrowded.fits')\n",
        "image_data = getdata(image_file, header=True)\n",
        "image = image_data[0]\n",
        "\n",
        "## master flat\n",
        "master_flat = np.ones(ref.shape)\n",
        "\n",
        "## crop reference and master flat ##\n",
        "#crop = 60\n",
        "crop = 0\n",
        "ref = ref[crop:ref.shape[0]-crop, crop:ref.shape[1]-crop]\n",
        "image = image[crop:image.shape[0]-crop, crop:image.shape[1]-crop]\n",
        "master_flat = master_flat[crop:master_flat.shape[0]-crop, crop:master_flat.shape[1]-crop]\n",
        "\n",
        "plt.title('Reference')\n",
        "plt.imshow(ref)\n",
        "plt.colorbar()\n",
        "plt.show()\n",
        "\n",
        "plt.title('Data image')\n",
        "plt.imshow(image)\n",
        "plt.colorbar()\n",
        "plt.show()\n",
        "\n",
        "\n",
        "## ensure dtype=np.float32\n",
        "ref = np.array(ref, dtype=np.float32)\n",
        "image = np.array(image, dtype=np.float32)\n",
        "master_flat = np.array(master_flat, dtype=np.float32)\n",
        "\n",
        "print(ref.shape, image.shape)"
      ],
      "execution_count": null,
      "outputs": [
        {
          "output_type": "display_data",
          "data": {
            "image/png": "[encoded data removed]",
            "text/plain": [
              "<Figure size 432x288 with 2 Axes>"
            ]
          },
          "metadata": {
            "tags": [],
            "needs_background": "light"
          }
        },
        {
          "output_type": "display_data",
          "data": {
            "image/png": "[encoded data removed]",
            "text/plain": [
              "<Figure size 432x288 with 2 Axes>"
            ]
          },
          "metadata": {
            "tags": [],
            "needs_background": "light"
          }
        },
        {
          "output_type": "stream",
          "text": [
            "(1000, 1000) (1000, 1000)\n"
          ],
          "name": "stdout"
        }
      ]
    },
    {
      "cell_type": "code",
      "metadata": {
        "id": "4UGBx4nDRT20",
        "colab_type": "code",
        "colab": {
          "base_uri": "https://localhost:8080/",
          "height": 1000
        },
        "outputId": "dca4b5ef-34db-4222-fdc6-059454033e7f"
      },
      "source": [
        "## run this cell once to load gpu, then run again for actual test\n",
        "## gpu overhead associated with first loading it will screw with the\n",
        "## actual solutiontimes for the very first image\n",
        "\n",
        "torch.backends.cudnn.enabled = True\n",
        "torch.backends.cudnn.deterministic = False\n",
        "torch.backends.cudnn.benchmark = False\n",
        "\n",
        "\n",
        "# define function to return fit quality metrics\n",
        "def metrics(M, I, noise_map, kernel_size, mask):\n",
        "    \n",
        "    # crop image edges to exlcude convolution artefacts\n",
        "    M = M[kernel_size:M.shape[0]-kernel_size, kernel_size:M.shape[1]-kernel_size]\n",
        "    I = I[kernel_size:I.shape[0]-kernel_size, kernel_size:I.shape[1]-kernel_size]\n",
        "    noise_map = noise_map[kernel_size:noise_map.shape[0]-kernel_size, kernel_size:noise_map.shape[1]-kernel_size]\n",
        "    mask = mask[kernel_size:mask.shape[0]-kernel_size, kernel_size:mask.shape[1]-kernel_size]\n",
        "    \n",
        "    # calculate metrics\n",
        "    #x[~np.array(mask)]\n",
        "    N_data = len(I[~mask].flatten())\n",
        "    MFB = 1./(N_data) * np.sum((I - M)/noise_map)\n",
        "    MFV = 1./(N_data - 1) * np.sum((((I - M)/noise_map) - MFB)**2)\n",
        "    return MFB, MFV\n",
        "\n",
        "# cutout stamp around position of selected stars\n",
        "def make_stamp(image, pos, stamp_size):\n",
        "    rad = np.int(stamp_size/2)\n",
        "    x_centroid, y_centroid = pos[1], pos[0]\n",
        "    x_max, x_min = x_centroid + rad, x_centroid - rad\n",
        "    y_max, y_min = y_centroid + rad, y_centroid - rad\n",
        "    stamp = image[x_min:x_max+1, y_min:y_max+1]\n",
        "    return stamp\n",
        "\n",
        "# cutout stamp around position of selected stars\n",
        "def make_fit_cutout(image_stamp, c_size):\n",
        "    centre = np.int(image_stamp.shape[0]/2)\n",
        "    radius = np.int((c_size/2))\n",
        "    cutout = image_stamp[centre - radius:centre + radius + 1, centre - radius:centre + radius + 1]\n",
        "    return cutout\n",
        "\n",
        "## sky subtract reference\n",
        "print('Sky [ADU]:', np.median(image))\n",
        "ref -= np.median(ref)\n",
        "\n",
        "\n",
        "start_time = time.time()\n",
        "\n",
        "SD_steps = 25000\n",
        "#ks = 19\n",
        "\n",
        "kernel_sizes = [5, 7, 9, 11, 13, 15, 17, 19, 21, 25, 27, 29, 31, 33, 49]\n",
        "#kernel_sizes = [27, 29, 31]\n",
        "kernel_sizes = [19]\n",
        "times = []\n",
        "\n",
        "\n",
        "#for i in range(0, 5):\n",
        "for ks in kernel_sizes:\n",
        "  print('\\nKernel size:', ks)\n",
        "  \n",
        "  for i in range(0, 1):\n",
        "    start = time.time()\n",
        "    \n",
        "    kernel, B0, failed = PyTorchDIA_FullLikelihood_lossconv.DIA(ref,\n",
        "                                image,\n",
        "                                master_flat, # flatfield\n",
        "                                read_noise = 0.,\n",
        "                                ks = ks,\n",
        "                                lr_kernel = 1e-3,\n",
        "                                lr_B = 1e2,\n",
        "                                SD_steps = SD_steps,\n",
        "                                Newton_tol = 1e-6,\n",
        "                                poly_degree=0,\n",
        "                                fast=True,\n",
        "                                tol = 1e-9,\n",
        "                                max_iterations = SD_steps + 25,\n",
        "                                fisher=False,\n",
        "                                show_convergence_plots=True)\n",
        "    '''\n",
        "    kernel, B0, failed = PyTorchDIA_FullLikelihood_lossconv_double.DIA(ref,\n",
        "                                image,\n",
        "                                master_flat, # flatfield\n",
        "                                read_noise = 0.,\n",
        "                                ks = ks,\n",
        "                                lr_kernel = 1e-3,\n",
        "                                lr_B = 1e2,\n",
        "                                SD_steps = SD_steps,\n",
        "                                Newton_tol = 1e-6,\n",
        "                                poly_degree=0,\n",
        "                                fast=True,\n",
        "                                tol = 1e-9,\n",
        "                                max_iterations = SD_steps + 25,\n",
        "                                fisher=False,\n",
        "                                show_convergence_plots=True)\n",
        "    '''\n",
        "    times.append(time.time() - start)\n",
        "\n",
        "# inspect kernel\n",
        "plt.title('Normal kernel')\n",
        "plt.imshow(kernel)\n",
        "plt.show()\n",
        "\n",
        "\n",
        "ext_ref = extend_image(ref, ks)\n",
        "ext_M = convolve2d(ext_ref, kernel, mode='same') + B0\n",
        "M = ext_M[ks:ext_M.shape[0]-ks, ks:ext_M.shape[1]-ks]\n",
        "\n",
        "# noise model\n",
        "G = 1\n",
        "sigma0 = 5\n",
        "NM = np.sqrt((sigma0**2/master_flat**2) + (M/G*master_flat))\n",
        "\n",
        "# difference image and normalised residuals\n",
        "D = M - image\n",
        "residuals = D/NM\n",
        "\n",
        "# inspect plots of residuals\n",
        "plt.figure(figsize=(5,5))\n",
        "plt.hist(residuals.flatten(), bins='auto', density=True)\n",
        "x = np.linspace(-5, 5, 100)\n",
        "plt.plot(x, norm.pdf(x, 0, 1))\n",
        "plt.xlim(-5, 5)\n",
        "plt.xticks(fontsize=20)\n",
        "plt.yticks(fontsize=20)\n",
        "plt.xlabel('Normalised residuals', fontsize=20)\n",
        "plt.ylabel('Probability', fontsize=20)\n",
        "#plt.savefig(os.path.join(path, 'NormalisedResids.png'), bbox_inches='tight', overwrite=True)\n",
        "plt.show()\n",
        "\n",
        "print(times)\n",
        "print(np.median(times))"
      ],
      "execution_count": null,
      "outputs": [
        {
          "output_type": "stream",
          "text": [
            "Sky [ADU]: 259.41394\n",
            "\n",
            "Kernel size: 19\n",
            "--- Time to move data onto GPU: 0.002329587936401367 ---\n",
            "Check dtype of weights and data\n",
            "torch.float32 torch.float32 torch.float32 torch.float32\n",
            "Check shapes of data and model parameters\n",
            "torch.Size([1, 1, 1000, 1000]) torch.Size([1, 1, 1000, 1000]) torch.Size([1, 1, 19, 19]) torch.Size([1])\n",
            "Switching to Quasi-Newton step after 3104 SD steps\n",
            "1.0003770589828491 207.7650146484375\n",
            "'Speedy' convergence reached!\n",
            "SD steps taken: 3104\n",
            "Newton steps taken: 18\n",
            "--- Finished kernel and background fit in 47.34123778343201 seconds ---\n",
            "Parameter containing:\n",
            "tensor([207.7650], device='cuda:0', requires_grad=True)\n",
            "Photometric scaling: tensor(1.0004, device='cuda:0', grad_fn=<SumBackward0>)\n",
            "B_0: 207.7650146484375\n"
          ],
          "name": "stdout"
        },
        {
          "output_type": "display_data",
          "data": {
            "image/png": "[encoded data removed]",
            "text/plain": [
              "<Figure size 432x288 with 1 Axes>"
            ]
          },
          "metadata": {
            "tags": [],
            "needs_background": "light"
          }
        },
        {
          "output_type": "stream",
          "text": [
            "This version does not print parameter values vs iterations yet!\n",
            "--- Finished in a total of 47.47581124305725 seconds ---\n"
          ],
          "name": "stdout"
        },
        {
          "output_type": "display_data",
          "data": {
            "image/png": "[encoded data removed]",
            "text/plain": [
              "<Figure size 432x288 with 1 Axes>"
            ]
          },
          "metadata": {
            "tags": [],
            "needs_background": "light"
          }
        },
        {
          "output_type": "display_data",
          "data": {
            "image/png": "[encoded data removed]",
            "text/plain": [
              "<Figure size 360x360 with 1 Axes>"
            ]
          },
          "metadata": {
            "tags": [],
            "needs_background": "light"
          }
        },
        {
          "output_type": "stream",
          "text": [
            "[47.47587847709656]\n",
            "47.47587847709656\n"
          ],
          "name": "stdout"
        }
      ]
    },
    {
      "cell_type": "code",
      "metadata": {
        "id": "Zaic4XfY0pbt",
        "colab_type": "code",
        "colab": {
          "base_uri": "https://localhost:8080/",
          "height": 54
        },
        "outputId": "61bafc6c-3266-4b8d-af21-e2b179154853"
      },
      "source": [
        "print(times)"
      ],
      "execution_count": null,
      "outputs": [
        {
          "output_type": "stream",
          "text": [
            "[11.187109470367432, 4.961020469665527, 16.510274171829224, 31.532198429107666, 53.60998868942261, 22.30297017097473, 29.5717134475708, 38.72928810119629, 46.00723052024841, 64.46026229858398, 73.99071025848389, 83.67208313941956, 94.38430142402649, 109.54260420799255]\n"
          ],
          "name": "stdout"
        }
      ]
    },
    {
      "cell_type": "code",
      "metadata": {
        "id": "rFkW48m5Smc4",
        "colab_type": "code",
        "colab": {
          "base_uri": "https://localhost:8080/",
          "height": 578
        },
        "outputId": "d414dba1-59d9-4de7-8ef3-c9261df34b6f"
      },
      "source": [
        "## plots\n",
        "fontsize = 16\n",
        "\n",
        "plt.figure()\n",
        "plt.scatter(total_times, image_FWHMs)\n",
        "plt.xticks(fontsize=fontsize)\n",
        "plt.yticks(fontsize=fontsize)\n",
        "plt.xlabel('Time to kernel solution (3 iterations)', fontsize=fontsize)\n",
        "plt.ylabel('Image FWHM', fontsize=fontsize)\n",
        "\n",
        "plt.figure()\n",
        "plt.scatter(total_times, image_SNRs)\n",
        "plt.xticks(fontsize=fontsize)\n",
        "plt.yticks(fontsize=fontsize)\n",
        "plt.xlabel('Time to kernel solution (3 iterations)', fontsize=fontsize)\n",
        "plt.ylabel('Image SNR', fontsize=fontsize)"
      ],
      "execution_count": null,
      "outputs": [
        {
          "output_type": "execute_result",
          "data": {
            "text/plain": [
              "Text(0, 0.5, 'Image SNR')"
            ]
          },
          "metadata": {
            "tags": []
          },
          "execution_count": 10
        },
        {
          "output_type": "display_data",
          "data": {
            "image/png": "[encoded data removed]",
            "text/plain": [
              "<Figure size 432x288 with 1 Axes>"
            ]
          },
          "metadata": {
            "tags": [],
            "needs_background": "light"
          }
        },
        {
          "output_type": "display_data",
          "data": {
            "image/png": "[encoded data removed]",
            "text/plain": [
              "<Figure size 432x288 with 1 Axes>"
            ]
          },
          "metadata": {
            "tags": [],
            "needs_background": "light"
          }
        }
      ]
    },
    {
      "cell_type": "code",
      "metadata": {
        "id": "QKAYoYpbphqP",
        "colab_type": "code",
        "colab": {
          "base_uri": "https://localhost:8080/",
          "height": 86
        },
        "outputId": "50a7bc79-5119-4fcc-e649-965e0c1f45cd"
      },
      "source": [
        "# other metrics info\n",
        "print(len(total_times), len(image_FWHMs), len(image_SNRs))\n",
        "print('Median solution time:', np.median(total_times))\n",
        "print('Median FWHM:', np.median(image_FWHMs))\n",
        "print('Median SNR:', np.median(image_SNRs))\n"
      ],
      "execution_count": null,
      "outputs": [
        {
          "output_type": "stream",
          "text": [
            "158 158 158\n",
            "Median solution time: 2.966955542564392\n",
            "Median FWHM: 7.478626311636683\n",
            "Median SNR: 261.7448\n"
          ],
          "name": "stdout"
        }
      ]
    },
    {
      "cell_type": "code",
      "metadata": {
        "id": "DBPzGPpAxhzG",
        "colab_type": "code",
        "colab": {
          "base_uri": "https://localhost:8080/",
          "height": 34
        },
        "outputId": "a51a4461-250c-47b6-bca1-6833f0f64826"
      },
      "source": [
        "out = np.vstack((total_times, image_FWHMs, image_SNRs)).T\n",
        "print(out.shape)\n",
        "np.savetxt(os.path.join(path,'performance_data_112x112_25x25_no_read_noise.txt'), out)"
      ],
      "execution_count": null,
      "outputs": [
        {
          "output_type": "stream",
          "text": [
            "(158, 3)\n"
          ],
          "name": "stdout"
        }
      ]
    },
    {
      "cell_type": "code",
      "metadata": {
        "id": "QX3L1jyAEfQu",
        "colab_type": "code",
        "colab": {}
      },
      "source": [
        "    '''\n",
        "    ### pyDANDIA ###\n",
        "    pyDANDIA_start = time.time()\n",
        "\n",
        "    ss = 19\n",
        "\n",
        "    mask = np.zeros(image.shape)\n",
        "\n",
        "\n",
        "    for iters in range(0, 3):\n",
        "        \n",
        "        # pixel uncertanties\n",
        "        sigma0 = 2.55 # read noise\n",
        "        N = N_images[i] # number of images\n",
        "        gain_CCD = 25.8 # CCD gain\n",
        "        gain_EM = 300. # EM gain\n",
        "        G = gain_CCD / gain_EM # Total gain\n",
        "        excess_noise_factor = 2 # EMCCD fudge factor\n",
        "        if iters == 0:\n",
        "            shot_noise = image/(G*flat)\n",
        "        else:\n",
        "            shot_noise = model/(G*flat)   \n",
        "        read_noise = N*sigma0**2 / flat**2\n",
        "        var_model = excess_noise_factor*(shot_noise + read_noise)\n",
        "        pixel_uncertanties = np.sqrt(var_model) \n",
        "        \n",
        "        # Noise Model\n",
        "        weights = 1./var_model\n",
        "        # mask outliers\n",
        "        weights[np.where(mask == 1)] = 1e-198\n",
        "        print('\\nMasked pixels (pyDANDIA):', np.sum(mask))\n",
        "        print('\\npyDANDIA solution, iter %d' % iters)\n",
        "        ext_ref = extend_image(ref, ss)\n",
        "        ext_imag = extend_image(image, ss)\n",
        "        ext_weights = extend_image(weights, ss)\n",
        "\n",
        "        U, b = construct_kernel_and_matrices(ss, ext_ref, ext_imag, ext_weights)\n",
        "        kernel, B0 = lstsq_solution(ext_ref, ext_imag, U, b, ss)\n",
        "        print('P:', np.sum(kernel))\n",
        "        print('B0:', B0)\n",
        "        start_conv2d = time.time()\n",
        "        model = convolve2d(ref, kernel, mode='same') + B0\n",
        "        print('Conv2d time:', time.time() - start_conv2d)\n",
        "        print('weights shape:', weights.shape)\n",
        "        print('image shape:', image.shape)\n",
        "        print('model:', model.shape)\n",
        "        norm_resids = np.sqrt(weights)*(image - model)\n",
        "        mask[np.where(np.abs(norm_resids)>1e99)] = 1\n",
        "        \n",
        "        print('Sum abs(norm_resids):', np.sum(np.abs(norm_resids)))\n",
        "        '''\n",
        "        '''\n",
        "        plt.figure(figsize=(5,5))\n",
        "        plt.hist(norm_resids.flatten(), bins='auto', density=True)\n",
        "        #x = np.linspace(mu - 3*sigma, mu + 3*sigma, 100)\n",
        "        x = np.linspace(-5, 5, 100)\n",
        "        plt.plot(x, norm.pdf(x, 0, 1))\n",
        "        plt.xlim(-5, 5)\n",
        "        plt.xticks(fontsize=20)\n",
        "        plt.yticks(fontsize=20)\n",
        "        plt.xlabel('Normalised residuals', fontsize=20)\n",
        "        plt.ylabel('Probability', fontsize=20)\n",
        "        #plt.savefig(os.path.join(path, 'NormalisedResids.png'), bbox_inches='tight', overwrite=True)\n",
        "        plt.show()\n",
        "        '''\n",
        "        '''\n",
        "    # solution time\n",
        "    #times_to_kernel_solution.append(solve_times)\n",
        "    total_time = time.time() - pyDANDIA_start\n",
        "    total_times.append(total_time)\n",
        "    print('pyDANDIA time:', total_time)\n",
        "\n",
        "    '''"
      ],
      "execution_count": null,
      "outputs": []
    }
  ]
}